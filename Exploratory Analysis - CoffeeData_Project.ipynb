{
 "cells": [
  {
   "cell_type": "markdown",
   "id": "71decc40",
   "metadata": {},
   "source": [
    "## Import all the req libraries and load the data set.\n"
   ]
  },
  {
   "cell_type": "code",
   "execution_count": 98,
   "id": "e4f0f74d",
   "metadata": {},
   "outputs": [],
   "source": [
    "import pandas as pd\n",
    "import numpy as np\n",
    "import matplotlib.pyplot as plt\n",
    "import seaborn as sns"
   ]
  },
  {
   "cell_type": "code",
   "execution_count": 99,
   "id": "7c6846a6",
   "metadata": {},
   "outputs": [
    {
     "data": {
      "text/html": [
       "<div>\n",
       "<style scoped>\n",
       "    .dataframe tbody tr th:only-of-type {\n",
       "        vertical-align: middle;\n",
       "    }\n",
       "\n",
       "    .dataframe tbody tr th {\n",
       "        vertical-align: top;\n",
       "    }\n",
       "\n",
       "    .dataframe thead th {\n",
       "        text-align: right;\n",
       "    }\n",
       "</style>\n",
       "<table border=\"1\" class=\"dataframe\">\n",
       "  <thead>\n",
       "    <tr style=\"text-align: right;\">\n",
       "      <th></th>\n",
       "      <th>Unnamed: 0</th>\n",
       "      <th>ID</th>\n",
       "      <th>Country of Origin</th>\n",
       "      <th>Farm Name</th>\n",
       "      <th>Lot Number</th>\n",
       "      <th>Mill</th>\n",
       "      <th>ICO Number</th>\n",
       "      <th>Company</th>\n",
       "      <th>Altitude</th>\n",
       "      <th>Region</th>\n",
       "      <th>...</th>\n",
       "      <th>Total Cup Points</th>\n",
       "      <th>Moisture Percentage</th>\n",
       "      <th>Category One Defects</th>\n",
       "      <th>Quakers</th>\n",
       "      <th>Color</th>\n",
       "      <th>Category Two Defects</th>\n",
       "      <th>Expiration</th>\n",
       "      <th>Certification Body</th>\n",
       "      <th>Certification Address</th>\n",
       "      <th>Certification Contact</th>\n",
       "    </tr>\n",
       "  </thead>\n",
       "  <tbody>\n",
       "    <tr>\n",
       "      <th>0</th>\n",
       "      <td>0</td>\n",
       "      <td>0</td>\n",
       "      <td>Colombia</td>\n",
       "      <td>Finca El Paraiso</td>\n",
       "      <td>CQU2022015</td>\n",
       "      <td>Finca El Paraiso</td>\n",
       "      <td>NaN</td>\n",
       "      <td>Coffee Quality Union</td>\n",
       "      <td>1700-1930</td>\n",
       "      <td>Piendamo,Cauca</td>\n",
       "      <td>...</td>\n",
       "      <td>89.33</td>\n",
       "      <td>11.8</td>\n",
       "      <td>0</td>\n",
       "      <td>0</td>\n",
       "      <td>green</td>\n",
       "      <td>3</td>\n",
       "      <td>September 21st, 2023</td>\n",
       "      <td>Japan Coffee Exchange</td>\n",
       "      <td>〒413-0002 静岡県熱海市伊豆山１１７３−５８ 1173-58 Izusan, Ata...</td>\n",
       "      <td>松澤　宏樹　Koju Matsuzawa - +81(0)9085642901</td>\n",
       "    </tr>\n",
       "    <tr>\n",
       "      <th>1</th>\n",
       "      <td>1</td>\n",
       "      <td>1</td>\n",
       "      <td>Taiwan</td>\n",
       "      <td>Royal Bean Geisha Estate</td>\n",
       "      <td>The 2022 Pacific Rim Coffee Summit,T037</td>\n",
       "      <td>Royal Bean Geisha Estate</td>\n",
       "      <td>NaN</td>\n",
       "      <td>Taiwan Coffee Laboratory</td>\n",
       "      <td>1200</td>\n",
       "      <td>Chiayi</td>\n",
       "      <td>...</td>\n",
       "      <td>87.58</td>\n",
       "      <td>10.5</td>\n",
       "      <td>0</td>\n",
       "      <td>0</td>\n",
       "      <td>blue-green</td>\n",
       "      <td>0</td>\n",
       "      <td>November 15th, 2023</td>\n",
       "      <td>Taiwan Coffee Laboratory 台灣咖啡研究室</td>\n",
       "      <td>QAHWAH CO., LTD 4F, No. 225, Sec. 3, Beixin Rd...</td>\n",
       "      <td>Lin, Jen-An Neil 林仁安 - 886-289116612</td>\n",
       "    </tr>\n",
       "  </tbody>\n",
       "</table>\n",
       "<p>2 rows × 41 columns</p>\n",
       "</div>"
      ],
      "text/plain": [
       "   Unnamed: 0  ID Country of Origin                 Farm Name  \\\n",
       "0           0   0          Colombia          Finca El Paraiso   \n",
       "1           1   1            Taiwan  Royal Bean Geisha Estate   \n",
       "\n",
       "                                Lot Number                      Mill  \\\n",
       "0                               CQU2022015          Finca El Paraiso   \n",
       "1  The 2022 Pacific Rim Coffee Summit,T037  Royal Bean Geisha Estate   \n",
       "\n",
       "  ICO Number                   Company   Altitude          Region  ...  \\\n",
       "0        NaN      Coffee Quality Union  1700-1930  Piendamo,Cauca  ...   \n",
       "1        NaN  Taiwan Coffee Laboratory       1200          Chiayi  ...   \n",
       "\n",
       "  Total Cup Points  Moisture Percentage Category One Defects Quakers  \\\n",
       "0            89.33                 11.8                    0       0   \n",
       "1            87.58                 10.5                    0       0   \n",
       "\n",
       "        Color Category Two Defects            Expiration  \\\n",
       "0       green                    3  September 21st, 2023   \n",
       "1  blue-green                    0   November 15th, 2023   \n",
       "\n",
       "                 Certification Body  \\\n",
       "0             Japan Coffee Exchange   \n",
       "1  Taiwan Coffee Laboratory 台灣咖啡研究室   \n",
       "\n",
       "                               Certification Address  \\\n",
       "0  〒413-0002 静岡県熱海市伊豆山１１７３−５８ 1173-58 Izusan, Ata...   \n",
       "1  QAHWAH CO., LTD 4F, No. 225, Sec. 3, Beixin Rd...   \n",
       "\n",
       "                     Certification Contact  \n",
       "0  松澤　宏樹　Koju Matsuzawa - +81(0)9085642901  \n",
       "1     Lin, Jen-An Neil 林仁安 - 886-289116612  \n",
       "\n",
       "[2 rows x 41 columns]"
      ]
     },
     "execution_count": 99,
     "metadata": {},
     "output_type": "execute_result"
    }
   ],
   "source": [
    "coffee_data = pd.read_csv(\"C:/Users/sravy/OneDrive/Documents/MSISOM/Sample Practice  Proj/df_arabica_clean.csv\")\n",
    "coffee_data.head(2)"
   ]
  },
  {
   "cell_type": "markdown",
   "id": "41413ec2",
   "metadata": {},
   "source": [
    "## Analysis of data and relation b/w the variables."
   ]
  },
  {
   "cell_type": "code",
   "execution_count": 100,
   "id": "52bd3ceb",
   "metadata": {},
   "outputs": [
    {
     "name": "stdout",
     "output_type": "stream",
     "text": [
      "<class 'pandas.core.frame.DataFrame'>\n",
      "RangeIndex: 207 entries, 0 to 206\n",
      "Data columns (total 41 columns):\n",
      " #   Column                 Non-Null Count  Dtype  \n",
      "---  ------                 --------------  -----  \n",
      " 0   Unnamed: 0             207 non-null    int64  \n",
      " 1   ID                     207 non-null    int64  \n",
      " 2   Country of Origin      207 non-null    object \n",
      " 3   Farm Name              205 non-null    object \n",
      " 4   Lot Number             206 non-null    object \n",
      " 5   Mill                   204 non-null    object \n",
      " 6   ICO Number             75 non-null     object \n",
      " 7   Company                207 non-null    object \n",
      " 8   Altitude               206 non-null    object \n",
      " 9   Region                 205 non-null    object \n",
      " 10  Producer               206 non-null    object \n",
      " 11  Number of Bags         207 non-null    int64  \n",
      " 12  Bag Weight             207 non-null    object \n",
      " 13  In-Country Partner     207 non-null    object \n",
      " 14  Harvest Year           207 non-null    object \n",
      " 15  Grading Date           207 non-null    object \n",
      " 16  Owner                  207 non-null    object \n",
      " 17  Variety                201 non-null    object \n",
      " 18  Status                 207 non-null    object \n",
      " 19  Processing Method      202 non-null    object \n",
      " 20  Aroma                  207 non-null    float64\n",
      " 21  Flavor                 207 non-null    float64\n",
      " 22  Aftertaste             207 non-null    float64\n",
      " 23  Acidity                207 non-null    float64\n",
      " 24  Body                   207 non-null    float64\n",
      " 25  Balance                207 non-null    float64\n",
      " 26  Uniformity             207 non-null    float64\n",
      " 27  Clean Cup              207 non-null    float64\n",
      " 28  Sweetness              207 non-null    float64\n",
      " 29  Overall                207 non-null    float64\n",
      " 30  Defects                207 non-null    float64\n",
      " 31  Total Cup Points       207 non-null    float64\n",
      " 32  Moisture Percentage    207 non-null    float64\n",
      " 33  Category One Defects   207 non-null    int64  \n",
      " 34  Quakers                207 non-null    int64  \n",
      " 35  Color                  207 non-null    object \n",
      " 36  Category Two Defects   207 non-null    int64  \n",
      " 37  Expiration             207 non-null    object \n",
      " 38  Certification Body     207 non-null    object \n",
      " 39  Certification Address  207 non-null    object \n",
      " 40  Certification Contact  207 non-null    object \n",
      "dtypes: float64(13), int64(6), object(22)\n",
      "memory usage: 66.4+ KB\n"
     ]
    }
   ],
   "source": [
    "# print the information of the dataset.\n",
    "coffee_data.info()"
   ]
  },
  {
   "cell_type": "code",
   "execution_count": 101,
   "id": "21133064",
   "metadata": {},
   "outputs": [
    {
     "data": {
      "text/plain": [
       "Unnamed: 0                 int64\n",
       "ID                         int64\n",
       "Country of Origin         object\n",
       "Farm Name                 object\n",
       "Lot Number                object\n",
       "Mill                      object\n",
       "ICO Number                object\n",
       "Company                   object\n",
       "Altitude                  object\n",
       "Region                    object\n",
       "Producer                  object\n",
       "Number of Bags             int64\n",
       "Bag Weight                object\n",
       "In-Country Partner        object\n",
       "Harvest Year              object\n",
       "Grading Date              object\n",
       "Owner                     object\n",
       "Variety                   object\n",
       "Status                    object\n",
       "Processing Method         object\n",
       "Aroma                    float64\n",
       "Flavor                   float64\n",
       "Aftertaste               float64\n",
       "Acidity                  float64\n",
       "Body                     float64\n",
       "Balance                  float64\n",
       "Uniformity               float64\n",
       "Clean Cup                float64\n",
       "Sweetness                float64\n",
       "Overall                  float64\n",
       "Defects                  float64\n",
       "Total Cup Points         float64\n",
       "Moisture Percentage      float64\n",
       "Category One Defects       int64\n",
       "Quakers                    int64\n",
       "Color                     object\n",
       "Category Two Defects       int64\n",
       "Expiration                object\n",
       "Certification Body        object\n",
       "Certification Address     object\n",
       "Certification Contact     object\n",
       "dtype: object"
      ]
     },
     "execution_count": 101,
     "metadata": {},
     "output_type": "execute_result"
    }
   ],
   "source": [
    "# check the data types pf all the variables.\n",
    "coffee_data.dtypes"
   ]
  },
  {
   "cell_type": "code",
   "execution_count": 102,
   "id": "4cce27d1",
   "metadata": {},
   "outputs": [
    {
     "data": {
      "text/html": [
       "<div>\n",
       "<style scoped>\n",
       "    .dataframe tbody tr th:only-of-type {\n",
       "        vertical-align: middle;\n",
       "    }\n",
       "\n",
       "    .dataframe tbody tr th {\n",
       "        vertical-align: top;\n",
       "    }\n",
       "\n",
       "    .dataframe thead th {\n",
       "        text-align: right;\n",
       "    }\n",
       "</style>\n",
       "<table border=\"1\" class=\"dataframe\">\n",
       "  <thead>\n",
       "    <tr style=\"text-align: right;\">\n",
       "      <th></th>\n",
       "      <th>Unnamed: 0</th>\n",
       "      <th>ID</th>\n",
       "      <th>Number of Bags</th>\n",
       "      <th>Aroma</th>\n",
       "      <th>Flavor</th>\n",
       "      <th>Aftertaste</th>\n",
       "      <th>Acidity</th>\n",
       "      <th>Body</th>\n",
       "      <th>Balance</th>\n",
       "      <th>Uniformity</th>\n",
       "      <th>Clean Cup</th>\n",
       "      <th>Sweetness</th>\n",
       "      <th>Overall</th>\n",
       "      <th>Defects</th>\n",
       "      <th>Total Cup Points</th>\n",
       "      <th>Moisture Percentage</th>\n",
       "      <th>Category One Defects</th>\n",
       "      <th>Quakers</th>\n",
       "      <th>Category Two Defects</th>\n",
       "    </tr>\n",
       "  </thead>\n",
       "  <tbody>\n",
       "    <tr>\n",
       "      <th>count</th>\n",
       "      <td>207.000000</td>\n",
       "      <td>207.000000</td>\n",
       "      <td>207.000000</td>\n",
       "      <td>207.000000</td>\n",
       "      <td>207.000000</td>\n",
       "      <td>207.000000</td>\n",
       "      <td>207.00000</td>\n",
       "      <td>207.000000</td>\n",
       "      <td>207.000000</td>\n",
       "      <td>207.000000</td>\n",
       "      <td>207.0</td>\n",
       "      <td>207.0</td>\n",
       "      <td>207.000000</td>\n",
       "      <td>207.0</td>\n",
       "      <td>207.000000</td>\n",
       "      <td>207.000000</td>\n",
       "      <td>207.000000</td>\n",
       "      <td>207.000000</td>\n",
       "      <td>207.000000</td>\n",
       "    </tr>\n",
       "    <tr>\n",
       "      <th>mean</th>\n",
       "      <td>103.000000</td>\n",
       "      <td>103.000000</td>\n",
       "      <td>155.449275</td>\n",
       "      <td>7.721063</td>\n",
       "      <td>7.744734</td>\n",
       "      <td>7.599758</td>\n",
       "      <td>7.69029</td>\n",
       "      <td>7.640918</td>\n",
       "      <td>7.644058</td>\n",
       "      <td>9.990338</td>\n",
       "      <td>10.0</td>\n",
       "      <td>10.0</td>\n",
       "      <td>7.676812</td>\n",
       "      <td>0.0</td>\n",
       "      <td>83.706570</td>\n",
       "      <td>10.735266</td>\n",
       "      <td>0.135266</td>\n",
       "      <td>0.690821</td>\n",
       "      <td>2.251208</td>\n",
       "    </tr>\n",
       "    <tr>\n",
       "      <th>std</th>\n",
       "      <td>59.899917</td>\n",
       "      <td>59.899917</td>\n",
       "      <td>244.484868</td>\n",
       "      <td>0.287626</td>\n",
       "      <td>0.279613</td>\n",
       "      <td>0.275911</td>\n",
       "      <td>0.25951</td>\n",
       "      <td>0.233499</td>\n",
       "      <td>0.256299</td>\n",
       "      <td>0.103306</td>\n",
       "      <td>0.0</td>\n",
       "      <td>0.0</td>\n",
       "      <td>0.306359</td>\n",
       "      <td>0.0</td>\n",
       "      <td>1.730417</td>\n",
       "      <td>1.247468</td>\n",
       "      <td>0.592070</td>\n",
       "      <td>1.686918</td>\n",
       "      <td>2.950183</td>\n",
       "    </tr>\n",
       "    <tr>\n",
       "      <th>min</th>\n",
       "      <td>0.000000</td>\n",
       "      <td>0.000000</td>\n",
       "      <td>1.000000</td>\n",
       "      <td>6.500000</td>\n",
       "      <td>6.750000</td>\n",
       "      <td>6.670000</td>\n",
       "      <td>6.83000</td>\n",
       "      <td>6.830000</td>\n",
       "      <td>6.670000</td>\n",
       "      <td>8.670000</td>\n",
       "      <td>10.0</td>\n",
       "      <td>10.0</td>\n",
       "      <td>6.670000</td>\n",
       "      <td>0.0</td>\n",
       "      <td>78.000000</td>\n",
       "      <td>0.000000</td>\n",
       "      <td>0.000000</td>\n",
       "      <td>0.000000</td>\n",
       "      <td>0.000000</td>\n",
       "    </tr>\n",
       "    <tr>\n",
       "      <th>25%</th>\n",
       "      <td>51.500000</td>\n",
       "      <td>51.500000</td>\n",
       "      <td>1.000000</td>\n",
       "      <td>7.580000</td>\n",
       "      <td>7.580000</td>\n",
       "      <td>7.420000</td>\n",
       "      <td>7.50000</td>\n",
       "      <td>7.500000</td>\n",
       "      <td>7.500000</td>\n",
       "      <td>10.000000</td>\n",
       "      <td>10.0</td>\n",
       "      <td>10.0</td>\n",
       "      <td>7.500000</td>\n",
       "      <td>0.0</td>\n",
       "      <td>82.580000</td>\n",
       "      <td>10.100000</td>\n",
       "      <td>0.000000</td>\n",
       "      <td>0.000000</td>\n",
       "      <td>0.000000</td>\n",
       "    </tr>\n",
       "    <tr>\n",
       "      <th>50%</th>\n",
       "      <td>103.000000</td>\n",
       "      <td>103.000000</td>\n",
       "      <td>14.000000</td>\n",
       "      <td>7.670000</td>\n",
       "      <td>7.750000</td>\n",
       "      <td>7.580000</td>\n",
       "      <td>7.67000</td>\n",
       "      <td>7.670000</td>\n",
       "      <td>7.670000</td>\n",
       "      <td>10.000000</td>\n",
       "      <td>10.0</td>\n",
       "      <td>10.0</td>\n",
       "      <td>7.670000</td>\n",
       "      <td>0.0</td>\n",
       "      <td>83.750000</td>\n",
       "      <td>10.800000</td>\n",
       "      <td>0.000000</td>\n",
       "      <td>0.000000</td>\n",
       "      <td>1.000000</td>\n",
       "    </tr>\n",
       "    <tr>\n",
       "      <th>75%</th>\n",
       "      <td>154.500000</td>\n",
       "      <td>154.500000</td>\n",
       "      <td>275.000000</td>\n",
       "      <td>7.920000</td>\n",
       "      <td>7.920000</td>\n",
       "      <td>7.750000</td>\n",
       "      <td>7.87500</td>\n",
       "      <td>7.750000</td>\n",
       "      <td>7.790000</td>\n",
       "      <td>10.000000</td>\n",
       "      <td>10.0</td>\n",
       "      <td>10.0</td>\n",
       "      <td>7.920000</td>\n",
       "      <td>0.0</td>\n",
       "      <td>84.830000</td>\n",
       "      <td>11.500000</td>\n",
       "      <td>0.000000</td>\n",
       "      <td>1.000000</td>\n",
       "      <td>3.000000</td>\n",
       "    </tr>\n",
       "    <tr>\n",
       "      <th>max</th>\n",
       "      <td>206.000000</td>\n",
       "      <td>206.000000</td>\n",
       "      <td>2240.000000</td>\n",
       "      <td>8.580000</td>\n",
       "      <td>8.500000</td>\n",
       "      <td>8.420000</td>\n",
       "      <td>8.58000</td>\n",
       "      <td>8.250000</td>\n",
       "      <td>8.420000</td>\n",
       "      <td>10.000000</td>\n",
       "      <td>10.0</td>\n",
       "      <td>10.0</td>\n",
       "      <td>8.580000</td>\n",
       "      <td>0.0</td>\n",
       "      <td>89.330000</td>\n",
       "      <td>13.500000</td>\n",
       "      <td>5.000000</td>\n",
       "      <td>12.000000</td>\n",
       "      <td>16.000000</td>\n",
       "    </tr>\n",
       "  </tbody>\n",
       "</table>\n",
       "</div>"
      ],
      "text/plain": [
       "       Unnamed: 0          ID  Number of Bags       Aroma      Flavor  \\\n",
       "count  207.000000  207.000000      207.000000  207.000000  207.000000   \n",
       "mean   103.000000  103.000000      155.449275    7.721063    7.744734   \n",
       "std     59.899917   59.899917      244.484868    0.287626    0.279613   \n",
       "min      0.000000    0.000000        1.000000    6.500000    6.750000   \n",
       "25%     51.500000   51.500000        1.000000    7.580000    7.580000   \n",
       "50%    103.000000  103.000000       14.000000    7.670000    7.750000   \n",
       "75%    154.500000  154.500000      275.000000    7.920000    7.920000   \n",
       "max    206.000000  206.000000     2240.000000    8.580000    8.500000   \n",
       "\n",
       "       Aftertaste    Acidity        Body     Balance  Uniformity  Clean Cup  \\\n",
       "count  207.000000  207.00000  207.000000  207.000000  207.000000      207.0   \n",
       "mean     7.599758    7.69029    7.640918    7.644058    9.990338       10.0   \n",
       "std      0.275911    0.25951    0.233499    0.256299    0.103306        0.0   \n",
       "min      6.670000    6.83000    6.830000    6.670000    8.670000       10.0   \n",
       "25%      7.420000    7.50000    7.500000    7.500000   10.000000       10.0   \n",
       "50%      7.580000    7.67000    7.670000    7.670000   10.000000       10.0   \n",
       "75%      7.750000    7.87500    7.750000    7.790000   10.000000       10.0   \n",
       "max      8.420000    8.58000    8.250000    8.420000   10.000000       10.0   \n",
       "\n",
       "       Sweetness     Overall  Defects  Total Cup Points  Moisture Percentage  \\\n",
       "count      207.0  207.000000    207.0        207.000000           207.000000   \n",
       "mean        10.0    7.676812      0.0         83.706570            10.735266   \n",
       "std          0.0    0.306359      0.0          1.730417             1.247468   \n",
       "min         10.0    6.670000      0.0         78.000000             0.000000   \n",
       "25%         10.0    7.500000      0.0         82.580000            10.100000   \n",
       "50%         10.0    7.670000      0.0         83.750000            10.800000   \n",
       "75%         10.0    7.920000      0.0         84.830000            11.500000   \n",
       "max         10.0    8.580000      0.0         89.330000            13.500000   \n",
       "\n",
       "       Category One Defects     Quakers  Category Two Defects  \n",
       "count            207.000000  207.000000            207.000000  \n",
       "mean               0.135266    0.690821              2.251208  \n",
       "std                0.592070    1.686918              2.950183  \n",
       "min                0.000000    0.000000              0.000000  \n",
       "25%                0.000000    0.000000              0.000000  \n",
       "50%                0.000000    0.000000              1.000000  \n",
       "75%                0.000000    1.000000              3.000000  \n",
       "max                5.000000   12.000000             16.000000  "
      ]
     },
     "execution_count": 102,
     "metadata": {},
     "output_type": "execute_result"
    }
   ],
   "source": [
    "# Print the stats of the dataset.\n",
    "coffee_data.describe()"
   ]
  },
  {
   "cell_type": "code",
   "execution_count": 103,
   "id": "e25d850c",
   "metadata": {},
   "outputs": [
    {
     "data": {
      "text/plain": [
       "Index(['Unnamed: 0', 'ID', 'Country of Origin', 'Farm Name', 'Lot Number',\n",
       "       'Mill', 'ICO Number', 'Company', 'Altitude', 'Region', 'Producer',\n",
       "       'Number of Bags', 'Bag Weight', 'In-Country Partner', 'Harvest Year',\n",
       "       'Grading Date', 'Owner', 'Variety', 'Status', 'Processing Method',\n",
       "       'Aroma', 'Flavor', 'Aftertaste', 'Acidity', 'Body', 'Balance',\n",
       "       'Uniformity', 'Clean Cup', 'Sweetness', 'Overall', 'Defects',\n",
       "       'Total Cup Points', 'Moisture Percentage', 'Category One Defects',\n",
       "       'Quakers', 'Color', 'Category Two Defects', 'Expiration',\n",
       "       'Certification Body', 'Certification Address', 'Certification Contact'],\n",
       "      dtype='object')"
      ]
     },
     "execution_count": 103,
     "metadata": {},
     "output_type": "execute_result"
    }
   ],
   "source": [
    "# print the column names.\n",
    "coffee_data.columns"
   ]
  },
  {
   "cell_type": "code",
   "execution_count": 104,
   "id": "a33430f3",
   "metadata": {},
   "outputs": [
    {
     "data": {
      "text/plain": [
       "(207, 41)"
      ]
     },
     "execution_count": 104,
     "metadata": {},
     "output_type": "execute_result"
    }
   ],
   "source": [
    "coffee_data.shape\n"
   ]
  },
  {
   "cell_type": "code",
   "execution_count": 105,
   "id": "8c560d14",
   "metadata": {},
   "outputs": [
    {
     "data": {
      "text/plain": [
       "Unnamed: 0                 0\n",
       "ID                         0\n",
       "Country of Origin          0\n",
       "Farm Name                  2\n",
       "Lot Number                 1\n",
       "Mill                       3\n",
       "ICO Number               132\n",
       "Company                    0\n",
       "Altitude                   1\n",
       "Region                     2\n",
       "Producer                   1\n",
       "Number of Bags             0\n",
       "Bag Weight                 0\n",
       "In-Country Partner         0\n",
       "Harvest Year               0\n",
       "Grading Date               0\n",
       "Owner                      0\n",
       "Variety                    6\n",
       "Status                     0\n",
       "Processing Method          5\n",
       "Aroma                      0\n",
       "Flavor                     0\n",
       "Aftertaste                 0\n",
       "Acidity                    0\n",
       "Body                       0\n",
       "Balance                    0\n",
       "Uniformity                 0\n",
       "Clean Cup                  0\n",
       "Sweetness                  0\n",
       "Overall                    0\n",
       "Defects                    0\n",
       "Total Cup Points           0\n",
       "Moisture Percentage        0\n",
       "Category One Defects       0\n",
       "Quakers                    0\n",
       "Color                      0\n",
       "Category Two Defects       0\n",
       "Expiration                 0\n",
       "Certification Body         0\n",
       "Certification Address      0\n",
       "Certification Contact      0\n",
       "dtype: int64"
      ]
     },
     "execution_count": 105,
     "metadata": {},
     "output_type": "execute_result"
    }
   ],
   "source": [
    "# handling missing data.\n",
    "coffee_data.isnull().sum()\n",
    "# Print the columns with missing values and their respective counts\n",
    "#print(missing_values[missing_values > 0])\n",
    "\n",
    "# Remove rows with any missing values\n",
    "#df_clean = df.dropna()"
   ]
  },
  {
   "cell_type": "code",
   "execution_count": 106,
   "id": "4d47ecd6",
   "metadata": {},
   "outputs": [
    {
     "data": {
      "text/html": [
       "<div>\n",
       "<style scoped>\n",
       "    .dataframe tbody tr th:only-of-type {\n",
       "        vertical-align: middle;\n",
       "    }\n",
       "\n",
       "    .dataframe tbody tr th {\n",
       "        vertical-align: top;\n",
       "    }\n",
       "\n",
       "    .dataframe thead th {\n",
       "        text-align: right;\n",
       "    }\n",
       "</style>\n",
       "<table border=\"1\" class=\"dataframe\">\n",
       "  <thead>\n",
       "    <tr style=\"text-align: right;\">\n",
       "      <th></th>\n",
       "      <th>Country of Origin</th>\n",
       "      <th>Farm Name</th>\n",
       "      <th>Lot Number</th>\n",
       "      <th>Mill</th>\n",
       "      <th>ICO Number</th>\n",
       "      <th>Company</th>\n",
       "      <th>Altitude</th>\n",
       "      <th>Region</th>\n",
       "      <th>Producer</th>\n",
       "      <th>Number of Bags</th>\n",
       "      <th>...</th>\n",
       "      <th>Total Cup Points</th>\n",
       "      <th>Moisture Percentage</th>\n",
       "      <th>Category One Defects</th>\n",
       "      <th>Quakers</th>\n",
       "      <th>Color</th>\n",
       "      <th>Category Two Defects</th>\n",
       "      <th>Expiration</th>\n",
       "      <th>Certification Body</th>\n",
       "      <th>Certification Address</th>\n",
       "      <th>Certification Contact</th>\n",
       "    </tr>\n",
       "  </thead>\n",
       "  <tbody>\n",
       "    <tr>\n",
       "      <th>0</th>\n",
       "      <td>Colombia</td>\n",
       "      <td>Finca El Paraiso</td>\n",
       "      <td>CQU2022015</td>\n",
       "      <td>Finca El Paraiso</td>\n",
       "      <td>NaN</td>\n",
       "      <td>Coffee Quality Union</td>\n",
       "      <td>1700-1930</td>\n",
       "      <td>Piendamo,Cauca</td>\n",
       "      <td>Diego Samuel Bermudez</td>\n",
       "      <td>1</td>\n",
       "      <td>...</td>\n",
       "      <td>89.33</td>\n",
       "      <td>11.8</td>\n",
       "      <td>0</td>\n",
       "      <td>0</td>\n",
       "      <td>green</td>\n",
       "      <td>3</td>\n",
       "      <td>September 21st, 2023</td>\n",
       "      <td>Japan Coffee Exchange</td>\n",
       "      <td>〒413-0002 静岡県熱海市伊豆山１１７３−５８ 1173-58 Izusan, Ata...</td>\n",
       "      <td>松澤　宏樹　Koju Matsuzawa - +81(0)9085642901</td>\n",
       "    </tr>\n",
       "    <tr>\n",
       "      <th>1</th>\n",
       "      <td>Taiwan</td>\n",
       "      <td>Royal Bean Geisha Estate</td>\n",
       "      <td>The 2022 Pacific Rim Coffee Summit,T037</td>\n",
       "      <td>Royal Bean Geisha Estate</td>\n",
       "      <td>NaN</td>\n",
       "      <td>Taiwan Coffee Laboratory</td>\n",
       "      <td>1200</td>\n",
       "      <td>Chiayi</td>\n",
       "      <td>曾福森</td>\n",
       "      <td>1</td>\n",
       "      <td>...</td>\n",
       "      <td>87.58</td>\n",
       "      <td>10.5</td>\n",
       "      <td>0</td>\n",
       "      <td>0</td>\n",
       "      <td>blue-green</td>\n",
       "      <td>0</td>\n",
       "      <td>November 15th, 2023</td>\n",
       "      <td>Taiwan Coffee Laboratory 台灣咖啡研究室</td>\n",
       "      <td>QAHWAH CO., LTD 4F, No. 225, Sec. 3, Beixin Rd...</td>\n",
       "      <td>Lin, Jen-An Neil 林仁安 - 886-289116612</td>\n",
       "    </tr>\n",
       "  </tbody>\n",
       "</table>\n",
       "<p>2 rows × 39 columns</p>\n",
       "</div>"
      ],
      "text/plain": [
       "  Country of Origin                 Farm Name  \\\n",
       "0          Colombia          Finca El Paraiso   \n",
       "1            Taiwan  Royal Bean Geisha Estate   \n",
       "\n",
       "                                Lot Number                      Mill  \\\n",
       "0                               CQU2022015          Finca El Paraiso   \n",
       "1  The 2022 Pacific Rim Coffee Summit,T037  Royal Bean Geisha Estate   \n",
       "\n",
       "  ICO Number                   Company   Altitude          Region  \\\n",
       "0        NaN      Coffee Quality Union  1700-1930  Piendamo,Cauca   \n",
       "1        NaN  Taiwan Coffee Laboratory       1200          Chiayi   \n",
       "\n",
       "                Producer  Number of Bags  ... Total Cup Points  \\\n",
       "0  Diego Samuel Bermudez               1  ...            89.33   \n",
       "1                    曾福森               1  ...            87.58   \n",
       "\n",
       "  Moisture Percentage Category One Defects Quakers       Color  \\\n",
       "0                11.8                    0       0       green   \n",
       "1                10.5                    0       0  blue-green   \n",
       "\n",
       "  Category Two Defects            Expiration  \\\n",
       "0                    3  September 21st, 2023   \n",
       "1                    0   November 15th, 2023   \n",
       "\n",
       "                 Certification Body  \\\n",
       "0             Japan Coffee Exchange   \n",
       "1  Taiwan Coffee Laboratory 台灣咖啡研究室   \n",
       "\n",
       "                               Certification Address  \\\n",
       "0  〒413-0002 静岡県熱海市伊豆山１１７３−５８ 1173-58 Izusan, Ata...   \n",
       "1  QAHWAH CO., LTD 4F, No. 225, Sec. 3, Beixin Rd...   \n",
       "\n",
       "                     Certification Contact  \n",
       "0  松澤　宏樹　Koju Matsuzawa - +81(0)9085642901  \n",
       "1     Lin, Jen-An Neil 林仁安 - 886-289116612  \n",
       "\n",
       "[2 rows x 39 columns]"
      ]
     },
     "execution_count": 106,
     "metadata": {},
     "output_type": "execute_result"
    }
   ],
   "source": [
    "# Dropping the columns .\n",
    "coffee_data.drop([\"Unnamed: 0\", \"ID\"], inplace=True, axis=1)\n",
    "coffee_data.head(2)"
   ]
  },
  {
   "cell_type": "code",
   "execution_count": 213,
   "id": "cc810966",
   "metadata": {},
   "outputs": [
    {
     "data": {
      "text/html": [
       "<div>\n",
       "<style scoped>\n",
       "    .dataframe tbody tr th:only-of-type {\n",
       "        vertical-align: middle;\n",
       "    }\n",
       "\n",
       "    .dataframe tbody tr th {\n",
       "        vertical-align: top;\n",
       "    }\n",
       "\n",
       "    .dataframe thead th {\n",
       "        text-align: right;\n",
       "    }\n",
       "</style>\n",
       "<table border=\"1\" class=\"dataframe\">\n",
       "  <thead>\n",
       "    <tr style=\"text-align: right;\">\n",
       "      <th></th>\n",
       "      <th>Country</th>\n",
       "      <th>Farm_Name</th>\n",
       "      <th>Lot_Number</th>\n",
       "      <th>Mill</th>\n",
       "      <th>ICO_Number</th>\n",
       "      <th>Company</th>\n",
       "      <th>Altitude</th>\n",
       "      <th>Region</th>\n",
       "      <th>Producer</th>\n",
       "      <th>Number_Of_Bags</th>\n",
       "      <th>...</th>\n",
       "      <th>Category_Two_Defects</th>\n",
       "      <th>Expiration</th>\n",
       "      <th>Certification_Body</th>\n",
       "      <th>Certification_Address</th>\n",
       "      <th>Certification_Contact</th>\n",
       "      <th>Date</th>\n",
       "      <th>day</th>\n",
       "      <th>month</th>\n",
       "      <th>year</th>\n",
       "      <th>hour</th>\n",
       "    </tr>\n",
       "  </thead>\n",
       "  <tbody>\n",
       "    <tr>\n",
       "      <th>0</th>\n",
       "      <td>Colombia</td>\n",
       "      <td>Finca El Paraiso</td>\n",
       "      <td>CQU2022015</td>\n",
       "      <td>Finca El Paraiso</td>\n",
       "      <td>NaN</td>\n",
       "      <td>Coffee Quality Union</td>\n",
       "      <td>1700-1930</td>\n",
       "      <td>Piendamo,Cauca</td>\n",
       "      <td>Diego Samuel Bermudez</td>\n",
       "      <td>1</td>\n",
       "      <td>...</td>\n",
       "      <td>3</td>\n",
       "      <td>2023-09-21</td>\n",
       "      <td>Japan Coffee Exchange</td>\n",
       "      <td>〒413-0002 静岡県熱海市伊豆山１１７３−５８ 1173-58 Izusan, Ata...</td>\n",
       "      <td>松澤　宏樹　Koju Matsuzawa - +81(0)9085642901</td>\n",
       "      <td>2023-09-21</td>\n",
       "      <td>21</td>\n",
       "      <td>9</td>\n",
       "      <td>2023</td>\n",
       "      <td>0</td>\n",
       "    </tr>\n",
       "    <tr>\n",
       "      <th>1</th>\n",
       "      <td>Taiwan</td>\n",
       "      <td>Royal Bean Geisha Estate</td>\n",
       "      <td>The 2022 Pacific Rim Coffee Summit,T037</td>\n",
       "      <td>Royal Bean Geisha Estate</td>\n",
       "      <td>NaN</td>\n",
       "      <td>Taiwan Coffee Laboratory</td>\n",
       "      <td>1200</td>\n",
       "      <td>Chiayi</td>\n",
       "      <td>曾福森</td>\n",
       "      <td>1</td>\n",
       "      <td>...</td>\n",
       "      <td>0</td>\n",
       "      <td>2023-11-15</td>\n",
       "      <td>Taiwan Coffee Laboratory 台灣咖啡研究室</td>\n",
       "      <td>QAHWAH CO., LTD 4F, No. 225, Sec. 3, Beixin Rd...</td>\n",
       "      <td>Lin, Jen-An Neil 林仁安 - 886-289116612</td>\n",
       "      <td>2023-11-15</td>\n",
       "      <td>15</td>\n",
       "      <td>11</td>\n",
       "      <td>2023</td>\n",
       "      <td>0</td>\n",
       "    </tr>\n",
       "  </tbody>\n",
       "</table>\n",
       "<p>2 rows × 44 columns</p>\n",
       "</div>"
      ],
      "text/plain": [
       "    Country                 Farm_Name  \\\n",
       "0  Colombia          Finca El Paraiso   \n",
       "1    Taiwan  Royal Bean Geisha Estate   \n",
       "\n",
       "                                Lot_Number                      Mill  \\\n",
       "0                               CQU2022015          Finca El Paraiso   \n",
       "1  The 2022 Pacific Rim Coffee Summit,T037  Royal Bean Geisha Estate   \n",
       "\n",
       "  ICO_Number                   Company   Altitude          Region  \\\n",
       "0        NaN      Coffee Quality Union  1700-1930  Piendamo,Cauca   \n",
       "1        NaN  Taiwan Coffee Laboratory       1200          Chiayi   \n",
       "\n",
       "                Producer  Number_Of_Bags  ... Category_Two_Defects Expiration  \\\n",
       "0  Diego Samuel Bermudez               1  ...                    3 2023-09-21   \n",
       "1                    曾福森               1  ...                    0 2023-11-15   \n",
       "\n",
       "                 Certification_Body  \\\n",
       "0             Japan Coffee Exchange   \n",
       "1  Taiwan Coffee Laboratory 台灣咖啡研究室   \n",
       "\n",
       "                               Certification_Address  \\\n",
       "0  〒413-0002 静岡県熱海市伊豆山１１７３−５８ 1173-58 Izusan, Ata...   \n",
       "1  QAHWAH CO., LTD 4F, No. 225, Sec. 3, Beixin Rd...   \n",
       "\n",
       "                     Certification_Contact       Date day month  year  hour  \n",
       "0  松澤　宏樹　Koju Matsuzawa - +81(0)9085642901 2023-09-21  21     9  2023     0  \n",
       "1     Lin, Jen-An Neil 林仁安 - 886-289116612 2023-11-15  15    11  2023     0  \n",
       "\n",
       "[2 rows x 44 columns]"
      ]
     },
     "execution_count": 213,
     "metadata": {},
     "output_type": "execute_result"
    }
   ],
   "source": [
    "coffee_data = coffee_data.rename(columns = {\"Country of Origin\" : \"Country\", \"Farm Name\": \"Farm_Name\", \"Lot Number\":\"Lot_Number\", \"ICO Number\" : \"ICO_Number\",\n",
    "                                         \"Number of Bags\": \"Number_Of_Bags\", \"Total Cup Points\" : \"Total_Cup_Points\", \"Moisture Percentage\" : \"Moisture_Percentage\",\n",
    "                                           \"Category One Defects\" : \"Category_One_Defects\", \"Category Two Defects\": \"Category_Two_Defects\", \"Certification Body\" : \"Certification_Body\", \"Certification Address\": \"Certification_Address\", \"Certification Contact\":\"Certification_Contact\"})\n",
    "coffee_data.head(2)\n"
   ]
  },
  {
   "cell_type": "code",
   "execution_count": 214,
   "id": "c112ac07",
   "metadata": {},
   "outputs": [
    {
     "data": {
      "text/plain": [
       "Taiwan                          61\n",
       "Guatemala                       21\n",
       "Colombia                        19\n",
       "Honduras                        13\n",
       "Thailand                        12\n",
       "Ethiopia                        11\n",
       "Brazil                          10\n",
       "Costa Rica                       8\n",
       "Nicaragua                        7\n",
       "El Salvador                      7\n",
       "Tanzania, United Republic Of     6\n",
       "United States (Hawaii)           5\n",
       "Mexico                           4\n",
       "Peru                             4\n",
       "Vietnam                          4\n",
       "Uganda                           3\n",
       "Indonesia                        3\n",
       "Laos                             3\n",
       "Panama                           2\n",
       "Kenya                            2\n",
       "Madagascar                       1\n",
       "Myanmar                          1\n",
       "Name: Country, dtype: int64"
      ]
     },
     "execution_count": 214,
     "metadata": {},
     "output_type": "execute_result"
    }
   ],
   "source": [
    "#Count the Values in Country.\n",
    "coffee_data.Country.value_counts()"
   ]
  },
  {
   "cell_type": "code",
   "execution_count": 215,
   "id": "a817a1e2",
   "metadata": {},
   "outputs": [
    {
     "data": {
      "image/png": "[encoded data removed]",
      "text/plain": [
       "<Figure size 1200x600 with 1 Axes>"
      ]
     },
     "metadata": {},
     "output_type": "display_data"
    }
   ],
   "source": [
    "# Extract the Country column.\n",
    "country = coffee_data['Country']\n",
    "\n",
    "# Calculate the frequency of each country\n",
    "country = country.value_counts()\n",
    "\n",
    "# Extract the top 20 most frequent job titles\n",
    "top_20_countries = country.head(20)\n",
    "\n",
    "# Create a DataFrame for the top 20 titles\n",
    "top_20_countries = pd.DataFrame({'Country Title': top_20_countries.index, 'Count': top_20_countries.values})\n",
    "\n",
    "# Plotting the count plot\n",
    "plt.figure(figsize=(12, 6))\n",
    "ax = sns.barplot(data=top_20_countries, x='Count', y='Country Title', palette=\"pastel\")\n",
    "plt.xlabel('Count')\n",
    "plt.ylabel('Country')\n",
    "plt.title('Top 20 Most Frequent Country Titles')\n",
    "\n",
    "# Add count labels to the bars\n",
    "for i, v in enumerate(top_20_df['Count']):\n",
    "    ax.text(v + 0.2, i, str(v), color='black', va='center')\n",
    "\n",
    "plt.tight_layout()\n",
    "plt.show()"
   ]
  },
  {
   "cell_type": "code",
   "execution_count": 216,
   "id": "631d0721",
   "metadata": {},
   "outputs": [
    {
     "data": {
      "application/vnd.plotly.v1+json": {
       "config": {
        "plotlyServerURL": "https://plot.ly"
       },
       "data": [
        {
         "domain": {
          "x": [
           0,
           1
          ],
          "y": [
           0,
           1
          ]
         },
         "hovertemplate": "Color=%{label}<extra></extra>",
         "labels": [
          "green",
          "blue-green",
          "yellowish",
          "green",
          "yellow-green",
          "green",
          "green",
          "yellow green",
          "greenish",
          "greenish",
          "greenish",
          "brownish",
          "green",
          "yellow- green",
          "green",
          "green",
          "green",
          "yellow-green",
          "brownish",
          "greenish",
          "yellowish",
          "green",
          "browish-green",
          "brownish",
          "bluish-green",
          "green",
          "green",
          "green",
          "blue-green",
          "green",
          "bluish-green",
          "green",
          "green",
          "green",
          "yellow green",
          "greenish",
          "bluish-green",
          "green",
          "greenish",
          "bluish-green",
          "brownish",
          "greenish",
          "pale yellow",
          "green",
          "green",
          "yellow green",
          "green",
          "green",
          "green",
          "green",
          "brownish",
          "bluish-green",
          "greenish",
          "greenish",
          "greenish",
          "green",
          "green",
          "bluish-green",
          "blue-green",
          "green",
          "yellow-green",
          "green",
          "greenish",
          "green",
          "green",
          "green",
          "green",
          "brownish",
          "green",
          "bluish-green",
          "green",
          "green",
          "green",
          "bluish-green",
          "green",
          "yellow-green",
          "yellow green",
          "brownish",
          "green",
          "blue-green",
          "green",
          "blue-green",
          "green",
          "green",
          "greenish",
          "yello-green",
          "green",
          "green",
          "green",
          "greenish",
          "green",
          "greenish",
          "green",
          "green",
          "greenish",
          "green",
          "yellowish",
          "green",
          "green",
          "greenish",
          "green",
          "green",
          "green",
          "greenish",
          "green",
          "greenish",
          "bluish-green",
          "pale yellow",
          "greenish",
          "pale yellow",
          "green",
          "green",
          "green",
          "green",
          "bluish-green",
          "green",
          "greenish",
          "green",
          "green",
          "blue-green",
          "green",
          "greenish",
          "green",
          "green",
          "greenish",
          "green",
          "blue-green",
          "yellow-green",
          "greenish",
          "green",
          "green",
          "brownish",
          "bluish-green",
          "green",
          "greenish",
          "blue-green",
          "brownish",
          "green",
          "green",
          "bluish-green",
          "blue-green",
          "green",
          "greenish",
          "yellow-green",
          "green",
          "yellow-green",
          "green",
          "green",
          "pale yellow",
          "green",
          "greenish",
          "yellow green",
          "green",
          "green",
          "blue-green",
          "green",
          "green",
          "green",
          "bluish-green",
          "blue-green",
          "pale yellow",
          "green",
          "green",
          "bluish-green",
          "bluish-green",
          "green",
          "bluish-green",
          "green",
          "greenish",
          "green",
          "green",
          "green",
          "bluish-green",
          "greenish",
          "green",
          "green",
          "green",
          "blue-green",
          "bluish-green",
          "greenish",
          "greenish",
          "green",
          "green",
          "pale yellow",
          "yellow-green",
          "yellow-green",
          "green",
          "green",
          "yellow-green",
          "green",
          "green",
          "yellowish",
          "green",
          "greenish",
          "greenish",
          "bluish-green",
          "greenish",
          "green",
          "greenish",
          "greenish",
          "bluish-green",
          "greenish",
          "green",
          "green",
          "green",
          "bluish-green",
          "green"
         ],
         "legendgroup": "",
         "name": "",
         "showlegend": true,
         "type": "pie"
        }
       ],
       "layout": {
        "legend": {
         "tracegroupgap": 0
        },
        "template": {
         "data": {
          "bar": [
           {
            "error_x": {
             "color": "#2a3f5f"
            },
            "error_y": {
             "color": "#2a3f5f"
            },
            "marker": {
             "line": {
              "color": "#E5ECF6",
              "width": 0.5
             },
             "pattern": {
              "fillmode": "overlay",
              "size": 10,
              "solidity": 0.2
             }
            },
            "type": "bar"
           }
          ],
          "barpolar": [
           {
            "marker": {
             "line": {
              "color": "#E5ECF6",
              "width": 0.5
             },
             "pattern": {
              "fillmode": "overlay",
              "size": 10,
              "solidity": 0.2
             }
            },
            "type": "barpolar"
           }
          ],
          "carpet": [
           {
            "aaxis": {
             "endlinecolor": "#2a3f5f",
             "gridcolor": "white",
             "linecolor": "white",
             "minorgridcolor": "white",
             "startlinecolor": "#2a3f5f"
            },
            "baxis": {
             "endlinecolor": "#2a3f5f",
             "gridcolor": "white",
             "linecolor": "white",
             "minorgridcolor": "white",
             "startlinecolor": "#2a3f5f"
            },
            "type": "carpet"
           }
          ],
          "choropleth": [
           {
            "colorbar": {
             "outlinewidth": 0,
             "ticks": ""
            },
            "type": "choropleth"
           }
          ],
          "contour": [
           {
            "colorbar": {
             "outlinewidth": 0,
             "ticks": ""
            },
            "colorscale": [
             [
              0,
              "#0d0887"
             ],
             [
              0.1111111111111111,
              "#46039f"
             ],
             [
              0.2222222222222222,
              "#7201a8"
             ],
             [
              0.3333333333333333,
              "#9c179e"
             ],
             [
              0.4444444444444444,
              "#bd3786"
             ],
             [
              0.5555555555555556,
              "#d8576b"
             ],
             [
              0.6666666666666666,
              "#ed7953"
             ],
             [
              0.7777777777777778,
              "#fb9f3a"
             ],
             [
              0.8888888888888888,
              "#fdca26"
             ],
             [
              1,
              "#f0f921"
             ]
            ],
            "type": "contour"
           }
          ],
          "contourcarpet": [
           {
            "colorbar": {
             "outlinewidth": 0,
             "ticks": ""
            },
            "type": "contourcarpet"
           }
          ],
          "heatmap": [
           {
            "colorbar": {
             "outlinewidth": 0,
             "ticks": ""
            },
            "colorscale": [
             [
              0,
              "#0d0887"
             ],
             [
              0.1111111111111111,
              "#46039f"
             ],
             [
              0.2222222222222222,
              "#7201a8"
             ],
             [
              0.3333333333333333,
              "#9c179e"
             ],
             [
              0.4444444444444444,
              "#bd3786"
             ],
             [
              0.5555555555555556,
              "#d8576b"
             ],
             [
              0.6666666666666666,
              "#ed7953"
             ],
             [
              0.7777777777777778,
              "#fb9f3a"
             ],
             [
              0.8888888888888888,
              "#fdca26"
             ],
             [
              1,
              "#f0f921"
             ]
            ],
            "type": "heatmap"
           }
          ],
          "heatmapgl": [
           {
            "colorbar": {
             "outlinewidth": 0,
             "ticks": ""
            },
            "colorscale": [
             [
              0,
              "#0d0887"
             ],
             [
              0.1111111111111111,
              "#46039f"
             ],
             [
              0.2222222222222222,
              "#7201a8"
             ],
             [
              0.3333333333333333,
              "#9c179e"
             ],
             [
              0.4444444444444444,
              "#bd3786"
             ],
             [
              0.5555555555555556,
              "#d8576b"
             ],
             [
              0.6666666666666666,
              "#ed7953"
             ],
             [
              0.7777777777777778,
              "#fb9f3a"
             ],
             [
              0.8888888888888888,
              "#fdca26"
             ],
             [
              1,
              "#f0f921"
             ]
            ],
            "type": "heatmapgl"
           }
          ],
          "histogram": [
           {
            "marker": {
             "pattern": {
              "fillmode": "overlay",
              "size": 10,
              "solidity": 0.2
             }
            },
            "type": "histogram"
           }
          ],
          "histogram2d": [
           {
            "colorbar": {
             "outlinewidth": 0,
             "ticks": ""
            },
            "colorscale": [
             [
              0,
              "#0d0887"
             ],
             [
              0.1111111111111111,
              "#46039f"
             ],
             [
              0.2222222222222222,
              "#7201a8"
             ],
             [
              0.3333333333333333,
              "#9c179e"
             ],
             [
              0.4444444444444444,
              "#bd3786"
             ],
             [
              0.5555555555555556,
              "#d8576b"
             ],
             [
              0.6666666666666666,
              "#ed7953"
             ],
             [
              0.7777777777777778,
              "#fb9f3a"
             ],
             [
              0.8888888888888888,
              "#fdca26"
             ],
             [
              1,
              "#f0f921"
             ]
            ],
            "type": "histogram2d"
           }
          ],
          "histogram2dcontour": [
           {
            "colorbar": {
             "outlinewidth": 0,
             "ticks": ""
            },
            "colorscale": [
             [
              0,
              "#0d0887"
             ],
             [
              0.1111111111111111,
              "#46039f"
             ],
             [
              0.2222222222222222,
              "#7201a8"
             ],
             [
              0.3333333333333333,
              "#9c179e"
             ],
             [
              0.4444444444444444,
              "#bd3786"
             ],
             [
              0.5555555555555556,
              "#d8576b"
             ],
             [
              0.6666666666666666,
              "#ed7953"
             ],
             [
              0.7777777777777778,
              "#fb9f3a"
             ],
             [
              0.8888888888888888,
              "#fdca26"
             ],
             [
              1,
              "#f0f921"
             ]
            ],
            "type": "histogram2dcontour"
           }
          ],
          "mesh3d": [
           {
            "colorbar": {
             "outlinewidth": 0,
             "ticks": ""
            },
            "type": "mesh3d"
           }
          ],
          "parcoords": [
           {
            "line": {
             "colorbar": {
              "outlinewidth": 0,
              "ticks": ""
             }
            },
            "type": "parcoords"
           }
          ],
          "pie": [
           {
            "automargin": true,
            "type": "pie"
           }
          ],
          "scatter": [
           {
            "fillpattern": {
             "fillmode": "overlay",
             "size": 10,
             "solidity": 0.2
            },
            "type": "scatter"
           }
          ],
          "scatter3d": [
           {
            "line": {
             "colorbar": {
              "outlinewidth": 0,
              "ticks": ""
             }
            },
            "marker": {
             "colorbar": {
              "outlinewidth": 0,
              "ticks": ""
             }
            },
            "type": "scatter3d"
           }
          ],
          "scattercarpet": [
           {
            "marker": {
             "colorbar": {
              "outlinewidth": 0,
              "ticks": ""
             }
            },
            "type": "scattercarpet"
           }
          ],
          "scattergeo": [
           {
            "marker": {
             "colorbar": {
              "outlinewidth": 0,
              "ticks": ""
             }
            },
            "type": "scattergeo"
           }
          ],
          "scattergl": [
           {
            "marker": {
             "colorbar": {
              "outlinewidth": 0,
              "ticks": ""
             }
            },
            "type": "scattergl"
           }
          ],
          "scattermapbox": [
           {
            "marker": {
             "colorbar": {
              "outlinewidth": 0,
              "ticks": ""
             }
            },
            "type": "scattermapbox"
           }
          ],
          "scatterpolar": [
           {
            "marker": {
             "colorbar": {
              "outlinewidth": 0,
              "ticks": ""
             }
            },
            "type": "scatterpolar"
           }
          ],
          "scatterpolargl": [
           {
            "marker": {
             "colorbar": {
              "outlinewidth": 0,
              "ticks": ""
             }
            },
            "type": "scatterpolargl"
           }
          ],
          "scatterternary": [
           {
            "marker": {
             "colorbar": {
              "outlinewidth": 0,
              "ticks": ""
             }
            },
            "type": "scatterternary"
           }
          ],
          "surface": [
           {
            "colorbar": {
             "outlinewidth": 0,
             "ticks": ""
            },
            "colorscale": [
             [
              0,
              "#0d0887"
             ],
             [
              0.1111111111111111,
              "#46039f"
             ],
             [
              0.2222222222222222,
              "#7201a8"
             ],
             [
              0.3333333333333333,
              "#9c179e"
             ],
             [
              0.4444444444444444,
              "#bd3786"
             ],
             [
              0.5555555555555556,
              "#d8576b"
             ],
             [
              0.6666666666666666,
              "#ed7953"
             ],
             [
              0.7777777777777778,
              "#fb9f3a"
             ],
             [
              0.8888888888888888,
              "#fdca26"
             ],
             [
              1,
              "#f0f921"
             ]
            ],
            "type": "surface"
           }
          ],
          "table": [
           {
            "cells": {
             "fill": {
              "color": "#EBF0F8"
             },
             "line": {
              "color": "white"
             }
            },
            "header": {
             "fill": {
              "color": "#C8D4E3"
             },
             "line": {
              "color": "white"
             }
            },
            "type": "table"
           }
          ]
         },
         "layout": {
          "annotationdefaults": {
           "arrowcolor": "#2a3f5f",
           "arrowhead": 0,
           "arrowwidth": 1
          },
          "autotypenumbers": "strict",
          "coloraxis": {
           "colorbar": {
            "outlinewidth": 0,
            "ticks": ""
           }
          },
          "colorscale": {
           "diverging": [
            [
             0,
             "#8e0152"
            ],
            [
             0.1,
             "#c51b7d"
            ],
            [
             0.2,
             "#de77ae"
            ],
            [
             0.3,
             "#f1b6da"
            ],
            [
             0.4,
             "#fde0ef"
            ],
            [
             0.5,
             "#f7f7f7"
            ],
            [
             0.6,
             "#e6f5d0"
            ],
            [
             0.7,
             "#b8e186"
            ],
            [
             0.8,
             "#7fbc41"
            ],
            [
             0.9,
             "#4d9221"
            ],
            [
             1,
             "#276419"
            ]
           ],
           "sequential": [
            [
             0,
             "#0d0887"
            ],
            [
             0.1111111111111111,
             "#46039f"
            ],
            [
             0.2222222222222222,
             "#7201a8"
            ],
            [
             0.3333333333333333,
             "#9c179e"
            ],
            [
             0.4444444444444444,
             "#bd3786"
            ],
            [
             0.5555555555555556,
             "#d8576b"
            ],
            [
             0.6666666666666666,
             "#ed7953"
            ],
            [
             0.7777777777777778,
             "#fb9f3a"
            ],
            [
             0.8888888888888888,
             "#fdca26"
            ],
            [
             1,
             "#f0f921"
            ]
           ],
           "sequentialminus": [
            [
             0,
             "#0d0887"
            ],
            [
             0.1111111111111111,
             "#46039f"
            ],
            [
             0.2222222222222222,
             "#7201a8"
            ],
            [
             0.3333333333333333,
             "#9c179e"
            ],
            [
             0.4444444444444444,
             "#bd3786"
            ],
            [
             0.5555555555555556,
             "#d8576b"
            ],
            [
             0.6666666666666666,
             "#ed7953"
            ],
            [
             0.7777777777777778,
             "#fb9f3a"
            ],
            [
             0.8888888888888888,
             "#fdca26"
            ],
            [
             1,
             "#f0f921"
            ]
           ]
          },
          "colorway": [
           "#636efa",
           "#EF553B",
           "#00cc96",
           "#ab63fa",
           "#FFA15A",
           "#19d3f3",
           "#FF6692",
           "#B6E880",
           "#FF97FF",
           "#FECB52"
          ],
          "font": {
           "color": "#2a3f5f"
          },
          "geo": {
           "bgcolor": "white",
           "lakecolor": "white",
           "landcolor": "#E5ECF6",
           "showlakes": true,
           "showland": true,
           "subunitcolor": "white"
          },
          "hoverlabel": {
           "align": "left"
          },
          "hovermode": "closest",
          "mapbox": {
           "style": "light"
          },
          "paper_bgcolor": "white",
          "plot_bgcolor": "#E5ECF6",
          "polar": {
           "angularaxis": {
            "gridcolor": "white",
            "linecolor": "white",
            "ticks": ""
           },
           "bgcolor": "#E5ECF6",
           "radialaxis": {
            "gridcolor": "white",
            "linecolor": "white",
            "ticks": ""
           }
          },
          "scene": {
           "xaxis": {
            "backgroundcolor": "#E5ECF6",
            "gridcolor": "white",
            "gridwidth": 2,
            "linecolor": "white",
            "showbackground": true,
            "ticks": "",
            "zerolinecolor": "white"
           },
           "yaxis": {
            "backgroundcolor": "#E5ECF6",
            "gridcolor": "white",
            "gridwidth": 2,
            "linecolor": "white",
            "showbackground": true,
            "ticks": "",
            "zerolinecolor": "white"
           },
           "zaxis": {
            "backgroundcolor": "#E5ECF6",
            "gridcolor": "white",
            "gridwidth": 2,
            "linecolor": "white",
            "showbackground": true,
            "ticks": "",
            "zerolinecolor": "white"
           }
          },
          "shapedefaults": {
           "line": {
            "color": "#2a3f5f"
           }
          },
          "ternary": {
           "aaxis": {
            "gridcolor": "white",
            "linecolor": "white",
            "ticks": ""
           },
           "baxis": {
            "gridcolor": "white",
            "linecolor": "white",
            "ticks": ""
           },
           "bgcolor": "#E5ECF6",
           "caxis": {
            "gridcolor": "white",
            "linecolor": "white",
            "ticks": ""
           }
          },
          "title": {
           "x": 0.05
          },
          "xaxis": {
           "automargin": true,
           "gridcolor": "white",
           "linecolor": "white",
           "ticks": "",
           "title": {
            "standoff": 15
           },
           "zerolinecolor": "white",
           "zerolinewidth": 2
          },
          "yaxis": {
           "automargin": true,
           "gridcolor": "white",
           "linecolor": "white",
           "ticks": "",
           "title": {
            "standoff": 15
           },
           "zerolinecolor": "white",
           "zerolinewidth": 2
          }
         }
        },
        "title": {
         "text": "Coffee Colors"
        }
       }
      },
      "text/html": [
       "<div>                            <div id=\"63e940bc-80e2-4acf-b8e0-3706cc996cd6\" class=\"plotly-graph-div\" style=\"height:525px; width:100%;\"></div>            <script type=\"text/javascript\">                require([\"plotly\"], function(Plotly) {                    window.PLOTLYENV=window.PLOTLYENV || {};                                    if (document.getElementById(\"63e940bc-80e2-4acf-b8e0-3706cc996cd6\")) {                    Plotly.newPlot(                        \"63e940bc-80e2-4acf-b8e0-3706cc996cd6\",                        [{\"domain\":{\"x\":[0.0,1.0],\"y\":[0.0,1.0]},\"hovertemplate\":\"Color=%{label}<extra></extra>\",\"labels\":[\"green\",\"blue-green\",\"yellowish\",\"green\",\"yellow-green\",\"green\",\"green\",\"yellow green\",\"greenish\",\"greenish\",\"greenish\",\"brownish\",\"green\",\"yellow- green\",\"green\",\"green\",\"green\",\"yellow-green\",\"brownish\",\"greenish\",\"yellowish\",\"green\",\"browish-green\",\"brownish\",\"bluish-green\",\"green\",\"green\",\"green\",\"blue-green\",\"green\",\"bluish-green\",\"green\",\"green\",\"green\",\"yellow green\",\"greenish\",\"bluish-green\",\"green\",\"greenish\",\"bluish-green\",\"brownish\",\"greenish\",\"pale yellow\",\"green\",\"green\",\"yellow green\",\"green\",\"green\",\"green\",\"green\",\"brownish\",\"bluish-green\",\"greenish\",\"greenish\",\"greenish\",\"green\",\"green\",\"bluish-green\",\"blue-green\",\"green\",\"yellow-green\",\"green\",\"greenish\",\"green\",\"green\",\"green\",\"green\",\"brownish\",\"green\",\"bluish-green\",\"green\",\"green\",\"green\",\"bluish-green\",\"green\",\"yellow-green\",\"yellow green\",\"brownish\",\"green\",\"blue-green\",\"green\",\"blue-green\",\"green\",\"green\",\"greenish\",\"yello-green\",\"green\",\"green\",\"green\",\"greenish\",\"green\",\"greenish\",\"green\",\"green\",\"greenish\",\"green\",\"yellowish\",\"green\",\"green\",\"greenish\",\"green\",\"green\",\"green\",\"greenish\",\"green\",\"greenish\",\"bluish-green\",\"pale yellow\",\"greenish\",\"pale yellow\",\"green\",\"green\",\"green\",\"green\",\"bluish-green\",\"green\",\"greenish\",\"green\",\"green\",\"blue-green\",\"green\",\"greenish\",\"green\",\"green\",\"greenish\",\"green\",\"blue-green\",\"yellow-green\",\"greenish\",\"green\",\"green\",\"brownish\",\"bluish-green\",\"green\",\"greenish\",\"blue-green\",\"brownish\",\"green\",\"green\",\"bluish-green\",\"blue-green\",\"green\",\"greenish\",\"yellow-green\",\"green\",\"yellow-green\",\"green\",\"green\",\"pale yellow\",\"green\",\"greenish\",\"yellow green\",\"green\",\"green\",\"blue-green\",\"green\",\"green\",\"green\",\"bluish-green\",\"blue-green\",\"pale yellow\",\"green\",\"green\",\"bluish-green\",\"bluish-green\",\"green\",\"bluish-green\",\"green\",\"greenish\",\"green\",\"green\",\"green\",\"bluish-green\",\"greenish\",\"green\",\"green\",\"green\",\"blue-green\",\"bluish-green\",\"greenish\",\"greenish\",\"green\",\"green\",\"pale yellow\",\"yellow-green\",\"yellow-green\",\"green\",\"green\",\"yellow-green\",\"green\",\"green\",\"yellowish\",\"green\",\"greenish\",\"greenish\",\"bluish-green\",\"greenish\",\"green\",\"greenish\",\"greenish\",\"bluish-green\",\"greenish\",\"green\",\"green\",\"green\",\"bluish-green\",\"green\"],\"legendgroup\":\"\",\"name\":\"\",\"showlegend\":true,\"type\":\"pie\"}],                        {\"template\":{\"data\":{\"histogram2dcontour\":[{\"type\":\"histogram2dcontour\",\"colorbar\":{\"outlinewidth\":0,\"ticks\":\"\"},\"colorscale\":[[0.0,\"#0d0887\"],[0.1111111111111111,\"#46039f\"],[0.2222222222222222,\"#7201a8\"],[0.3333333333333333,\"#9c179e\"],[0.4444444444444444,\"#bd3786\"],[0.5555555555555556,\"#d8576b\"],[0.6666666666666666,\"#ed7953\"],[0.7777777777777778,\"#fb9f3a\"],[0.8888888888888888,\"#fdca26\"],[1.0,\"#f0f921\"]]}],\"choropleth\":[{\"type\":\"choropleth\",\"colorbar\":{\"outlinewidth\":0,\"ticks\":\"\"}}],\"histogram2d\":[{\"type\":\"histogram2d\",\"colorbar\":{\"outlinewidth\":0,\"ticks\":\"\"},\"colorscale\":[[0.0,\"#0d0887\"],[0.1111111111111111,\"#46039f\"],[0.2222222222222222,\"#7201a8\"],[0.3333333333333333,\"#9c179e\"],[0.4444444444444444,\"#bd3786\"],[0.5555555555555556,\"#d8576b\"],[0.6666666666666666,\"#ed7953\"],[0.7777777777777778,\"#fb9f3a\"],[0.8888888888888888,\"#fdca26\"],[1.0,\"#f0f921\"]]}],\"heatmap\":[{\"type\":\"heatmap\",\"colorbar\":{\"outlinewidth\":0,\"ticks\":\"\"},\"colorscale\":[[0.0,\"#0d0887\"],[0.1111111111111111,\"#46039f\"],[0.2222222222222222,\"#7201a8\"],[0.3333333333333333,\"#9c179e\"],[0.4444444444444444,\"#bd3786\"],[0.5555555555555556,\"#d8576b\"],[0.6666666666666666,\"#ed7953\"],[0.7777777777777778,\"#fb9f3a\"],[0.8888888888888888,\"#fdca26\"],[1.0,\"#f0f921\"]]}],\"heatmapgl\":[{\"type\":\"heatmapgl\",\"colorbar\":{\"outlinewidth\":0,\"ticks\":\"\"},\"colorscale\":[[0.0,\"#0d0887\"],[0.1111111111111111,\"#46039f\"],[0.2222222222222222,\"#7201a8\"],[0.3333333333333333,\"#9c179e\"],[0.4444444444444444,\"#bd3786\"],[0.5555555555555556,\"#d8576b\"],[0.6666666666666666,\"#ed7953\"],[0.7777777777777778,\"#fb9f3a\"],[0.8888888888888888,\"#fdca26\"],[1.0,\"#f0f921\"]]}],\"contourcarpet\":[{\"type\":\"contourcarpet\",\"colorbar\":{\"outlinewidth\":0,\"ticks\":\"\"}}],\"contour\":[{\"type\":\"contour\",\"colorbar\":{\"outlinewidth\":0,\"ticks\":\"\"},\"colorscale\":[[0.0,\"#0d0887\"],[0.1111111111111111,\"#46039f\"],[0.2222222222222222,\"#7201a8\"],[0.3333333333333333,\"#9c179e\"],[0.4444444444444444,\"#bd3786\"],[0.5555555555555556,\"#d8576b\"],[0.6666666666666666,\"#ed7953\"],[0.7777777777777778,\"#fb9f3a\"],[0.8888888888888888,\"#fdca26\"],[1.0,\"#f0f921\"]]}],\"surface\":[{\"type\":\"surface\",\"colorbar\":{\"outlinewidth\":0,\"ticks\":\"\"},\"colorscale\":[[0.0,\"#0d0887\"],[0.1111111111111111,\"#46039f\"],[0.2222222222222222,\"#7201a8\"],[0.3333333333333333,\"#9c179e\"],[0.4444444444444444,\"#bd3786\"],[0.5555555555555556,\"#d8576b\"],[0.6666666666666666,\"#ed7953\"],[0.7777777777777778,\"#fb9f3a\"],[0.8888888888888888,\"#fdca26\"],[1.0,\"#f0f921\"]]}],\"mesh3d\":[{\"type\":\"mesh3d\",\"colorbar\":{\"outlinewidth\":0,\"ticks\":\"\"}}],\"scatter\":[{\"fillpattern\":{\"fillmode\":\"overlay\",\"size\":10,\"solidity\":0.2},\"type\":\"scatter\"}],\"parcoords\":[{\"type\":\"parcoords\",\"line\":{\"colorbar\":{\"outlinewidth\":0,\"ticks\":\"\"}}}],\"scatterpolargl\":[{\"type\":\"scatterpolargl\",\"marker\":{\"colorbar\":{\"outlinewidth\":0,\"ticks\":\"\"}}}],\"bar\":[{\"error_x\":{\"color\":\"#2a3f5f\"},\"error_y\":{\"color\":\"#2a3f5f\"},\"marker\":{\"line\":{\"color\":\"#E5ECF6\",\"width\":0.5},\"pattern\":{\"fillmode\":\"overlay\",\"size\":10,\"solidity\":0.2}},\"type\":\"bar\"}],\"scattergeo\":[{\"type\":\"scattergeo\",\"marker\":{\"colorbar\":{\"outlinewidth\":0,\"ticks\":\"\"}}}],\"scatterpolar\":[{\"type\":\"scatterpolar\",\"marker\":{\"colorbar\":{\"outlinewidth\":0,\"ticks\":\"\"}}}],\"histogram\":[{\"marker\":{\"pattern\":{\"fillmode\":\"overlay\",\"size\":10,\"solidity\":0.2}},\"type\":\"histogram\"}],\"scattergl\":[{\"type\":\"scattergl\",\"marker\":{\"colorbar\":{\"outlinewidth\":0,\"ticks\":\"\"}}}],\"scatter3d\":[{\"type\":\"scatter3d\",\"line\":{\"colorbar\":{\"outlinewidth\":0,\"ticks\":\"\"}},\"marker\":{\"colorbar\":{\"outlinewidth\":0,\"ticks\":\"\"}}}],\"scattermapbox\":[{\"type\":\"scattermapbox\",\"marker\":{\"colorbar\":{\"outlinewidth\":0,\"ticks\":\"\"}}}],\"scatterternary\":[{\"type\":\"scatterternary\",\"marker\":{\"colorbar\":{\"outlinewidth\":0,\"ticks\":\"\"}}}],\"scattercarpet\":[{\"type\":\"scattercarpet\",\"marker\":{\"colorbar\":{\"outlinewidth\":0,\"ticks\":\"\"}}}],\"carpet\":[{\"aaxis\":{\"endlinecolor\":\"#2a3f5f\",\"gridcolor\":\"white\",\"linecolor\":\"white\",\"minorgridcolor\":\"white\",\"startlinecolor\":\"#2a3f5f\"},\"baxis\":{\"endlinecolor\":\"#2a3f5f\",\"gridcolor\":\"white\",\"linecolor\":\"white\",\"minorgridcolor\":\"white\",\"startlinecolor\":\"#2a3f5f\"},\"type\":\"carpet\"}],\"table\":[{\"cells\":{\"fill\":{\"color\":\"#EBF0F8\"},\"line\":{\"color\":\"white\"}},\"header\":{\"fill\":{\"color\":\"#C8D4E3\"},\"line\":{\"color\":\"white\"}},\"type\":\"table\"}],\"barpolar\":[{\"marker\":{\"line\":{\"color\":\"#E5ECF6\",\"width\":0.5},\"pattern\":{\"fillmode\":\"overlay\",\"size\":10,\"solidity\":0.2}},\"type\":\"barpolar\"}],\"pie\":[{\"automargin\":true,\"type\":\"pie\"}]},\"layout\":{\"autotypenumbers\":\"strict\",\"colorway\":[\"#636efa\",\"#EF553B\",\"#00cc96\",\"#ab63fa\",\"#FFA15A\",\"#19d3f3\",\"#FF6692\",\"#B6E880\",\"#FF97FF\",\"#FECB52\"],\"font\":{\"color\":\"#2a3f5f\"},\"hovermode\":\"closest\",\"hoverlabel\":{\"align\":\"left\"},\"paper_bgcolor\":\"white\",\"plot_bgcolor\":\"#E5ECF6\",\"polar\":{\"bgcolor\":\"#E5ECF6\",\"angularaxis\":{\"gridcolor\":\"white\",\"linecolor\":\"white\",\"ticks\":\"\"},\"radialaxis\":{\"gridcolor\":\"white\",\"linecolor\":\"white\",\"ticks\":\"\"}},\"ternary\":{\"bgcolor\":\"#E5ECF6\",\"aaxis\":{\"gridcolor\":\"white\",\"linecolor\":\"white\",\"ticks\":\"\"},\"baxis\":{\"gridcolor\":\"white\",\"linecolor\":\"white\",\"ticks\":\"\"},\"caxis\":{\"gridcolor\":\"white\",\"linecolor\":\"white\",\"ticks\":\"\"}},\"coloraxis\":{\"colorbar\":{\"outlinewidth\":0,\"ticks\":\"\"}},\"colorscale\":{\"sequential\":[[0.0,\"#0d0887\"],[0.1111111111111111,\"#46039f\"],[0.2222222222222222,\"#7201a8\"],[0.3333333333333333,\"#9c179e\"],[0.4444444444444444,\"#bd3786\"],[0.5555555555555556,\"#d8576b\"],[0.6666666666666666,\"#ed7953\"],[0.7777777777777778,\"#fb9f3a\"],[0.8888888888888888,\"#fdca26\"],[1.0,\"#f0f921\"]],\"sequentialminus\":[[0.0,\"#0d0887\"],[0.1111111111111111,\"#46039f\"],[0.2222222222222222,\"#7201a8\"],[0.3333333333333333,\"#9c179e\"],[0.4444444444444444,\"#bd3786\"],[0.5555555555555556,\"#d8576b\"],[0.6666666666666666,\"#ed7953\"],[0.7777777777777778,\"#fb9f3a\"],[0.8888888888888888,\"#fdca26\"],[1.0,\"#f0f921\"]],\"diverging\":[[0,\"#8e0152\"],[0.1,\"#c51b7d\"],[0.2,\"#de77ae\"],[0.3,\"#f1b6da\"],[0.4,\"#fde0ef\"],[0.5,\"#f7f7f7\"],[0.6,\"#e6f5d0\"],[0.7,\"#b8e186\"],[0.8,\"#7fbc41\"],[0.9,\"#4d9221\"],[1,\"#276419\"]]},\"xaxis\":{\"gridcolor\":\"white\",\"linecolor\":\"white\",\"ticks\":\"\",\"title\":{\"standoff\":15},\"zerolinecolor\":\"white\",\"automargin\":true,\"zerolinewidth\":2},\"yaxis\":{\"gridcolor\":\"white\",\"linecolor\":\"white\",\"ticks\":\"\",\"title\":{\"standoff\":15},\"zerolinecolor\":\"white\",\"automargin\":true,\"zerolinewidth\":2},\"scene\":{\"xaxis\":{\"backgroundcolor\":\"#E5ECF6\",\"gridcolor\":\"white\",\"linecolor\":\"white\",\"showbackground\":true,\"ticks\":\"\",\"zerolinecolor\":\"white\",\"gridwidth\":2},\"yaxis\":{\"backgroundcolor\":\"#E5ECF6\",\"gridcolor\":\"white\",\"linecolor\":\"white\",\"showbackground\":true,\"ticks\":\"\",\"zerolinecolor\":\"white\",\"gridwidth\":2},\"zaxis\":{\"backgroundcolor\":\"#E5ECF6\",\"gridcolor\":\"white\",\"linecolor\":\"white\",\"showbackground\":true,\"ticks\":\"\",\"zerolinecolor\":\"white\",\"gridwidth\":2}},\"shapedefaults\":{\"line\":{\"color\":\"#2a3f5f\"}},\"annotationdefaults\":{\"arrowcolor\":\"#2a3f5f\",\"arrowhead\":0,\"arrowwidth\":1},\"geo\":{\"bgcolor\":\"white\",\"landcolor\":\"#E5ECF6\",\"subunitcolor\":\"white\",\"showland\":true,\"showlakes\":true,\"lakecolor\":\"white\"},\"title\":{\"x\":0.05},\"mapbox\":{\"style\":\"light\"}}},\"legend\":{\"tracegroupgap\":0},\"title\":{\"text\":\"Coffee Colors\"}},                        {\"responsive\": true}                    ).then(function(){\n",
       "                            \n",
       "var gd = document.getElementById('63e940bc-80e2-4acf-b8e0-3706cc996cd6');\n",
       "var x = new MutationObserver(function (mutations, observer) {{\n",
       "        var display = window.getComputedStyle(gd).display;\n",
       "        if (!display || display === 'none') {{\n",
       "            console.log([gd, 'removed!']);\n",
       "            Plotly.purge(gd);\n",
       "            observer.disconnect();\n",
       "        }}\n",
       "}});\n",
       "\n",
       "// Listen for the removal of the full notebook cells\n",
       "var notebookContainer = gd.closest('#notebook-container');\n",
       "if (notebookContainer) {{\n",
       "    x.observe(notebookContainer, {childList: true});\n",
       "}}\n",
       "\n",
       "// Listen for the clearing of the current output cell\n",
       "var outputEl = gd.closest('.output');\n",
       "if (outputEl) {{\n",
       "    x.observe(outputEl, {childList: true});\n",
       "}}\n",
       "\n",
       "                        })                };                });            </script>        </div>"
      ]
     },
     "metadata": {},
     "output_type": "display_data"
    }
   ],
   "source": [
    "# Lets see the visualization in Pie chart\n",
    "import plotly.express as px\n",
    "\n",
    "fig = px.pie(coffee_data, names='Color', title='Coffee Colors')\n",
    "fig.show()"
   ]
  },
  {
   "cell_type": "code",
   "execution_count": 217,
   "id": "be3826b8",
   "metadata": {},
   "outputs": [
    {
     "data": {
      "application/vnd.plotly.v1+json": {
       "config": {
        "plotlyServerURL": "https://plot.ly"
       },
       "data": [
        {
         "alignmentgroup": "True",
         "bingroup": "x",
         "hovertemplate": "Acidity=%{x}<br>count=%{y}<extra></extra>",
         "legendgroup": "8.58",
         "marker": {
          "color": "#636efa",
          "pattern": {
           "shape": ""
          }
         },
         "name": "8.58",
         "offsetgroup": "8.58",
         "orientation": "v",
         "showlegend": true,
         "type": "histogram",
         "x": [
          8.58
         ],
         "xaxis": "x",
         "yaxis": "y"
        },
        {
         "alignmentgroup": "True",
         "bingroup": "x",
         "hovertemplate": "Acidity=%{x}<br>count=%{y}<extra></extra>",
         "legendgroup": "8.0",
         "marker": {
          "color": "#EF553B",
          "pattern": {
           "shape": ""
          }
         },
         "name": "8.0",
         "offsetgroup": "8.0",
         "orientation": "v",
         "showlegend": true,
         "type": "histogram",
         "x": [
          8,
          8,
          8,
          8,
          8,
          8,
          8,
          8,
          8,
          8,
          8,
          8,
          8,
          8
         ],
         "xaxis": "x",
         "yaxis": "y"
        },
        {
         "alignmentgroup": "True",
         "bingroup": "x",
         "hovertemplate": "Acidity=%{x}<br>count=%{y}<extra></extra>",
         "legendgroup": "8.17",
         "marker": {
          "color": "#00cc96",
          "pattern": {
           "shape": ""
          }
         },
         "name": "8.17",
         "offsetgroup": "8.17",
         "orientation": "v",
         "showlegend": true,
         "type": "histogram",
         "x": [
          8.17,
          8.17,
          8.17,
          8.17,
          8.17
         ],
         "xaxis": "x",
         "yaxis": "y"
        },
        {
         "alignmentgroup": "True",
         "bingroup": "x",
         "hovertemplate": "Acidity=%{x}<br>count=%{y}<extra></extra>",
         "legendgroup": "8.25",
         "marker": {
          "color": "#ab63fa",
          "pattern": {
           "shape": ""
          }
         },
         "name": "8.25",
         "offsetgroup": "8.25",
         "orientation": "v",
         "showlegend": true,
         "type": "histogram",
         "x": [
          8.25,
          8.25
         ],
         "xaxis": "x",
         "yaxis": "y"
        },
        {
         "alignmentgroup": "True",
         "bingroup": "x",
         "hovertemplate": "Acidity=%{x}<br>count=%{y}<extra></extra>",
         "legendgroup": "7.83",
         "marker": {
          "color": "#FFA15A",
          "pattern": {
           "shape": ""
          }
         },
         "name": "7.83",
         "offsetgroup": "7.83",
         "orientation": "v",
         "showlegend": true,
         "type": "histogram",
         "x": [
          7.83,
          7.83,
          7.83,
          7.83,
          7.83,
          7.83,
          7.83,
          7.83,
          7.83,
          7.83,
          7.83,
          7.83,
          7.83,
          7.83,
          7.83,
          7.83,
          7.83,
          7.83,
          7.83,
          7.83
         ],
         "xaxis": "x",
         "yaxis": "y"
        },
        {
         "alignmentgroup": "True",
         "bingroup": "x",
         "hovertemplate": "Acidity=%{x}<br>count=%{y}<extra></extra>",
         "legendgroup": "8.08",
         "marker": {
          "color": "#19d3f3",
          "pattern": {
           "shape": ""
          }
         },
         "name": "8.08",
         "offsetgroup": "8.08",
         "orientation": "v",
         "showlegend": true,
         "type": "histogram",
         "x": [
          8.08,
          8.08,
          8.08
         ],
         "xaxis": "x",
         "yaxis": "y"
        },
        {
         "alignmentgroup": "True",
         "bingroup": "x",
         "hovertemplate": "Acidity=%{x}<br>count=%{y}<extra></extra>",
         "legendgroup": "7.75",
         "marker": {
          "color": "#FF6692",
          "pattern": {
           "shape": ""
          }
         },
         "name": "7.75",
         "offsetgroup": "7.75",
         "orientation": "v",
         "showlegend": true,
         "type": "histogram",
         "x": [
          7.75,
          7.75,
          7.75,
          7.75,
          7.75,
          7.75,
          7.75,
          7.75,
          7.75,
          7.75,
          7.75,
          7.75,
          7.75,
          7.75,
          7.75,
          7.75,
          7.75,
          7.75,
          7.75,
          7.75,
          7.75,
          7.75,
          7.75,
          7.75,
          7.75,
          7.75,
          7.75,
          7.75,
          7.75,
          7.75,
          7.75
         ],
         "xaxis": "x",
         "yaxis": "y"
        },
        {
         "alignmentgroup": "True",
         "bingroup": "x",
         "hovertemplate": "Acidity=%{x}<br>count=%{y}<extra></extra>",
         "legendgroup": "8.33",
         "marker": {
          "color": "#B6E880",
          "pattern": {
           "shape": ""
          }
         },
         "name": "8.33",
         "offsetgroup": "8.33",
         "orientation": "v",
         "showlegend": true,
         "type": "histogram",
         "x": [
          8.33
         ],
         "xaxis": "x",
         "yaxis": "y"
        },
        {
         "alignmentgroup": "True",
         "bingroup": "x",
         "hovertemplate": "Acidity=%{x}<br>count=%{y}<extra></extra>",
         "legendgroup": "7.92",
         "marker": {
          "color": "#FF97FF",
          "pattern": {
           "shape": ""
          }
         },
         "name": "7.92",
         "offsetgroup": "7.92",
         "orientation": "v",
         "showlegend": true,
         "type": "histogram",
         "x": [
          7.92,
          7.92,
          7.92,
          7.92,
          7.92,
          7.92,
          7.92,
          7.92,
          7.92,
          7.92,
          7.92,
          7.92,
          7.92,
          7.92,
          7.92,
          7.92,
          7.92,
          7.92,
          7.92,
          7.92,
          7.92,
          7.92,
          7.92,
          7.92,
          7.92,
          7.92
         ],
         "xaxis": "x",
         "yaxis": "y"
        },
        {
         "alignmentgroup": "True",
         "bingroup": "x",
         "hovertemplate": "Acidity=%{x}<br>count=%{y}<extra></extra>",
         "legendgroup": "7.58",
         "marker": {
          "color": "#FECB52",
          "pattern": {
           "shape": ""
          }
         },
         "name": "7.58",
         "offsetgroup": "7.58",
         "orientation": "v",
         "showlegend": true,
         "type": "histogram",
         "x": [
          7.58,
          7.58,
          7.58,
          7.58,
          7.58,
          7.58,
          7.58,
          7.58,
          7.58,
          7.58,
          7.58,
          7.58,
          7.58,
          7.58,
          7.58,
          7.58,
          7.58,
          7.58,
          7.58
         ],
         "xaxis": "x",
         "yaxis": "y"
        },
        {
         "alignmentgroup": "True",
         "bingroup": "x",
         "hovertemplate": "Acidity=%{x}<br>count=%{y}<extra></extra>",
         "legendgroup": "7.67",
         "marker": {
          "color": "#636efa",
          "pattern": {
           "shape": ""
          }
         },
         "name": "7.67",
         "offsetgroup": "7.67",
         "orientation": "v",
         "showlegend": true,
         "type": "histogram",
         "x": [
          7.67,
          7.67,
          7.67,
          7.67,
          7.67,
          7.67,
          7.67,
          7.67,
          7.67,
          7.67,
          7.67,
          7.67,
          7.67,
          7.67,
          7.67,
          7.67,
          7.67,
          7.67,
          7.67,
          7.67,
          7.67,
          7.67,
          7.67,
          7.67,
          7.67
         ],
         "xaxis": "x",
         "yaxis": "y"
        },
        {
         "alignmentgroup": "True",
         "bingroup": "x",
         "hovertemplate": "Acidity=%{x}<br>count=%{y}<extra></extra>",
         "legendgroup": "7.5",
         "marker": {
          "color": "#EF553B",
          "pattern": {
           "shape": ""
          }
         },
         "name": "7.5",
         "offsetgroup": "7.5",
         "orientation": "v",
         "showlegend": true,
         "type": "histogram",
         "x": [
          7.5,
          7.5,
          7.5,
          7.5,
          7.5,
          7.5,
          7.5,
          7.5,
          7.5,
          7.5,
          7.5,
          7.5,
          7.5,
          7.5,
          7.5,
          7.5,
          7.5,
          7.5,
          7.5,
          7.5,
          7.5,
          7.5,
          7.5
         ],
         "xaxis": "x",
         "yaxis": "y"
        },
        {
         "alignmentgroup": "True",
         "bingroup": "x",
         "hovertemplate": "Acidity=%{x}<br>count=%{y}<extra></extra>",
         "legendgroup": "7.33",
         "marker": {
          "color": "#00cc96",
          "pattern": {
           "shape": ""
          }
         },
         "name": "7.33",
         "offsetgroup": "7.33",
         "orientation": "v",
         "showlegend": true,
         "type": "histogram",
         "x": [
          7.33,
          7.33,
          7.33,
          7.33,
          7.33,
          7.33,
          7.33,
          7.33,
          7.33,
          7.33,
          7.33
         ],
         "xaxis": "x",
         "yaxis": "y"
        },
        {
         "alignmentgroup": "True",
         "bingroup": "x",
         "hovertemplate": "Acidity=%{x}<br>count=%{y}<extra></extra>",
         "legendgroup": "7.42",
         "marker": {
          "color": "#ab63fa",
          "pattern": {
           "shape": ""
          }
         },
         "name": "7.42",
         "offsetgroup": "7.42",
         "orientation": "v",
         "showlegend": true,
         "type": "histogram",
         "x": [
          7.42,
          7.42,
          7.42,
          7.42,
          7.42,
          7.42,
          7.42,
          7.42,
          7.42,
          7.42,
          7.42,
          7.42,
          7.42,
          7.42,
          7.42
         ],
         "xaxis": "x",
         "yaxis": "y"
        },
        {
         "alignmentgroup": "True",
         "bingroup": "x",
         "hovertemplate": "Acidity=%{x}<br>count=%{y}<extra></extra>",
         "legendgroup": "7.25",
         "marker": {
          "color": "#FFA15A",
          "pattern": {
           "shape": ""
          }
         },
         "name": "7.25",
         "offsetgroup": "7.25",
         "orientation": "v",
         "showlegend": true,
         "type": "histogram",
         "x": [
          7.25,
          7.25,
          7.25
         ],
         "xaxis": "x",
         "yaxis": "y"
        },
        {
         "alignmentgroup": "True",
         "bingroup": "x",
         "hovertemplate": "Acidity=%{x}<br>count=%{y}<extra></extra>",
         "legendgroup": "7.08",
         "marker": {
          "color": "#19d3f3",
          "pattern": {
           "shape": ""
          }
         },
         "name": "7.08",
         "offsetgroup": "7.08",
         "orientation": "v",
         "showlegend": true,
         "type": "histogram",
         "x": [
          7.08,
          7.08
         ],
         "xaxis": "x",
         "yaxis": "y"
        },
        {
         "alignmentgroup": "True",
         "bingroup": "x",
         "hovertemplate": "Acidity=%{x}<br>count=%{y}<extra></extra>",
         "legendgroup": "7.17",
         "marker": {
          "color": "#FF6692",
          "pattern": {
           "shape": ""
          }
         },
         "name": "7.17",
         "offsetgroup": "7.17",
         "orientation": "v",
         "showlegend": true,
         "type": "histogram",
         "x": [
          7.17,
          7.17,
          7.17,
          7.17
         ],
         "xaxis": "x",
         "yaxis": "y"
        },
        {
         "alignmentgroup": "True",
         "bingroup": "x",
         "hovertemplate": "Acidity=%{x}<br>count=%{y}<extra></extra>",
         "legendgroup": "7.0",
         "marker": {
          "color": "#B6E880",
          "pattern": {
           "shape": ""
          }
         },
         "name": "7.0",
         "offsetgroup": "7.0",
         "orientation": "v",
         "showlegend": true,
         "type": "histogram",
         "x": [
          7
         ],
         "xaxis": "x",
         "yaxis": "y"
        },
        {
         "alignmentgroup": "True",
         "bingroup": "x",
         "hovertemplate": "Acidity=%{x}<br>count=%{y}<extra></extra>",
         "legendgroup": "6.83",
         "marker": {
          "color": "#FF97FF",
          "pattern": {
           "shape": ""
          }
         },
         "name": "6.83",
         "offsetgroup": "6.83",
         "orientation": "v",
         "showlegend": true,
         "type": "histogram",
         "x": [
          6.83
         ],
         "xaxis": "x",
         "yaxis": "y"
        }
       ],
       "layout": {
        "barmode": "relative",
        "legend": {
         "title": {
          "text": "Acidity"
         },
         "tracegroupgap": 0
        },
        "margin": {
         "t": 60
        },
        "template": {
         "data": {
          "bar": [
           {
            "error_x": {
             "color": "#2a3f5f"
            },
            "error_y": {
             "color": "#2a3f5f"
            },
            "marker": {
             "line": {
              "color": "#E5ECF6",
              "width": 0.5
             },
             "pattern": {
              "fillmode": "overlay",
              "size": 10,
              "solidity": 0.2
             }
            },
            "type": "bar"
           }
          ],
          "barpolar": [
           {
            "marker": {
             "line": {
              "color": "#E5ECF6",
              "width": 0.5
             },
             "pattern": {
              "fillmode": "overlay",
              "size": 10,
              "solidity": 0.2
             }
            },
            "type": "barpolar"
           }
          ],
          "carpet": [
           {
            "aaxis": {
             "endlinecolor": "#2a3f5f",
             "gridcolor": "white",
             "linecolor": "white",
             "minorgridcolor": "white",
             "startlinecolor": "#2a3f5f"
            },
            "baxis": {
             "endlinecolor": "#2a3f5f",
             "gridcolor": "white",
             "linecolor": "white",
             "minorgridcolor": "white",
             "startlinecolor": "#2a3f5f"
            },
            "type": "carpet"
           }
          ],
          "choropleth": [
           {
            "colorbar": {
             "outlinewidth": 0,
             "ticks": ""
            },
            "type": "choropleth"
           }
          ],
          "contour": [
           {
            "colorbar": {
             "outlinewidth": 0,
             "ticks": ""
            },
            "colorscale": [
             [
              0,
              "#0d0887"
             ],
             [
              0.1111111111111111,
              "#46039f"
             ],
             [
              0.2222222222222222,
              "#7201a8"
             ],
             [
              0.3333333333333333,
              "#9c179e"
             ],
             [
              0.4444444444444444,
              "#bd3786"
             ],
             [
              0.5555555555555556,
              "#d8576b"
             ],
             [
              0.6666666666666666,
              "#ed7953"
             ],
             [
              0.7777777777777778,
              "#fb9f3a"
             ],
             [
              0.8888888888888888,
              "#fdca26"
             ],
             [
              1,
              "#f0f921"
             ]
            ],
            "type": "contour"
           }
          ],
          "contourcarpet": [
           {
            "colorbar": {
             "outlinewidth": 0,
             "ticks": ""
            },
            "type": "contourcarpet"
           }
          ],
          "heatmap": [
           {
            "colorbar": {
             "outlinewidth": 0,
             "ticks": ""
            },
            "colorscale": [
             [
              0,
              "#0d0887"
             ],
             [
              0.1111111111111111,
              "#46039f"
             ],
             [
              0.2222222222222222,
              "#7201a8"
             ],
             [
              0.3333333333333333,
              "#9c179e"
             ],
             [
              0.4444444444444444,
              "#bd3786"
             ],
             [
              0.5555555555555556,
              "#d8576b"
             ],
             [
              0.6666666666666666,
              "#ed7953"
             ],
             [
              0.7777777777777778,
              "#fb9f3a"
             ],
             [
              0.8888888888888888,
              "#fdca26"
             ],
             [
              1,
              "#f0f921"
             ]
            ],
            "type": "heatmap"
           }
          ],
          "heatmapgl": [
           {
            "colorbar": {
             "outlinewidth": 0,
             "ticks": ""
            },
            "colorscale": [
             [
              0,
              "#0d0887"
             ],
             [
              0.1111111111111111,
              "#46039f"
             ],
             [
              0.2222222222222222,
              "#7201a8"
             ],
             [
              0.3333333333333333,
              "#9c179e"
             ],
             [
              0.4444444444444444,
              "#bd3786"
             ],
             [
              0.5555555555555556,
              "#d8576b"
             ],
             [
              0.6666666666666666,
              "#ed7953"
             ],
             [
              0.7777777777777778,
              "#fb9f3a"
             ],
             [
              0.8888888888888888,
              "#fdca26"
             ],
             [
              1,
              "#f0f921"
             ]
            ],
            "type": "heatmapgl"
           }
          ],
          "histogram": [
           {
            "marker": {
             "pattern": {
              "fillmode": "overlay",
              "size": 10,
              "solidity": 0.2
             }
            },
            "type": "histogram"
           }
          ],
          "histogram2d": [
           {
            "colorbar": {
             "outlinewidth": 0,
             "ticks": ""
            },
            "colorscale": [
             [
              0,
              "#0d0887"
             ],
             [
              0.1111111111111111,
              "#46039f"
             ],
             [
              0.2222222222222222,
              "#7201a8"
             ],
             [
              0.3333333333333333,
              "#9c179e"
             ],
             [
              0.4444444444444444,
              "#bd3786"
             ],
             [
              0.5555555555555556,
              "#d8576b"
             ],
             [
              0.6666666666666666,
              "#ed7953"
             ],
             [
              0.7777777777777778,
              "#fb9f3a"
             ],
             [
              0.8888888888888888,
              "#fdca26"
             ],
             [
              1,
              "#f0f921"
             ]
            ],
            "type": "histogram2d"
           }
          ],
          "histogram2dcontour": [
           {
            "colorbar": {
             "outlinewidth": 0,
             "ticks": ""
            },
            "colorscale": [
             [
              0,
              "#0d0887"
             ],
             [
              0.1111111111111111,
              "#46039f"
             ],
             [
              0.2222222222222222,
              "#7201a8"
             ],
             [
              0.3333333333333333,
              "#9c179e"
             ],
             [
              0.4444444444444444,
              "#bd3786"
             ],
             [
              0.5555555555555556,
              "#d8576b"
             ],
             [
              0.6666666666666666,
              "#ed7953"
             ],
             [
              0.7777777777777778,
              "#fb9f3a"
             ],
             [
              0.8888888888888888,
              "#fdca26"
             ],
             [
              1,
              "#f0f921"
             ]
            ],
            "type": "histogram2dcontour"
           }
          ],
          "mesh3d": [
           {
            "colorbar": {
             "outlinewidth": 0,
             "ticks": ""
            },
            "type": "mesh3d"
           }
          ],
          "parcoords": [
           {
            "line": {
             "colorbar": {
              "outlinewidth": 0,
              "ticks": ""
             }
            },
            "type": "parcoords"
           }
          ],
          "pie": [
           {
            "automargin": true,
            "type": "pie"
           }
          ],
          "scatter": [
           {
            "fillpattern": {
             "fillmode": "overlay",
             "size": 10,
             "solidity": 0.2
            },
            "type": "scatter"
           }
          ],
          "scatter3d": [
           {
            "line": {
             "colorbar": {
              "outlinewidth": 0,
              "ticks": ""
             }
            },
            "marker": {
             "colorbar": {
              "outlinewidth": 0,
              "ticks": ""
             }
            },
            "type": "scatter3d"
           }
          ],
          "scattercarpet": [
           {
            "marker": {
             "colorbar": {
              "outlinewidth": 0,
              "ticks": ""
             }
            },
            "type": "scattercarpet"
           }
          ],
          "scattergeo": [
           {
            "marker": {
             "colorbar": {
              "outlinewidth": 0,
              "ticks": ""
             }
            },
            "type": "scattergeo"
           }
          ],
          "scattergl": [
           {
            "marker": {
             "colorbar": {
              "outlinewidth": 0,
              "ticks": ""
             }
            },
            "type": "scattergl"
           }
          ],
          "scattermapbox": [
           {
            "marker": {
             "colorbar": {
              "outlinewidth": 0,
              "ticks": ""
             }
            },
            "type": "scattermapbox"
           }
          ],
          "scatterpolar": [
           {
            "marker": {
             "colorbar": {
              "outlinewidth": 0,
              "ticks": ""
             }
            },
            "type": "scatterpolar"
           }
          ],
          "scatterpolargl": [
           {
            "marker": {
             "colorbar": {
              "outlinewidth": 0,
              "ticks": ""
             }
            },
            "type": "scatterpolargl"
           }
          ],
          "scatterternary": [
           {
            "marker": {
             "colorbar": {
              "outlinewidth": 0,
              "ticks": ""
             }
            },
            "type": "scatterternary"
           }
          ],
          "surface": [
           {
            "colorbar": {
             "outlinewidth": 0,
             "ticks": ""
            },
            "colorscale": [
             [
              0,
              "#0d0887"
             ],
             [
              0.1111111111111111,
              "#46039f"
             ],
             [
              0.2222222222222222,
              "#7201a8"
             ],
             [
              0.3333333333333333,
              "#9c179e"
             ],
             [
              0.4444444444444444,
              "#bd3786"
             ],
             [
              0.5555555555555556,
              "#d8576b"
             ],
             [
              0.6666666666666666,
              "#ed7953"
             ],
             [
              0.7777777777777778,
              "#fb9f3a"
             ],
             [
              0.8888888888888888,
              "#fdca26"
             ],
             [
              1,
              "#f0f921"
             ]
            ],
            "type": "surface"
           }
          ],
          "table": [
           {
            "cells": {
             "fill": {
              "color": "#EBF0F8"
             },
             "line": {
              "color": "white"
             }
            },
            "header": {
             "fill": {
              "color": "#C8D4E3"
             },
             "line": {
              "color": "white"
             }
            },
            "type": "table"
           }
          ]
         },
         "layout": {
          "annotationdefaults": {
           "arrowcolor": "#2a3f5f",
           "arrowhead": 0,
           "arrowwidth": 1
          },
          "autotypenumbers": "strict",
          "coloraxis": {
           "colorbar": {
            "outlinewidth": 0,
            "ticks": ""
           }
          },
          "colorscale": {
           "diverging": [
            [
             0,
             "#8e0152"
            ],
            [
             0.1,
             "#c51b7d"
            ],
            [
             0.2,
             "#de77ae"
            ],
            [
             0.3,
             "#f1b6da"
            ],
            [
             0.4,
             "#fde0ef"
            ],
            [
             0.5,
             "#f7f7f7"
            ],
            [
             0.6,
             "#e6f5d0"
            ],
            [
             0.7,
             "#b8e186"
            ],
            [
             0.8,
             "#7fbc41"
            ],
            [
             0.9,
             "#4d9221"
            ],
            [
             1,
             "#276419"
            ]
           ],
           "sequential": [
            [
             0,
             "#0d0887"
            ],
            [
             0.1111111111111111,
             "#46039f"
            ],
            [
             0.2222222222222222,
             "#7201a8"
            ],
            [
             0.3333333333333333,
             "#9c179e"
            ],
            [
             0.4444444444444444,
             "#bd3786"
            ],
            [
             0.5555555555555556,
             "#d8576b"
            ],
            [
             0.6666666666666666,
             "#ed7953"
            ],
            [
             0.7777777777777778,
             "#fb9f3a"
            ],
            [
             0.8888888888888888,
             "#fdca26"
            ],
            [
             1,
             "#f0f921"
            ]
           ],
           "sequentialminus": [
            [
             0,
             "#0d0887"
            ],
            [
             0.1111111111111111,
             "#46039f"
            ],
            [
             0.2222222222222222,
             "#7201a8"
            ],
            [
             0.3333333333333333,
             "#9c179e"
            ],
            [
             0.4444444444444444,
             "#bd3786"
            ],
            [
             0.5555555555555556,
             "#d8576b"
            ],
            [
             0.6666666666666666,
             "#ed7953"
            ],
            [
             0.7777777777777778,
             "#fb9f3a"
            ],
            [
             0.8888888888888888,
             "#fdca26"
            ],
            [
             1,
             "#f0f921"
            ]
           ]
          },
          "colorway": [
           "#636efa",
           "#EF553B",
           "#00cc96",
           "#ab63fa",
           "#FFA15A",
           "#19d3f3",
           "#FF6692",
           "#B6E880",
           "#FF97FF",
           "#FECB52"
          ],
          "font": {
           "color": "#2a3f5f"
          },
          "geo": {
           "bgcolor": "white",
           "lakecolor": "white",
           "landcolor": "#E5ECF6",
           "showlakes": true,
           "showland": true,
           "subunitcolor": "white"
          },
          "hoverlabel": {
           "align": "left"
          },
          "hovermode": "closest",
          "mapbox": {
           "style": "light"
          },
          "paper_bgcolor": "white",
          "plot_bgcolor": "#E5ECF6",
          "polar": {
           "angularaxis": {
            "gridcolor": "white",
            "linecolor": "white",
            "ticks": ""
           },
           "bgcolor": "#E5ECF6",
           "radialaxis": {
            "gridcolor": "white",
            "linecolor": "white",
            "ticks": ""
           }
          },
          "scene": {
           "xaxis": {
            "backgroundcolor": "#E5ECF6",
            "gridcolor": "white",
            "gridwidth": 2,
            "linecolor": "white",
            "showbackground": true,
            "ticks": "",
            "zerolinecolor": "white"
           },
           "yaxis": {
            "backgroundcolor": "#E5ECF6",
            "gridcolor": "white",
            "gridwidth": 2,
            "linecolor": "white",
            "showbackground": true,
            "ticks": "",
            "zerolinecolor": "white"
           },
           "zaxis": {
            "backgroundcolor": "#E5ECF6",
            "gridcolor": "white",
            "gridwidth": 2,
            "linecolor": "white",
            "showbackground": true,
            "ticks": "",
            "zerolinecolor": "white"
           }
          },
          "shapedefaults": {
           "line": {
            "color": "#2a3f5f"
           }
          },
          "ternary": {
           "aaxis": {
            "gridcolor": "white",
            "linecolor": "white",
            "ticks": ""
           },
           "baxis": {
            "gridcolor": "white",
            "linecolor": "white",
            "ticks": ""
           },
           "bgcolor": "#E5ECF6",
           "caxis": {
            "gridcolor": "white",
            "linecolor": "white",
            "ticks": ""
           }
          },
          "title": {
           "x": 0.05
          },
          "xaxis": {
           "automargin": true,
           "gridcolor": "white",
           "linecolor": "white",
           "ticks": "",
           "title": {
            "standoff": 15
           },
           "zerolinecolor": "white",
           "zerolinewidth": 2
          },
          "yaxis": {
           "automargin": true,
           "gridcolor": "white",
           "linecolor": "white",
           "ticks": "",
           "title": {
            "standoff": 15
           },
           "zerolinecolor": "white",
           "zerolinewidth": 2
          }
         }
        },
        "xaxis": {
         "anchor": "y",
         "categoryarray": [
          8.58,
          8,
          8.17,
          8.25,
          7.83,
          8.08,
          7.75,
          8.33,
          7.92,
          7.58,
          7.67,
          7.5,
          7.33,
          7.42,
          7.25,
          7.08,
          7.17,
          7,
          6.83
         ],
         "categoryorder": "array",
         "domain": [
          0,
          1
         ],
         "title": {
          "text": "Acidity"
         }
        },
        "yaxis": {
         "anchor": "x",
         "domain": [
          0,
          1
         ],
         "title": {
          "text": "count"
         }
        }
       }
      },
      "text/html": [
       "<div>                            <div id=\"a578346a-8d31-4e7b-a784-74be6d719d7c\" class=\"plotly-graph-div\" style=\"height:525px; width:100%;\"></div>            <script type=\"text/javascript\">                require([\"plotly\"], function(Plotly) {                    window.PLOTLYENV=window.PLOTLYENV || {};                                    if (document.getElementById(\"a578346a-8d31-4e7b-a784-74be6d719d7c\")) {                    Plotly.newPlot(                        \"a578346a-8d31-4e7b-a784-74be6d719d7c\",                        [{\"alignmentgroup\":\"True\",\"bingroup\":\"x\",\"hovertemplate\":\"Acidity=%{x}<br>count=%{y}<extra></extra>\",\"legendgroup\":\"8.58\",\"marker\":{\"color\":\"#636efa\",\"pattern\":{\"shape\":\"\"}},\"name\":\"8.58\",\"offsetgroup\":\"8.58\",\"orientation\":\"v\",\"showlegend\":true,\"x\":[8.58],\"xaxis\":\"x\",\"yaxis\":\"y\",\"type\":\"histogram\"},{\"alignmentgroup\":\"True\",\"bingroup\":\"x\",\"hovertemplate\":\"Acidity=%{x}<br>count=%{y}<extra></extra>\",\"legendgroup\":\"8.0\",\"marker\":{\"color\":\"#EF553B\",\"pattern\":{\"shape\":\"\"}},\"name\":\"8.0\",\"offsetgroup\":\"8.0\",\"orientation\":\"v\",\"showlegend\":true,\"x\":[8.0,8.0,8.0,8.0,8.0,8.0,8.0,8.0,8.0,8.0,8.0,8.0,8.0,8.0],\"xaxis\":\"x\",\"yaxis\":\"y\",\"type\":\"histogram\"},{\"alignmentgroup\":\"True\",\"bingroup\":\"x\",\"hovertemplate\":\"Acidity=%{x}<br>count=%{y}<extra></extra>\",\"legendgroup\":\"8.17\",\"marker\":{\"color\":\"#00cc96\",\"pattern\":{\"shape\":\"\"}},\"name\":\"8.17\",\"offsetgroup\":\"8.17\",\"orientation\":\"v\",\"showlegend\":true,\"x\":[8.17,8.17,8.17,8.17,8.17],\"xaxis\":\"x\",\"yaxis\":\"y\",\"type\":\"histogram\"},{\"alignmentgroup\":\"True\",\"bingroup\":\"x\",\"hovertemplate\":\"Acidity=%{x}<br>count=%{y}<extra></extra>\",\"legendgroup\":\"8.25\",\"marker\":{\"color\":\"#ab63fa\",\"pattern\":{\"shape\":\"\"}},\"name\":\"8.25\",\"offsetgroup\":\"8.25\",\"orientation\":\"v\",\"showlegend\":true,\"x\":[8.25,8.25],\"xaxis\":\"x\",\"yaxis\":\"y\",\"type\":\"histogram\"},{\"alignmentgroup\":\"True\",\"bingroup\":\"x\",\"hovertemplate\":\"Acidity=%{x}<br>count=%{y}<extra></extra>\",\"legendgroup\":\"7.83\",\"marker\":{\"color\":\"#FFA15A\",\"pattern\":{\"shape\":\"\"}},\"name\":\"7.83\",\"offsetgroup\":\"7.83\",\"orientation\":\"v\",\"showlegend\":true,\"x\":[7.83,7.83,7.83,7.83,7.83,7.83,7.83,7.83,7.83,7.83,7.83,7.83,7.83,7.83,7.83,7.83,7.83,7.83,7.83,7.83],\"xaxis\":\"x\",\"yaxis\":\"y\",\"type\":\"histogram\"},{\"alignmentgroup\":\"True\",\"bingroup\":\"x\",\"hovertemplate\":\"Acidity=%{x}<br>count=%{y}<extra></extra>\",\"legendgroup\":\"8.08\",\"marker\":{\"color\":\"#19d3f3\",\"pattern\":{\"shape\":\"\"}},\"name\":\"8.08\",\"offsetgroup\":\"8.08\",\"orientation\":\"v\",\"showlegend\":true,\"x\":[8.08,8.08,8.08],\"xaxis\":\"x\",\"yaxis\":\"y\",\"type\":\"histogram\"},{\"alignmentgroup\":\"True\",\"bingroup\":\"x\",\"hovertemplate\":\"Acidity=%{x}<br>count=%{y}<extra></extra>\",\"legendgroup\":\"7.75\",\"marker\":{\"color\":\"#FF6692\",\"pattern\":{\"shape\":\"\"}},\"name\":\"7.75\",\"offsetgroup\":\"7.75\",\"orientation\":\"v\",\"showlegend\":true,\"x\":[7.75,7.75,7.75,7.75,7.75,7.75,7.75,7.75,7.75,7.75,7.75,7.75,7.75,7.75,7.75,7.75,7.75,7.75,7.75,7.75,7.75,7.75,7.75,7.75,7.75,7.75,7.75,7.75,7.75,7.75,7.75],\"xaxis\":\"x\",\"yaxis\":\"y\",\"type\":\"histogram\"},{\"alignmentgroup\":\"True\",\"bingroup\":\"x\",\"hovertemplate\":\"Acidity=%{x}<br>count=%{y}<extra></extra>\",\"legendgroup\":\"8.33\",\"marker\":{\"color\":\"#B6E880\",\"pattern\":{\"shape\":\"\"}},\"name\":\"8.33\",\"offsetgroup\":\"8.33\",\"orientation\":\"v\",\"showlegend\":true,\"x\":[8.33],\"xaxis\":\"x\",\"yaxis\":\"y\",\"type\":\"histogram\"},{\"alignmentgroup\":\"True\",\"bingroup\":\"x\",\"hovertemplate\":\"Acidity=%{x}<br>count=%{y}<extra></extra>\",\"legendgroup\":\"7.92\",\"marker\":{\"color\":\"#FF97FF\",\"pattern\":{\"shape\":\"\"}},\"name\":\"7.92\",\"offsetgroup\":\"7.92\",\"orientation\":\"v\",\"showlegend\":true,\"x\":[7.92,7.92,7.92,7.92,7.92,7.92,7.92,7.92,7.92,7.92,7.92,7.92,7.92,7.92,7.92,7.92,7.92,7.92,7.92,7.92,7.92,7.92,7.92,7.92,7.92,7.92],\"xaxis\":\"x\",\"yaxis\":\"y\",\"type\":\"histogram\"},{\"alignmentgroup\":\"True\",\"bingroup\":\"x\",\"hovertemplate\":\"Acidity=%{x}<br>count=%{y}<extra></extra>\",\"legendgroup\":\"7.58\",\"marker\":{\"color\":\"#FECB52\",\"pattern\":{\"shape\":\"\"}},\"name\":\"7.58\",\"offsetgroup\":\"7.58\",\"orientation\":\"v\",\"showlegend\":true,\"x\":[7.58,7.58,7.58,7.58,7.58,7.58,7.58,7.58,7.58,7.58,7.58,7.58,7.58,7.58,7.58,7.58,7.58,7.58,7.58],\"xaxis\":\"x\",\"yaxis\":\"y\",\"type\":\"histogram\"},{\"alignmentgroup\":\"True\",\"bingroup\":\"x\",\"hovertemplate\":\"Acidity=%{x}<br>count=%{y}<extra></extra>\",\"legendgroup\":\"7.67\",\"marker\":{\"color\":\"#636efa\",\"pattern\":{\"shape\":\"\"}},\"name\":\"7.67\",\"offsetgroup\":\"7.67\",\"orientation\":\"v\",\"showlegend\":true,\"x\":[7.67,7.67,7.67,7.67,7.67,7.67,7.67,7.67,7.67,7.67,7.67,7.67,7.67,7.67,7.67,7.67,7.67,7.67,7.67,7.67,7.67,7.67,7.67,7.67,7.67],\"xaxis\":\"x\",\"yaxis\":\"y\",\"type\":\"histogram\"},{\"alignmentgroup\":\"True\",\"bingroup\":\"x\",\"hovertemplate\":\"Acidity=%{x}<br>count=%{y}<extra></extra>\",\"legendgroup\":\"7.5\",\"marker\":{\"color\":\"#EF553B\",\"pattern\":{\"shape\":\"\"}},\"name\":\"7.5\",\"offsetgroup\":\"7.5\",\"orientation\":\"v\",\"showlegend\":true,\"x\":[7.5,7.5,7.5,7.5,7.5,7.5,7.5,7.5,7.5,7.5,7.5,7.5,7.5,7.5,7.5,7.5,7.5,7.5,7.5,7.5,7.5,7.5,7.5],\"xaxis\":\"x\",\"yaxis\":\"y\",\"type\":\"histogram\"},{\"alignmentgroup\":\"True\",\"bingroup\":\"x\",\"hovertemplate\":\"Acidity=%{x}<br>count=%{y}<extra></extra>\",\"legendgroup\":\"7.33\",\"marker\":{\"color\":\"#00cc96\",\"pattern\":{\"shape\":\"\"}},\"name\":\"7.33\",\"offsetgroup\":\"7.33\",\"orientation\":\"v\",\"showlegend\":true,\"x\":[7.33,7.33,7.33,7.33,7.33,7.33,7.33,7.33,7.33,7.33,7.33],\"xaxis\":\"x\",\"yaxis\":\"y\",\"type\":\"histogram\"},{\"alignmentgroup\":\"True\",\"bingroup\":\"x\",\"hovertemplate\":\"Acidity=%{x}<br>count=%{y}<extra></extra>\",\"legendgroup\":\"7.42\",\"marker\":{\"color\":\"#ab63fa\",\"pattern\":{\"shape\":\"\"}},\"name\":\"7.42\",\"offsetgroup\":\"7.42\",\"orientation\":\"v\",\"showlegend\":true,\"x\":[7.42,7.42,7.42,7.42,7.42,7.42,7.42,7.42,7.42,7.42,7.42,7.42,7.42,7.42,7.42],\"xaxis\":\"x\",\"yaxis\":\"y\",\"type\":\"histogram\"},{\"alignmentgroup\":\"True\",\"bingroup\":\"x\",\"hovertemplate\":\"Acidity=%{x}<br>count=%{y}<extra></extra>\",\"legendgroup\":\"7.25\",\"marker\":{\"color\":\"#FFA15A\",\"pattern\":{\"shape\":\"\"}},\"name\":\"7.25\",\"offsetgroup\":\"7.25\",\"orientation\":\"v\",\"showlegend\":true,\"x\":[7.25,7.25,7.25],\"xaxis\":\"x\",\"yaxis\":\"y\",\"type\":\"histogram\"},{\"alignmentgroup\":\"True\",\"bingroup\":\"x\",\"hovertemplate\":\"Acidity=%{x}<br>count=%{y}<extra></extra>\",\"legendgroup\":\"7.08\",\"marker\":{\"color\":\"#19d3f3\",\"pattern\":{\"shape\":\"\"}},\"name\":\"7.08\",\"offsetgroup\":\"7.08\",\"orientation\":\"v\",\"showlegend\":true,\"x\":[7.08,7.08],\"xaxis\":\"x\",\"yaxis\":\"y\",\"type\":\"histogram\"},{\"alignmentgroup\":\"True\",\"bingroup\":\"x\",\"hovertemplate\":\"Acidity=%{x}<br>count=%{y}<extra></extra>\",\"legendgroup\":\"7.17\",\"marker\":{\"color\":\"#FF6692\",\"pattern\":{\"shape\":\"\"}},\"name\":\"7.17\",\"offsetgroup\":\"7.17\",\"orientation\":\"v\",\"showlegend\":true,\"x\":[7.17,7.17,7.17,7.17],\"xaxis\":\"x\",\"yaxis\":\"y\",\"type\":\"histogram\"},{\"alignmentgroup\":\"True\",\"bingroup\":\"x\",\"hovertemplate\":\"Acidity=%{x}<br>count=%{y}<extra></extra>\",\"legendgroup\":\"7.0\",\"marker\":{\"color\":\"#B6E880\",\"pattern\":{\"shape\":\"\"}},\"name\":\"7.0\",\"offsetgroup\":\"7.0\",\"orientation\":\"v\",\"showlegend\":true,\"x\":[7.0],\"xaxis\":\"x\",\"yaxis\":\"y\",\"type\":\"histogram\"},{\"alignmentgroup\":\"True\",\"bingroup\":\"x\",\"hovertemplate\":\"Acidity=%{x}<br>count=%{y}<extra></extra>\",\"legendgroup\":\"6.83\",\"marker\":{\"color\":\"#FF97FF\",\"pattern\":{\"shape\":\"\"}},\"name\":\"6.83\",\"offsetgroup\":\"6.83\",\"orientation\":\"v\",\"showlegend\":true,\"x\":[6.83],\"xaxis\":\"x\",\"yaxis\":\"y\",\"type\":\"histogram\"}],                        {\"template\":{\"data\":{\"histogram2dcontour\":[{\"type\":\"histogram2dcontour\",\"colorbar\":{\"outlinewidth\":0,\"ticks\":\"\"},\"colorscale\":[[0.0,\"#0d0887\"],[0.1111111111111111,\"#46039f\"],[0.2222222222222222,\"#7201a8\"],[0.3333333333333333,\"#9c179e\"],[0.4444444444444444,\"#bd3786\"],[0.5555555555555556,\"#d8576b\"],[0.6666666666666666,\"#ed7953\"],[0.7777777777777778,\"#fb9f3a\"],[0.8888888888888888,\"#fdca26\"],[1.0,\"#f0f921\"]]}],\"choropleth\":[{\"type\":\"choropleth\",\"colorbar\":{\"outlinewidth\":0,\"ticks\":\"\"}}],\"histogram2d\":[{\"type\":\"histogram2d\",\"colorbar\":{\"outlinewidth\":0,\"ticks\":\"\"},\"colorscale\":[[0.0,\"#0d0887\"],[0.1111111111111111,\"#46039f\"],[0.2222222222222222,\"#7201a8\"],[0.3333333333333333,\"#9c179e\"],[0.4444444444444444,\"#bd3786\"],[0.5555555555555556,\"#d8576b\"],[0.6666666666666666,\"#ed7953\"],[0.7777777777777778,\"#fb9f3a\"],[0.8888888888888888,\"#fdca26\"],[1.0,\"#f0f921\"]]}],\"heatmap\":[{\"type\":\"heatmap\",\"colorbar\":{\"outlinewidth\":0,\"ticks\":\"\"},\"colorscale\":[[0.0,\"#0d0887\"],[0.1111111111111111,\"#46039f\"],[0.2222222222222222,\"#7201a8\"],[0.3333333333333333,\"#9c179e\"],[0.4444444444444444,\"#bd3786\"],[0.5555555555555556,\"#d8576b\"],[0.6666666666666666,\"#ed7953\"],[0.7777777777777778,\"#fb9f3a\"],[0.8888888888888888,\"#fdca26\"],[1.0,\"#f0f921\"]]}],\"heatmapgl\":[{\"type\":\"heatmapgl\",\"colorbar\":{\"outlinewidth\":0,\"ticks\":\"\"},\"colorscale\":[[0.0,\"#0d0887\"],[0.1111111111111111,\"#46039f\"],[0.2222222222222222,\"#7201a8\"],[0.3333333333333333,\"#9c179e\"],[0.4444444444444444,\"#bd3786\"],[0.5555555555555556,\"#d8576b\"],[0.6666666666666666,\"#ed7953\"],[0.7777777777777778,\"#fb9f3a\"],[0.8888888888888888,\"#fdca26\"],[1.0,\"#f0f921\"]]}],\"contourcarpet\":[{\"type\":\"contourcarpet\",\"colorbar\":{\"outlinewidth\":0,\"ticks\":\"\"}}],\"contour\":[{\"type\":\"contour\",\"colorbar\":{\"outlinewidth\":0,\"ticks\":\"\"},\"colorscale\":[[0.0,\"#0d0887\"],[0.1111111111111111,\"#46039f\"],[0.2222222222222222,\"#7201a8\"],[0.3333333333333333,\"#9c179e\"],[0.4444444444444444,\"#bd3786\"],[0.5555555555555556,\"#d8576b\"],[0.6666666666666666,\"#ed7953\"],[0.7777777777777778,\"#fb9f3a\"],[0.8888888888888888,\"#fdca26\"],[1.0,\"#f0f921\"]]}],\"surface\":[{\"type\":\"surface\",\"colorbar\":{\"outlinewidth\":0,\"ticks\":\"\"},\"colorscale\":[[0.0,\"#0d0887\"],[0.1111111111111111,\"#46039f\"],[0.2222222222222222,\"#7201a8\"],[0.3333333333333333,\"#9c179e\"],[0.4444444444444444,\"#bd3786\"],[0.5555555555555556,\"#d8576b\"],[0.6666666666666666,\"#ed7953\"],[0.7777777777777778,\"#fb9f3a\"],[0.8888888888888888,\"#fdca26\"],[1.0,\"#f0f921\"]]}],\"mesh3d\":[{\"type\":\"mesh3d\",\"colorbar\":{\"outlinewidth\":0,\"ticks\":\"\"}}],\"scatter\":[{\"fillpattern\":{\"fillmode\":\"overlay\",\"size\":10,\"solidity\":0.2},\"type\":\"scatter\"}],\"parcoords\":[{\"type\":\"parcoords\",\"line\":{\"colorbar\":{\"outlinewidth\":0,\"ticks\":\"\"}}}],\"scatterpolargl\":[{\"type\":\"scatterpolargl\",\"marker\":{\"colorbar\":{\"outlinewidth\":0,\"ticks\":\"\"}}}],\"bar\":[{\"error_x\":{\"color\":\"#2a3f5f\"},\"error_y\":{\"color\":\"#2a3f5f\"},\"marker\":{\"line\":{\"color\":\"#E5ECF6\",\"width\":0.5},\"pattern\":{\"fillmode\":\"overlay\",\"size\":10,\"solidity\":0.2}},\"type\":\"bar\"}],\"scattergeo\":[{\"type\":\"scattergeo\",\"marker\":{\"colorbar\":{\"outlinewidth\":0,\"ticks\":\"\"}}}],\"scatterpolar\":[{\"type\":\"scatterpolar\",\"marker\":{\"colorbar\":{\"outlinewidth\":0,\"ticks\":\"\"}}}],\"histogram\":[{\"marker\":{\"pattern\":{\"fillmode\":\"overlay\",\"size\":10,\"solidity\":0.2}},\"type\":\"histogram\"}],\"scattergl\":[{\"type\":\"scattergl\",\"marker\":{\"colorbar\":{\"outlinewidth\":0,\"ticks\":\"\"}}}],\"scatter3d\":[{\"type\":\"scatter3d\",\"line\":{\"colorbar\":{\"outlinewidth\":0,\"ticks\":\"\"}},\"marker\":{\"colorbar\":{\"outlinewidth\":0,\"ticks\":\"\"}}}],\"scattermapbox\":[{\"type\":\"scattermapbox\",\"marker\":{\"colorbar\":{\"outlinewidth\":0,\"ticks\":\"\"}}}],\"scatterternary\":[{\"type\":\"scatterternary\",\"marker\":{\"colorbar\":{\"outlinewidth\":0,\"ticks\":\"\"}}}],\"scattercarpet\":[{\"type\":\"scattercarpet\",\"marker\":{\"colorbar\":{\"outlinewidth\":0,\"ticks\":\"\"}}}],\"carpet\":[{\"aaxis\":{\"endlinecolor\":\"#2a3f5f\",\"gridcolor\":\"white\",\"linecolor\":\"white\",\"minorgridcolor\":\"white\",\"startlinecolor\":\"#2a3f5f\"},\"baxis\":{\"endlinecolor\":\"#2a3f5f\",\"gridcolor\":\"white\",\"linecolor\":\"white\",\"minorgridcolor\":\"white\",\"startlinecolor\":\"#2a3f5f\"},\"type\":\"carpet\"}],\"table\":[{\"cells\":{\"fill\":{\"color\":\"#EBF0F8\"},\"line\":{\"color\":\"white\"}},\"header\":{\"fill\":{\"color\":\"#C8D4E3\"},\"line\":{\"color\":\"white\"}},\"type\":\"table\"}],\"barpolar\":[{\"marker\":{\"line\":{\"color\":\"#E5ECF6\",\"width\":0.5},\"pattern\":{\"fillmode\":\"overlay\",\"size\":10,\"solidity\":0.2}},\"type\":\"barpolar\"}],\"pie\":[{\"automargin\":true,\"type\":\"pie\"}]},\"layout\":{\"autotypenumbers\":\"strict\",\"colorway\":[\"#636efa\",\"#EF553B\",\"#00cc96\",\"#ab63fa\",\"#FFA15A\",\"#19d3f3\",\"#FF6692\",\"#B6E880\",\"#FF97FF\",\"#FECB52\"],\"font\":{\"color\":\"#2a3f5f\"},\"hovermode\":\"closest\",\"hoverlabel\":{\"align\":\"left\"},\"paper_bgcolor\":\"white\",\"plot_bgcolor\":\"#E5ECF6\",\"polar\":{\"bgcolor\":\"#E5ECF6\",\"angularaxis\":{\"gridcolor\":\"white\",\"linecolor\":\"white\",\"ticks\":\"\"},\"radialaxis\":{\"gridcolor\":\"white\",\"linecolor\":\"white\",\"ticks\":\"\"}},\"ternary\":{\"bgcolor\":\"#E5ECF6\",\"aaxis\":{\"gridcolor\":\"white\",\"linecolor\":\"white\",\"ticks\":\"\"},\"baxis\":{\"gridcolor\":\"white\",\"linecolor\":\"white\",\"ticks\":\"\"},\"caxis\":{\"gridcolor\":\"white\",\"linecolor\":\"white\",\"ticks\":\"\"}},\"coloraxis\":{\"colorbar\":{\"outlinewidth\":0,\"ticks\":\"\"}},\"colorscale\":{\"sequential\":[[0.0,\"#0d0887\"],[0.1111111111111111,\"#46039f\"],[0.2222222222222222,\"#7201a8\"],[0.3333333333333333,\"#9c179e\"],[0.4444444444444444,\"#bd3786\"],[0.5555555555555556,\"#d8576b\"],[0.6666666666666666,\"#ed7953\"],[0.7777777777777778,\"#fb9f3a\"],[0.8888888888888888,\"#fdca26\"],[1.0,\"#f0f921\"]],\"sequentialminus\":[[0.0,\"#0d0887\"],[0.1111111111111111,\"#46039f\"],[0.2222222222222222,\"#7201a8\"],[0.3333333333333333,\"#9c179e\"],[0.4444444444444444,\"#bd3786\"],[0.5555555555555556,\"#d8576b\"],[0.6666666666666666,\"#ed7953\"],[0.7777777777777778,\"#fb9f3a\"],[0.8888888888888888,\"#fdca26\"],[1.0,\"#f0f921\"]],\"diverging\":[[0,\"#8e0152\"],[0.1,\"#c51b7d\"],[0.2,\"#de77ae\"],[0.3,\"#f1b6da\"],[0.4,\"#fde0ef\"],[0.5,\"#f7f7f7\"],[0.6,\"#e6f5d0\"],[0.7,\"#b8e186\"],[0.8,\"#7fbc41\"],[0.9,\"#4d9221\"],[1,\"#276419\"]]},\"xaxis\":{\"gridcolor\":\"white\",\"linecolor\":\"white\",\"ticks\":\"\",\"title\":{\"standoff\":15},\"zerolinecolor\":\"white\",\"automargin\":true,\"zerolinewidth\":2},\"yaxis\":{\"gridcolor\":\"white\",\"linecolor\":\"white\",\"ticks\":\"\",\"title\":{\"standoff\":15},\"zerolinecolor\":\"white\",\"automargin\":true,\"zerolinewidth\":2},\"scene\":{\"xaxis\":{\"backgroundcolor\":\"#E5ECF6\",\"gridcolor\":\"white\",\"linecolor\":\"white\",\"showbackground\":true,\"ticks\":\"\",\"zerolinecolor\":\"white\",\"gridwidth\":2},\"yaxis\":{\"backgroundcolor\":\"#E5ECF6\",\"gridcolor\":\"white\",\"linecolor\":\"white\",\"showbackground\":true,\"ticks\":\"\",\"zerolinecolor\":\"white\",\"gridwidth\":2},\"zaxis\":{\"backgroundcolor\":\"#E5ECF6\",\"gridcolor\":\"white\",\"linecolor\":\"white\",\"showbackground\":true,\"ticks\":\"\",\"zerolinecolor\":\"white\",\"gridwidth\":2}},\"shapedefaults\":{\"line\":{\"color\":\"#2a3f5f\"}},\"annotationdefaults\":{\"arrowcolor\":\"#2a3f5f\",\"arrowhead\":0,\"arrowwidth\":1},\"geo\":{\"bgcolor\":\"white\",\"landcolor\":\"#E5ECF6\",\"subunitcolor\":\"white\",\"showland\":true,\"showlakes\":true,\"lakecolor\":\"white\"},\"title\":{\"x\":0.05},\"mapbox\":{\"style\":\"light\"}}},\"xaxis\":{\"anchor\":\"y\",\"domain\":[0.0,1.0],\"title\":{\"text\":\"Acidity\"},\"categoryorder\":\"array\",\"categoryarray\":[8.58,8.0,8.17,8.25,7.83,8.08,7.75,8.33,7.92,7.58,7.67,7.5,7.33,7.42,7.25,7.08,7.17,7.0,6.83]},\"yaxis\":{\"anchor\":\"x\",\"domain\":[0.0,1.0],\"title\":{\"text\":\"count\"}},\"legend\":{\"title\":{\"text\":\"Acidity\"},\"tracegroupgap\":0},\"margin\":{\"t\":60},\"barmode\":\"relative\"},                        {\"responsive\": true}                    ).then(function(){\n",
       "                            \n",
       "var gd = document.getElementById('a578346a-8d31-4e7b-a784-74be6d719d7c');\n",
       "var x = new MutationObserver(function (mutations, observer) {{\n",
       "        var display = window.getComputedStyle(gd).display;\n",
       "        if (!display || display === 'none') {{\n",
       "            console.log([gd, 'removed!']);\n",
       "            Plotly.purge(gd);\n",
       "            observer.disconnect();\n",
       "        }}\n",
       "}});\n",
       "\n",
       "// Listen for the removal of the full notebook cells\n",
       "var notebookContainer = gd.closest('#notebook-container');\n",
       "if (notebookContainer) {{\n",
       "    x.observe(notebookContainer, {childList: true});\n",
       "}}\n",
       "\n",
       "// Listen for the clearing of the current output cell\n",
       "var outputEl = gd.closest('.output');\n",
       "if (outputEl) {{\n",
       "    x.observe(outputEl, {childList: true});\n",
       "}}\n",
       "\n",
       "                        })                };                });            </script>        </div>"
      ]
     },
     "metadata": {},
     "output_type": "display_data"
    }
   ],
   "source": [
    "#Lets Plot the histogram for Acidity.\n",
    "fig=px.histogram(coffee_data, x=\"Acidity\", color=\"Acidity\") \n",
    "fig.show()"
   ]
  },
  {
   "cell_type": "code",
   "execution_count": 218,
   "id": "0f3e188e",
   "metadata": {},
   "outputs": [
    {
     "data": {
      "image/png": "[encoded data removed]",
      "text/plain": [
       "<Figure size 500x500 with 1 Axes>"
      ]
     },
     "metadata": {},
     "output_type": "display_data"
    }
   ],
   "source": [
    "# Lets see the relation between Aroma and After taste columns.\n",
    "sns.catplot(data=coffee_data, kind=\"bar\", x=\"Aroma\", y=\"Aftertaste\",palette= \"pastel\")\n",
    "plt.xticks(rotation=90)\n",
    "plt.show()"
   ]
  },
  {
   "cell_type": "code",
   "execution_count": 219,
   "id": "c9115d8f",
   "metadata": {},
   "outputs": [
    {
     "data": {
      "text/plain": [
       "Text(0.5, 1.0, 'Top 10 Most Frequent Company Titles')"
      ]
     },
     "execution_count": 219,
     "metadata": {},
     "output_type": "execute_result"
    },
    {
     "data": {
      "text/plain": [
       "<Figure size 1200x600 with 0 Axes>"
      ]
     },
     "metadata": {},
     "output_type": "display_data"
    },
    {
     "data": {
      "image/png": "[encoded data removed]",
      "text/plain": [
       "<Figure size 640x480 with 1 Axes>"
      ]
     },
     "metadata": {},
     "output_type": "display_data"
    }
   ],
   "source": [
    "# Extract the \"company\" column\n",
    "company = coffee_data['Company']\n",
    "\n",
    "# Calculate the frequency of each company\n",
    "company = company.value_counts()\n",
    "\n",
    "# Extract the top 10 most frequent companies\n",
    "top_10_companies = company.head(10)\n",
    "\n",
    "# Create a DataFrame for the top 10 companies\n",
    "top_10_companies = pd.DataFrame({'Company Title': top_10_companies.index, 'Count': top_10_companies.values})\n",
    "\n",
    "# Plotting the count plot\n",
    "plt.figure(figsize=(12, 6))\n",
    "fig, ax = plt.subplots()\n",
    "ax = sns.barplot(data= top_10_companies, x='Count', y='Company Title', palette=\"Pastel1\")\n",
    "plt.xlabel('Count')\n",
    "plt.ylabel('Company')\n",
    "plt.title('Top 10 Most Frequent Company Titles')"
   ]
  },
  {
   "cell_type": "code",
   "execution_count": 220,
   "id": "bd7aca14",
   "metadata": {},
   "outputs": [
    {
     "data": {
      "text/plain": [
       "0     2023-09-21\n",
       "1     2023-11-15\n",
       "2     2023-11-15\n",
       "3     2023-09-21\n",
       "4     2024-03-05\n",
       "         ...    \n",
       "202   2024-02-02\n",
       "203   2024-03-02\n",
       "204   2023-11-11\n",
       "205   2024-03-07\n",
       "206   2023-11-18\n",
       "Name: Expiration, Length: 207, dtype: datetime64[ns]"
      ]
     },
     "execution_count": 220,
     "metadata": {},
     "output_type": "execute_result"
    }
   ],
   "source": [
    "#Converting the expiration date object data type\n",
    "coffee_data['Expiration'] = pd.to_datetime(coffee_data['Expiration'], errors='coerce')\n",
    "#coffee_data['day'] = (coffee_data['Date']).dt.day\n",
    "#coffee_data['month'] = (coffee_data['Date']).dt.month\n",
    "#coffee_data['year'] = (coffee_data['Date']).dt.year\n",
    "#coffee_data['hour'] = (coffee_data['Date']).dt.hour\n",
    "coffee_data['Expiration']"
   ]
  },
  {
   "cell_type": "code",
   "execution_count": 221,
   "id": "38e66baf",
   "metadata": {},
   "outputs": [
    {
     "data": {
      "image/png": "[encoded data removed]",
      "text/plain": [
       "<Figure size 640x480 with 1 Axes>"
      ]
     },
     "metadata": {},
     "output_type": "display_data"
    }
   ],
   "source": [
    "# Lets Visualize the Harvest year trend.\n",
    "sns.countplot( x=coffee_data[\"Harvest Year\"], palette=\"tab10\")\n",
    "plt.xticks(rotation=45)\n",
    "plt.show() # as we see below the harvest rate is decreasing over the years from 2021 to 2023"
   ]
  },
  {
   "cell_type": "code",
   "execution_count": 222,
   "id": "6d4c9023",
   "metadata": {},
   "outputs": [
    {
     "data": {
      "application/vnd.plotly.v1+json": {
       "config": {
        "plotlyServerURL": "https://plot.ly"
       },
       "data": [
        {
         "customdata": [
          [
           "2021 / 2022"
          ],
          [
           "2021 / 2022"
          ],
          [
           "2021 / 2022"
          ],
          [
           "2022"
          ],
          [
           "2022"
          ],
          [
           "2022"
          ],
          [
           "2021 / 2022"
          ],
          [
           "2021 / 2022"
          ],
          [
           "2021 / 2022"
          ],
          [
           "2022 / 2023"
          ],
          [
           "2021 / 2022"
          ],
          [
           "2021"
          ],
          [
           "2021 / 2022"
          ],
          [
           "2021 / 2022"
          ],
          [
           "2021 / 2022"
          ],
          [
           "2021 / 2022"
          ],
          [
           "2022"
          ],
          [
           "2022"
          ],
          [
           "2021 / 2022"
          ],
          [
           "2022 / 2023"
          ],
          [
           "2021 / 2022"
          ],
          [
           "2022"
          ],
          [
           "2021 / 2022"
          ],
          [
           "2022"
          ],
          [
           "2021 / 2022"
          ],
          [
           "2022"
          ],
          [
           "2021 / 2022"
          ],
          [
           "2021 / 2022"
          ],
          [
           "2021 / 2022"
          ],
          [
           "2021 / 2022"
          ],
          [
           "2022"
          ],
          [
           "2022"
          ],
          [
           "2022"
          ],
          [
           "2021 / 2022"
          ],
          [
           "2021 / 2022"
          ],
          [
           "2021 / 2022"
          ],
          [
           "2021 / 2022"
          ],
          [
           "2022"
          ],
          [
           "2022 / 2023"
          ],
          [
           "2017 / 2018"
          ],
          [
           "2022"
          ],
          [
           "2021 / 2022"
          ],
          [
           "2021 / 2022"
          ],
          [
           "2021 / 2022"
          ],
          [
           "2021 / 2022"
          ],
          [
           "2021 / 2022"
          ],
          [
           "2022 / 2023"
          ],
          [
           "2022 / 2023"
          ],
          [
           "2021 / 2022"
          ],
          [
           "2021 / 2022"
          ],
          [
           "2021 / 2022"
          ],
          [
           "2022"
          ],
          [
           "2022"
          ],
          [
           "2022 / 2023"
          ],
          [
           "2021 / 2022"
          ],
          [
           "2021 / 2022"
          ],
          [
           "2022"
          ],
          [
           "2022 / 2023"
          ],
          [
           "2021 / 2022"
          ],
          [
           "2022 / 2023"
          ],
          [
           "2021 / 2022"
          ],
          [
           "2022 / 2023"
          ],
          [
           "2021 / 2022"
          ],
          [
           "2022"
          ],
          [
           "2021 / 2022"
          ],
          [
           "2021 / 2022"
          ],
          [
           "2021 / 2022"
          ],
          [
           "2021 / 2022"
          ],
          [
           "2022"
          ],
          [
           "2021 / 2022"
          ],
          [
           "2022 / 2023"
          ],
          [
           "2021 / 2022"
          ],
          [
           "2021 / 2022"
          ],
          [
           "2021 / 2022"
          ],
          [
           "2022 / 2023"
          ],
          [
           "2022"
          ],
          [
           "2021 / 2022"
          ],
          [
           "2021"
          ],
          [
           "2021 / 2022"
          ],
          [
           "2022"
          ],
          [
           "2022 / 2023"
          ],
          [
           "2022"
          ],
          [
           "2022 / 2023"
          ],
          [
           "2021 / 2022"
          ],
          [
           "2021 / 2022"
          ],
          [
           "2021 / 2022"
          ],
          [
           "2022 / 2023"
          ],
          [
           "2022 / 2023"
          ],
          [
           "2021 / 2022"
          ],
          [
           "2022 / 2023"
          ],
          [
           "2021 / 2022"
          ],
          [
           "2022 / 2023"
          ],
          [
           "2022"
          ],
          [
           "2022 / 2023"
          ],
          [
           "2021"
          ],
          [
           "2022 / 2023"
          ],
          [
           "2022"
          ],
          [
           "2022 / 2023"
          ],
          [
           "2021 / 2022"
          ],
          [
           "2021 / 2022"
          ],
          [
           "2021 / 2022"
          ],
          [
           "2022 / 2023"
          ],
          [
           "2022"
          ],
          [
           "2022"
          ],
          [
           "2022 / 2023"
          ],
          [
           "2022"
          ],
          [
           "2022"
          ],
          [
           "2022"
          ],
          [
           "2021 / 2022"
          ],
          [
           "2021"
          ],
          [
           "2021 / 2022"
          ],
          [
           "2021 / 2022"
          ],
          [
           "2021 / 2022"
          ],
          [
           "2021 / 2022"
          ],
          [
           "2022"
          ],
          [
           "2022"
          ],
          [
           "2021 / 2022"
          ],
          [
           "2022"
          ],
          [
           "2021 / 2022"
          ],
          [
           "2021 / 2022"
          ],
          [
           "2021 / 2022"
          ],
          [
           "2021 / 2022"
          ],
          [
           "2021"
          ],
          [
           "2021 / 2022"
          ],
          [
           "2021 / 2022"
          ],
          [
           "2022 / 2023"
          ],
          [
           "2021 / 2022"
          ],
          [
           "2022"
          ],
          [
           "2022 / 2023"
          ],
          [
           "2022 / 2023"
          ],
          [
           "2021 / 2022"
          ],
          [
           "2022"
          ],
          [
           "2021"
          ],
          [
           "2021 / 2022"
          ],
          [
           "2021 / 2022"
          ],
          [
           "2021 / 2022"
          ],
          [
           "2022"
          ],
          [
           "2021 / 2022"
          ],
          [
           "2022 / 2023"
          ],
          [
           "2022 / 2023"
          ],
          [
           "2021 / 2022"
          ],
          [
           "2021 / 2022"
          ],
          [
           "2021 / 2022"
          ],
          [
           "2022"
          ],
          [
           "2022 / 2023"
          ],
          [
           "2022"
          ],
          [
           "2021 / 2022"
          ],
          [
           "2022 / 2023"
          ],
          [
           "2021"
          ],
          [
           "2022"
          ],
          [
           "2022"
          ],
          [
           "2021 / 2022"
          ],
          [
           "2022 / 2023"
          ],
          [
           "2021 / 2022"
          ],
          [
           "2021 / 2022"
          ],
          [
           "2021 / 2022"
          ],
          [
           "2022 / 2023"
          ],
          [
           "2021 / 2022"
          ],
          [
           "2022 / 2023"
          ],
          [
           "2022"
          ],
          [
           "2021"
          ],
          [
           "2021 / 2022"
          ],
          [
           "2021 / 2022"
          ],
          [
           "2021 / 2022"
          ],
          [
           "2021"
          ],
          [
           "2022 / 2023"
          ],
          [
           "2021 / 2022"
          ],
          [
           "2021 / 2022"
          ],
          [
           "2022 / 2023"
          ],
          [
           "2022"
          ],
          [
           "2022"
          ],
          [
           "2021 / 2022"
          ],
          [
           "2021 / 2022"
          ],
          [
           "2021 / 2022"
          ],
          [
           "2021 / 2022"
          ],
          [
           "2022"
          ],
          [
           "2018 / 2019"
          ],
          [
           "2021 / 2022"
          ],
          [
           "2022"
          ],
          [
           "2022 / 2023"
          ],
          [
           "2022"
          ],
          [
           "2021 / 2022"
          ],
          [
           "2022 / 2023"
          ],
          [
           "2022"
          ],
          [
           "2021"
          ],
          [
           "2021"
          ],
          [
           "2021 / 2022"
          ],
          [
           "2022 / 2023"
          ],
          [
           "2021 / 2022"
          ],
          [
           "2021 / 2022"
          ],
          [
           "2022"
          ],
          [
           "2021"
          ],
          [
           "2022"
          ],
          [
           "2021 / 2022"
          ],
          [
           "2022 / 2023"
          ],
          [
           "2023"
          ],
          [
           "2021"
          ],
          [
           "2022 / 2023"
          ],
          [
           "2022"
          ],
          [
           "2022 / 2023"
          ],
          [
           "2023"
          ],
          [
           "2021 / 2022"
          ],
          [
           "2022 / 2023"
          ],
          [
           "2022 / 2023"
          ],
          [
           "2021 / 2022"
          ],
          [
           "2023"
          ],
          [
           "2021 / 2022"
          ]
         ],
         "domain": {
          "x": [
           0,
           1
          ],
          "y": [
           0,
           1
          ]
         },
         "hovertemplate": "Harvest Year=%{customdata[0]}<extra></extra>",
         "labels": [
          "2021 / 2022",
          "2021 / 2022",
          "2021 / 2022",
          "2022",
          "2022",
          "2022",
          "2021 / 2022",
          "2021 / 2022",
          "2021 / 2022",
          "2022 / 2023",
          "2021 / 2022",
          "2021",
          "2021 / 2022",
          "2021 / 2022",
          "2021 / 2022",
          "2021 / 2022",
          "2022",
          "2022",
          "2021 / 2022",
          "2022 / 2023",
          "2021 / 2022",
          "2022",
          "2021 / 2022",
          "2022",
          "2021 / 2022",
          "2022",
          "2021 / 2022",
          "2021 / 2022",
          "2021 / 2022",
          "2021 / 2022",
          "2022",
          "2022",
          "2022",
          "2021 / 2022",
          "2021 / 2022",
          "2021 / 2022",
          "2021 / 2022",
          "2022",
          "2022 / 2023",
          "2017 / 2018",
          "2022",
          "2021 / 2022",
          "2021 / 2022",
          "2021 / 2022",
          "2021 / 2022",
          "2021 / 2022",
          "2022 / 2023",
          "2022 / 2023",
          "2021 / 2022",
          "2021 / 2022",
          "2021 / 2022",
          "2022",
          "2022",
          "2022 / 2023",
          "2021 / 2022",
          "2021 / 2022",
          "2022",
          "2022 / 2023",
          "2021 / 2022",
          "2022 / 2023",
          "2021 / 2022",
          "2022 / 2023",
          "2021 / 2022",
          "2022",
          "2021 / 2022",
          "2021 / 2022",
          "2021 / 2022",
          "2021 / 2022",
          "2022",
          "2021 / 2022",
          "2022 / 2023",
          "2021 / 2022",
          "2021 / 2022",
          "2021 / 2022",
          "2022 / 2023",
          "2022",
          "2021 / 2022",
          "2021",
          "2021 / 2022",
          "2022",
          "2022 / 2023",
          "2022",
          "2022 / 2023",
          "2021 / 2022",
          "2021 / 2022",
          "2021 / 2022",
          "2022 / 2023",
          "2022 / 2023",
          "2021 / 2022",
          "2022 / 2023",
          "2021 / 2022",
          "2022 / 2023",
          "2022",
          "2022 / 2023",
          "2021",
          "2022 / 2023",
          "2022",
          "2022 / 2023",
          "2021 / 2022",
          "2021 / 2022",
          "2021 / 2022",
          "2022 / 2023",
          "2022",
          "2022",
          "2022 / 2023",
          "2022",
          "2022",
          "2022",
          "2021 / 2022",
          "2021",
          "2021 / 2022",
          "2021 / 2022",
          "2021 / 2022",
          "2021 / 2022",
          "2022",
          "2022",
          "2021 / 2022",
          "2022",
          "2021 / 2022",
          "2021 / 2022",
          "2021 / 2022",
          "2021 / 2022",
          "2021",
          "2021 / 2022",
          "2021 / 2022",
          "2022 / 2023",
          "2021 / 2022",
          "2022",
          "2022 / 2023",
          "2022 / 2023",
          "2021 / 2022",
          "2022",
          "2021",
          "2021 / 2022",
          "2021 / 2022",
          "2021 / 2022",
          "2022",
          "2021 / 2022",
          "2022 / 2023",
          "2022 / 2023",
          "2021 / 2022",
          "2021 / 2022",
          "2021 / 2022",
          "2022",
          "2022 / 2023",
          "2022",
          "2021 / 2022",
          "2022 / 2023",
          "2021",
          "2022",
          "2022",
          "2021 / 2022",
          "2022 / 2023",
          "2021 / 2022",
          "2021 / 2022",
          "2021 / 2022",
          "2022 / 2023",
          "2021 / 2022",
          "2022 / 2023",
          "2022",
          "2021",
          "2021 / 2022",
          "2021 / 2022",
          "2021 / 2022",
          "2021",
          "2022 / 2023",
          "2021 / 2022",
          "2021 / 2022",
          "2022 / 2023",
          "2022",
          "2022",
          "2021 / 2022",
          "2021 / 2022",
          "2021 / 2022",
          "2021 / 2022",
          "2022",
          "2018 / 2019",
          "2021 / 2022",
          "2022",
          "2022 / 2023",
          "2022",
          "2021 / 2022",
          "2022 / 2023",
          "2022",
          "2021",
          "2021",
          "2021 / 2022",
          "2022 / 2023",
          "2021 / 2022",
          "2021 / 2022",
          "2022",
          "2021",
          "2022",
          "2021 / 2022",
          "2022 / 2023",
          "2023",
          "2021",
          "2022 / 2023",
          "2022",
          "2022 / 2023",
          "2023",
          "2021 / 2022",
          "2022 / 2023",
          "2022 / 2023",
          "2021 / 2022",
          "2023",
          "2021 / 2022"
         ],
         "legendgroup": "",
         "marker": {
          "colors": [
           "#636efa",
           "#636efa",
           "#636efa",
           "#EF553B",
           "#EF553B",
           "#EF553B",
           "#636efa",
           "#636efa",
           "#636efa",
           "#00cc96",
           "#636efa",
           "#ab63fa",
           "#636efa",
           "#636efa",
           "#636efa",
           "#636efa",
           "#EF553B",
           "#EF553B",
           "#636efa",
           "#00cc96",
           "#636efa",
           "#EF553B",
           "#636efa",
           "#EF553B",
           "#636efa",
           "#EF553B",
           "#636efa",
           "#636efa",
           "#636efa",
           "#636efa",
           "#EF553B",
           "#EF553B",
           "#EF553B",
           "#636efa",
           "#636efa",
           "#636efa",
           "#636efa",
           "#EF553B",
           "#00cc96",
           "#FFA15A",
           "#EF553B",
           "#636efa",
           "#636efa",
           "#636efa",
           "#636efa",
           "#636efa",
           "#00cc96",
           "#00cc96",
           "#636efa",
           "#636efa",
           "#636efa",
           "#EF553B",
           "#EF553B",
           "#00cc96",
           "#636efa",
           "#636efa",
           "#EF553B",
           "#00cc96",
           "#636efa",
           "#00cc96",
           "#636efa",
           "#00cc96",
           "#636efa",
           "#EF553B",
           "#636efa",
           "#636efa",
           "#636efa",
           "#636efa",
           "#EF553B",
           "#636efa",
           "#00cc96",
           "#636efa",
           "#636efa",
           "#636efa",
           "#00cc96",
           "#EF553B",
           "#636efa",
           "#ab63fa",
           "#636efa",
           "#EF553B",
           "#00cc96",
           "#EF553B",
           "#00cc96",
           "#636efa",
           "#636efa",
           "#636efa",
           "#00cc96",
           "#00cc96",
           "#636efa",
           "#00cc96",
           "#636efa",
           "#00cc96",
           "#EF553B",
           "#00cc96",
           "#ab63fa",
           "#00cc96",
           "#EF553B",
           "#00cc96",
           "#636efa",
           "#636efa",
           "#636efa",
           "#00cc96",
           "#EF553B",
           "#EF553B",
           "#00cc96",
           "#EF553B",
           "#EF553B",
           "#EF553B",
           "#636efa",
           "#ab63fa",
           "#636efa",
           "#636efa",
           "#636efa",
           "#636efa",
           "#EF553B",
           "#EF553B",
           "#636efa",
           "#EF553B",
           "#636efa",
           "#636efa",
           "#636efa",
           "#636efa",
           "#ab63fa",
           "#636efa",
           "#636efa",
           "#00cc96",
           "#636efa",
           "#EF553B",
           "#00cc96",
           "#00cc96",
           "#636efa",
           "#EF553B",
           "#ab63fa",
           "#636efa",
           "#636efa",
           "#636efa",
           "#EF553B",
           "#636efa",
           "#00cc96",
           "#00cc96",
           "#636efa",
           "#636efa",
           "#636efa",
           "#EF553B",
           "#00cc96",
           "#EF553B",
           "#636efa",
           "#00cc96",
           "#ab63fa",
           "#EF553B",
           "#EF553B",
           "#636efa",
           "#00cc96",
           "#636efa",
           "#636efa",
           "#636efa",
           "#00cc96",
           "#636efa",
           "#00cc96",
           "#EF553B",
           "#ab63fa",
           "#636efa",
           "#636efa",
           "#636efa",
           "#ab63fa",
           "#00cc96",
           "#636efa",
           "#636efa",
           "#00cc96",
           "#EF553B",
           "#EF553B",
           "#636efa",
           "#636efa",
           "#636efa",
           "#636efa",
           "#EF553B",
           "#19d3f3",
           "#636efa",
           "#EF553B",
           "#00cc96",
           "#EF553B",
           "#636efa",
           "#00cc96",
           "#EF553B",
           "#ab63fa",
           "#ab63fa",
           "#636efa",
           "#00cc96",
           "#636efa",
           "#636efa",
           "#EF553B",
           "#ab63fa",
           "#EF553B",
           "#636efa",
           "#00cc96",
           "#FF6692",
           "#ab63fa",
           "#00cc96",
           "#EF553B",
           "#00cc96",
           "#FF6692",
           "#636efa",
           "#00cc96",
           "#00cc96",
           "#636efa",
           "#FF6692",
           "#636efa"
          ]
         },
         "name": "",
         "showlegend": true,
         "type": "pie",
         "values": [
          "2021 / 2022",
          "2021 / 2022",
          "2021 / 2022",
          "2022",
          "2022",
          "2022",
          "2021 / 2022",
          "2021 / 2022",
          "2021 / 2022",
          "2022 / 2023",
          "2021 / 2022",
          "2021",
          "2021 / 2022",
          "2021 / 2022",
          "2021 / 2022",
          "2021 / 2022",
          "2022",
          "2022",
          "2021 / 2022",
          "2022 / 2023",
          "2021 / 2022",
          "2022",
          "2021 / 2022",
          "2022",
          "2021 / 2022",
          "2022",
          "2021 / 2022",
          "2021 / 2022",
          "2021 / 2022",
          "2021 / 2022",
          "2022",
          "2022",
          "2022",
          "2021 / 2022",
          "2021 / 2022",
          "2021 / 2022",
          "2021 / 2022",
          "2022",
          "2022 / 2023",
          "2017 / 2018",
          "2022",
          "2021 / 2022",
          "2021 / 2022",
          "2021 / 2022",
          "2021 / 2022",
          "2021 / 2022",
          "2022 / 2023",
          "2022 / 2023",
          "2021 / 2022",
          "2021 / 2022",
          "2021 / 2022",
          "2022",
          "2022",
          "2022 / 2023",
          "2021 / 2022",
          "2021 / 2022",
          "2022",
          "2022 / 2023",
          "2021 / 2022",
          "2022 / 2023",
          "2021 / 2022",
          "2022 / 2023",
          "2021 / 2022",
          "2022",
          "2021 / 2022",
          "2021 / 2022",
          "2021 / 2022",
          "2021 / 2022",
          "2022",
          "2021 / 2022",
          "2022 / 2023",
          "2021 / 2022",
          "2021 / 2022",
          "2021 / 2022",
          "2022 / 2023",
          "2022",
          "2021 / 2022",
          "2021",
          "2021 / 2022",
          "2022",
          "2022 / 2023",
          "2022",
          "2022 / 2023",
          "2021 / 2022",
          "2021 / 2022",
          "2021 / 2022",
          "2022 / 2023",
          "2022 / 2023",
          "2021 / 2022",
          "2022 / 2023",
          "2021 / 2022",
          "2022 / 2023",
          "2022",
          "2022 / 2023",
          "2021",
          "2022 / 2023",
          "2022",
          "2022 / 2023",
          "2021 / 2022",
          "2021 / 2022",
          "2021 / 2022",
          "2022 / 2023",
          "2022",
          "2022",
          "2022 / 2023",
          "2022",
          "2022",
          "2022",
          "2021 / 2022",
          "2021",
          "2021 / 2022",
          "2021 / 2022",
          "2021 / 2022",
          "2021 / 2022",
          "2022",
          "2022",
          "2021 / 2022",
          "2022",
          "2021 / 2022",
          "2021 / 2022",
          "2021 / 2022",
          "2021 / 2022",
          "2021",
          "2021 / 2022",
          "2021 / 2022",
          "2022 / 2023",
          "2021 / 2022",
          "2022",
          "2022 / 2023",
          "2022 / 2023",
          "2021 / 2022",
          "2022",
          "2021",
          "2021 / 2022",
          "2021 / 2022",
          "2021 / 2022",
          "2022",
          "2021 / 2022",
          "2022 / 2023",
          "2022 / 2023",
          "2021 / 2022",
          "2021 / 2022",
          "2021 / 2022",
          "2022",
          "2022 / 2023",
          "2022",
          "2021 / 2022",
          "2022 / 2023",
          "2021",
          "2022",
          "2022",
          "2021 / 2022",
          "2022 / 2023",
          "2021 / 2022",
          "2021 / 2022",
          "2021 / 2022",
          "2022 / 2023",
          "2021 / 2022",
          "2022 / 2023",
          "2022",
          "2021",
          "2021 / 2022",
          "2021 / 2022",
          "2021 / 2022",
          "2021",
          "2022 / 2023",
          "2021 / 2022",
          "2021 / 2022",
          "2022 / 2023",
          "2022",
          "2022",
          "2021 / 2022",
          "2021 / 2022",
          "2021 / 2022",
          "2021 / 2022",
          "2022",
          "2018 / 2019",
          "2021 / 2022",
          "2022",
          "2022 / 2023",
          "2022",
          "2021 / 2022",
          "2022 / 2023",
          "2022",
          "2021",
          "2021",
          "2021 / 2022",
          "2022 / 2023",
          "2021 / 2022",
          "2021 / 2022",
          "2022",
          "2021",
          "2022",
          "2021 / 2022",
          "2022 / 2023",
          "2023",
          "2021",
          "2022 / 2023",
          "2022",
          "2022 / 2023",
          "2023",
          "2021 / 2022",
          "2022 / 2023",
          "2022 / 2023",
          "2021 / 2022",
          "2023",
          "2021 / 2022"
         ]
        }
       ],
       "layout": {
        "legend": {
         "tracegroupgap": 0
        },
        "margin": {
         "t": 60
        },
        "template": {
         "data": {
          "bar": [
           {
            "error_x": {
             "color": "#2a3f5f"
            },
            "error_y": {
             "color": "#2a3f5f"
            },
            "marker": {
             "line": {
              "color": "#E5ECF6",
              "width": 0.5
             },
             "pattern": {
              "fillmode": "overlay",
              "size": 10,
              "solidity": 0.2
             }
            },
            "type": "bar"
           }
          ],
          "barpolar": [
           {
            "marker": {
             "line": {
              "color": "#E5ECF6",
              "width": 0.5
             },
             "pattern": {
              "fillmode": "overlay",
              "size": 10,
              "solidity": 0.2
             }
            },
            "type": "barpolar"
           }
          ],
          "carpet": [
           {
            "aaxis": {
             "endlinecolor": "#2a3f5f",
             "gridcolor": "white",
             "linecolor": "white",
             "minorgridcolor": "white",
             "startlinecolor": "#2a3f5f"
            },
            "baxis": {
             "endlinecolor": "#2a3f5f",
             "gridcolor": "white",
             "linecolor": "white",
             "minorgridcolor": "white",
             "startlinecolor": "#2a3f5f"
            },
            "type": "carpet"
           }
          ],
          "choropleth": [
           {
            "colorbar": {
             "outlinewidth": 0,
             "ticks": ""
            },
            "type": "choropleth"
           }
          ],
          "contour": [
           {
            "colorbar": {
             "outlinewidth": 0,
             "ticks": ""
            },
            "colorscale": [
             [
              0,
              "#0d0887"
             ],
             [
              0.1111111111111111,
              "#46039f"
             ],
             [
              0.2222222222222222,
              "#7201a8"
             ],
             [
              0.3333333333333333,
              "#9c179e"
             ],
             [
              0.4444444444444444,
              "#bd3786"
             ],
             [
              0.5555555555555556,
              "#d8576b"
             ],
             [
              0.6666666666666666,
              "#ed7953"
             ],
             [
              0.7777777777777778,
              "#fb9f3a"
             ],
             [
              0.8888888888888888,
              "#fdca26"
             ],
             [
              1,
              "#f0f921"
             ]
            ],
            "type": "contour"
           }
          ],
          "contourcarpet": [
           {
            "colorbar": {
             "outlinewidth": 0,
             "ticks": ""
            },
            "type": "contourcarpet"
           }
          ],
          "heatmap": [
           {
            "colorbar": {
             "outlinewidth": 0,
             "ticks": ""
            },
            "colorscale": [
             [
              0,
              "#0d0887"
             ],
             [
              0.1111111111111111,
              "#46039f"
             ],
             [
              0.2222222222222222,
              "#7201a8"
             ],
             [
              0.3333333333333333,
              "#9c179e"
             ],
             [
              0.4444444444444444,
              "#bd3786"
             ],
             [
              0.5555555555555556,
              "#d8576b"
             ],
             [
              0.6666666666666666,
              "#ed7953"
             ],
             [
              0.7777777777777778,
              "#fb9f3a"
             ],
             [
              0.8888888888888888,
              "#fdca26"
             ],
             [
              1,
              "#f0f921"
             ]
            ],
            "type": "heatmap"
           }
          ],
          "heatmapgl": [
           {
            "colorbar": {
             "outlinewidth": 0,
             "ticks": ""
            },
            "colorscale": [
             [
              0,
              "#0d0887"
             ],
             [
              0.1111111111111111,
              "#46039f"
             ],
             [
              0.2222222222222222,
              "#7201a8"
             ],
             [
              0.3333333333333333,
              "#9c179e"
             ],
             [
              0.4444444444444444,
              "#bd3786"
             ],
             [
              0.5555555555555556,
              "#d8576b"
             ],
             [
              0.6666666666666666,
              "#ed7953"
             ],
             [
              0.7777777777777778,
              "#fb9f3a"
             ],
             [
              0.8888888888888888,
              "#fdca26"
             ],
             [
              1,
              "#f0f921"
             ]
            ],
            "type": "heatmapgl"
           }
          ],
          "histogram": [
           {
            "marker": {
             "pattern": {
              "fillmode": "overlay",
              "size": 10,
              "solidity": 0.2
             }
            },
            "type": "histogram"
           }
          ],
          "histogram2d": [
           {
            "colorbar": {
             "outlinewidth": 0,
             "ticks": ""
            },
            "colorscale": [
             [
              0,
              "#0d0887"
             ],
             [
              0.1111111111111111,
              "#46039f"
             ],
             [
              0.2222222222222222,
              "#7201a8"
             ],
             [
              0.3333333333333333,
              "#9c179e"
             ],
             [
              0.4444444444444444,
              "#bd3786"
             ],
             [
              0.5555555555555556,
              "#d8576b"
             ],
             [
              0.6666666666666666,
              "#ed7953"
             ],
             [
              0.7777777777777778,
              "#fb9f3a"
             ],
             [
              0.8888888888888888,
              "#fdca26"
             ],
             [
              1,
              "#f0f921"
             ]
            ],
            "type": "histogram2d"
           }
          ],
          "histogram2dcontour": [
           {
            "colorbar": {
             "outlinewidth": 0,
             "ticks": ""
            },
            "colorscale": [
             [
              0,
              "#0d0887"
             ],
             [
              0.1111111111111111,
              "#46039f"
             ],
             [
              0.2222222222222222,
              "#7201a8"
             ],
             [
              0.3333333333333333,
              "#9c179e"
             ],
             [
              0.4444444444444444,
              "#bd3786"
             ],
             [
              0.5555555555555556,
              "#d8576b"
             ],
             [
              0.6666666666666666,
              "#ed7953"
             ],
             [
              0.7777777777777778,
              "#fb9f3a"
             ],
             [
              0.8888888888888888,
              "#fdca26"
             ],
             [
              1,
              "#f0f921"
             ]
            ],
            "type": "histogram2dcontour"
           }
          ],
          "mesh3d": [
           {
            "colorbar": {
             "outlinewidth": 0,
             "ticks": ""
            },
            "type": "mesh3d"
           }
          ],
          "parcoords": [
           {
            "line": {
             "colorbar": {
              "outlinewidth": 0,
              "ticks": ""
             }
            },
            "type": "parcoords"
           }
          ],
          "pie": [
           {
            "automargin": true,
            "type": "pie"
           }
          ],
          "scatter": [
           {
            "fillpattern": {
             "fillmode": "overlay",
             "size": 10,
             "solidity": 0.2
            },
            "type": "scatter"
           }
          ],
          "scatter3d": [
           {
            "line": {
             "colorbar": {
              "outlinewidth": 0,
              "ticks": ""
             }
            },
            "marker": {
             "colorbar": {
              "outlinewidth": 0,
              "ticks": ""
             }
            },
            "type": "scatter3d"
           }
          ],
          "scattercarpet": [
           {
            "marker": {
             "colorbar": {
              "outlinewidth": 0,
              "ticks": ""
             }
            },
            "type": "scattercarpet"
           }
          ],
          "scattergeo": [
           {
            "marker": {
             "colorbar": {
              "outlinewidth": 0,
              "ticks": ""
             }
            },
            "type": "scattergeo"
           }
          ],
          "scattergl": [
           {
            "marker": {
             "colorbar": {
              "outlinewidth": 0,
              "ticks": ""
             }
            },
            "type": "scattergl"
           }
          ],
          "scattermapbox": [
           {
            "marker": {
             "colorbar": {
              "outlinewidth": 0,
              "ticks": ""
             }
            },
            "type": "scattermapbox"
           }
          ],
          "scatterpolar": [
           {
            "marker": {
             "colorbar": {
              "outlinewidth": 0,
              "ticks": ""
             }
            },
            "type": "scatterpolar"
           }
          ],
          "scatterpolargl": [
           {
            "marker": {
             "colorbar": {
              "outlinewidth": 0,
              "ticks": ""
             }
            },
            "type": "scatterpolargl"
           }
          ],
          "scatterternary": [
           {
            "marker": {
             "colorbar": {
              "outlinewidth": 0,
              "ticks": ""
             }
            },
            "type": "scatterternary"
           }
          ],
          "surface": [
           {
            "colorbar": {
             "outlinewidth": 0,
             "ticks": ""
            },
            "colorscale": [
             [
              0,
              "#0d0887"
             ],
             [
              0.1111111111111111,
              "#46039f"
             ],
             [
              0.2222222222222222,
              "#7201a8"
             ],
             [
              0.3333333333333333,
              "#9c179e"
             ],
             [
              0.4444444444444444,
              "#bd3786"
             ],
             [
              0.5555555555555556,
              "#d8576b"
             ],
             [
              0.6666666666666666,
              "#ed7953"
             ],
             [
              0.7777777777777778,
              "#fb9f3a"
             ],
             [
              0.8888888888888888,
              "#fdca26"
             ],
             [
              1,
              "#f0f921"
             ]
            ],
            "type": "surface"
           }
          ],
          "table": [
           {
            "cells": {
             "fill": {
              "color": "#EBF0F8"
             },
             "line": {
              "color": "white"
             }
            },
            "header": {
             "fill": {
              "color": "#C8D4E3"
             },
             "line": {
              "color": "white"
             }
            },
            "type": "table"
           }
          ]
         },
         "layout": {
          "annotationdefaults": {
           "arrowcolor": "#2a3f5f",
           "arrowhead": 0,
           "arrowwidth": 1
          },
          "autotypenumbers": "strict",
          "coloraxis": {
           "colorbar": {
            "outlinewidth": 0,
            "ticks": ""
           }
          },
          "colorscale": {
           "diverging": [
            [
             0,
             "#8e0152"
            ],
            [
             0.1,
             "#c51b7d"
            ],
            [
             0.2,
             "#de77ae"
            ],
            [
             0.3,
             "#f1b6da"
            ],
            [
             0.4,
             "#fde0ef"
            ],
            [
             0.5,
             "#f7f7f7"
            ],
            [
             0.6,
             "#e6f5d0"
            ],
            [
             0.7,
             "#b8e186"
            ],
            [
             0.8,
             "#7fbc41"
            ],
            [
             0.9,
             "#4d9221"
            ],
            [
             1,
             "#276419"
            ]
           ],
           "sequential": [
            [
             0,
             "#0d0887"
            ],
            [
             0.1111111111111111,
             "#46039f"
            ],
            [
             0.2222222222222222,
             "#7201a8"
            ],
            [
             0.3333333333333333,
             "#9c179e"
            ],
            [
             0.4444444444444444,
             "#bd3786"
            ],
            [
             0.5555555555555556,
             "#d8576b"
            ],
            [
             0.6666666666666666,
             "#ed7953"
            ],
            [
             0.7777777777777778,
             "#fb9f3a"
            ],
            [
             0.8888888888888888,
             "#fdca26"
            ],
            [
             1,
             "#f0f921"
            ]
           ],
           "sequentialminus": [
            [
             0,
             "#0d0887"
            ],
            [
             0.1111111111111111,
             "#46039f"
            ],
            [
             0.2222222222222222,
             "#7201a8"
            ],
            [
             0.3333333333333333,
             "#9c179e"
            ],
            [
             0.4444444444444444,
             "#bd3786"
            ],
            [
             0.5555555555555556,
             "#d8576b"
            ],
            [
             0.6666666666666666,
             "#ed7953"
            ],
            [
             0.7777777777777778,
             "#fb9f3a"
            ],
            [
             0.8888888888888888,
             "#fdca26"
            ],
            [
             1,
             "#f0f921"
            ]
           ]
          },
          "colorway": [
           "#636efa",
           "#EF553B",
           "#00cc96",
           "#ab63fa",
           "#FFA15A",
           "#19d3f3",
           "#FF6692",
           "#B6E880",
           "#FF97FF",
           "#FECB52"
          ],
          "font": {
           "color": "#2a3f5f"
          },
          "geo": {
           "bgcolor": "white",
           "lakecolor": "white",
           "landcolor": "#E5ECF6",
           "showlakes": true,
           "showland": true,
           "subunitcolor": "white"
          },
          "hoverlabel": {
           "align": "left"
          },
          "hovermode": "closest",
          "mapbox": {
           "style": "light"
          },
          "paper_bgcolor": "white",
          "plot_bgcolor": "#E5ECF6",
          "polar": {
           "angularaxis": {
            "gridcolor": "white",
            "linecolor": "white",
            "ticks": ""
           },
           "bgcolor": "#E5ECF6",
           "radialaxis": {
            "gridcolor": "white",
            "linecolor": "white",
            "ticks": ""
           }
          },
          "scene": {
           "xaxis": {
            "backgroundcolor": "#E5ECF6",
            "gridcolor": "white",
            "gridwidth": 2,
            "linecolor": "white",
            "showbackground": true,
            "ticks": "",
            "zerolinecolor": "white"
           },
           "yaxis": {
            "backgroundcolor": "#E5ECF6",
            "gridcolor": "white",
            "gridwidth": 2,
            "linecolor": "white",
            "showbackground": true,
            "ticks": "",
            "zerolinecolor": "white"
           },
           "zaxis": {
            "backgroundcolor": "#E5ECF6",
            "gridcolor": "white",
            "gridwidth": 2,
            "linecolor": "white",
            "showbackground": true,
            "ticks": "",
            "zerolinecolor": "white"
           }
          },
          "shapedefaults": {
           "line": {
            "color": "#2a3f5f"
           }
          },
          "ternary": {
           "aaxis": {
            "gridcolor": "white",
            "linecolor": "white",
            "ticks": ""
           },
           "baxis": {
            "gridcolor": "white",
            "linecolor": "white",
            "ticks": ""
           },
           "bgcolor": "#E5ECF6",
           "caxis": {
            "gridcolor": "white",
            "linecolor": "white",
            "ticks": ""
           }
          },
          "title": {
           "x": 0.05
          },
          "xaxis": {
           "automargin": true,
           "gridcolor": "white",
           "linecolor": "white",
           "ticks": "",
           "title": {
            "standoff": 15
           },
           "zerolinecolor": "white",
           "zerolinewidth": 2
          },
          "yaxis": {
           "automargin": true,
           "gridcolor": "white",
           "linecolor": "white",
           "ticks": "",
           "title": {
            "standoff": 15
           },
           "zerolinecolor": "white",
           "zerolinewidth": 2
          }
         }
        }
       }
      },
      "text/html": [
       "<div>                            <div id=\"43f36d34-8bb4-460f-a306-2a475744fbb7\" class=\"plotly-graph-div\" style=\"height:525px; width:100%;\"></div>            <script type=\"text/javascript\">                require([\"plotly\"], function(Plotly) {                    window.PLOTLYENV=window.PLOTLYENV || {};                                    if (document.getElementById(\"43f36d34-8bb4-460f-a306-2a475744fbb7\")) {                    Plotly.newPlot(                        \"43f36d34-8bb4-460f-a306-2a475744fbb7\",                        [{\"customdata\":[[\"2021 / 2022\"],[\"2021 / 2022\"],[\"2021 / 2022\"],[\"2022\"],[\"2022\"],[\"2022\"],[\"2021 / 2022\"],[\"2021 / 2022\"],[\"2021 / 2022\"],[\"2022 / 2023\"],[\"2021 / 2022\"],[\"2021\"],[\"2021 / 2022\"],[\"2021 / 2022\"],[\"2021 / 2022\"],[\"2021 / 2022\"],[\"2022\"],[\"2022\"],[\"2021 / 2022\"],[\"2022 / 2023\"],[\"2021 / 2022\"],[\"2022\"],[\"2021 / 2022\"],[\"2022\"],[\"2021 / 2022\"],[\"2022\"],[\"2021 / 2022\"],[\"2021 / 2022\"],[\"2021 / 2022\"],[\"2021 / 2022\"],[\"2022\"],[\"2022\"],[\"2022\"],[\"2021 / 2022\"],[\"2021 / 2022\"],[\"2021 / 2022\"],[\"2021 / 2022\"],[\"2022\"],[\"2022 / 2023\"],[\"2017 / 2018\"],[\"2022\"],[\"2021 / 2022\"],[\"2021 / 2022\"],[\"2021 / 2022\"],[\"2021 / 2022\"],[\"2021 / 2022\"],[\"2022 / 2023\"],[\"2022 / 2023\"],[\"2021 / 2022\"],[\"2021 / 2022\"],[\"2021 / 2022\"],[\"2022\"],[\"2022\"],[\"2022 / 2023\"],[\"2021 / 2022\"],[\"2021 / 2022\"],[\"2022\"],[\"2022 / 2023\"],[\"2021 / 2022\"],[\"2022 / 2023\"],[\"2021 / 2022\"],[\"2022 / 2023\"],[\"2021 / 2022\"],[\"2022\"],[\"2021 / 2022\"],[\"2021 / 2022\"],[\"2021 / 2022\"],[\"2021 / 2022\"],[\"2022\"],[\"2021 / 2022\"],[\"2022 / 2023\"],[\"2021 / 2022\"],[\"2021 / 2022\"],[\"2021 / 2022\"],[\"2022 / 2023\"],[\"2022\"],[\"2021 / 2022\"],[\"2021\"],[\"2021 / 2022\"],[\"2022\"],[\"2022 / 2023\"],[\"2022\"],[\"2022 / 2023\"],[\"2021 / 2022\"],[\"2021 / 2022\"],[\"2021 / 2022\"],[\"2022 / 2023\"],[\"2022 / 2023\"],[\"2021 / 2022\"],[\"2022 / 2023\"],[\"2021 / 2022\"],[\"2022 / 2023\"],[\"2022\"],[\"2022 / 2023\"],[\"2021\"],[\"2022 / 2023\"],[\"2022\"],[\"2022 / 2023\"],[\"2021 / 2022\"],[\"2021 / 2022\"],[\"2021 / 2022\"],[\"2022 / 2023\"],[\"2022\"],[\"2022\"],[\"2022 / 2023\"],[\"2022\"],[\"2022\"],[\"2022\"],[\"2021 / 2022\"],[\"2021\"],[\"2021 / 2022\"],[\"2021 / 2022\"],[\"2021 / 2022\"],[\"2021 / 2022\"],[\"2022\"],[\"2022\"],[\"2021 / 2022\"],[\"2022\"],[\"2021 / 2022\"],[\"2021 / 2022\"],[\"2021 / 2022\"],[\"2021 / 2022\"],[\"2021\"],[\"2021 / 2022\"],[\"2021 / 2022\"],[\"2022 / 2023\"],[\"2021 / 2022\"],[\"2022\"],[\"2022 / 2023\"],[\"2022 / 2023\"],[\"2021 / 2022\"],[\"2022\"],[\"2021\"],[\"2021 / 2022\"],[\"2021 / 2022\"],[\"2021 / 2022\"],[\"2022\"],[\"2021 / 2022\"],[\"2022 / 2023\"],[\"2022 / 2023\"],[\"2021 / 2022\"],[\"2021 / 2022\"],[\"2021 / 2022\"],[\"2022\"],[\"2022 / 2023\"],[\"2022\"],[\"2021 / 2022\"],[\"2022 / 2023\"],[\"2021\"],[\"2022\"],[\"2022\"],[\"2021 / 2022\"],[\"2022 / 2023\"],[\"2021 / 2022\"],[\"2021 / 2022\"],[\"2021 / 2022\"],[\"2022 / 2023\"],[\"2021 / 2022\"],[\"2022 / 2023\"],[\"2022\"],[\"2021\"],[\"2021 / 2022\"],[\"2021 / 2022\"],[\"2021 / 2022\"],[\"2021\"],[\"2022 / 2023\"],[\"2021 / 2022\"],[\"2021 / 2022\"],[\"2022 / 2023\"],[\"2022\"],[\"2022\"],[\"2021 / 2022\"],[\"2021 / 2022\"],[\"2021 / 2022\"],[\"2021 / 2022\"],[\"2022\"],[\"2018 / 2019\"],[\"2021 / 2022\"],[\"2022\"],[\"2022 / 2023\"],[\"2022\"],[\"2021 / 2022\"],[\"2022 / 2023\"],[\"2022\"],[\"2021\"],[\"2021\"],[\"2021 / 2022\"],[\"2022 / 2023\"],[\"2021 / 2022\"],[\"2021 / 2022\"],[\"2022\"],[\"2021\"],[\"2022\"],[\"2021 / 2022\"],[\"2022 / 2023\"],[\"2023\"],[\"2021\"],[\"2022 / 2023\"],[\"2022\"],[\"2022 / 2023\"],[\"2023\"],[\"2021 / 2022\"],[\"2022 / 2023\"],[\"2022 / 2023\"],[\"2021 / 2022\"],[\"2023\"],[\"2021 / 2022\"]],\"domain\":{\"x\":[0.0,1.0],\"y\":[0.0,1.0]},\"hovertemplate\":\"Harvest Year=%{customdata[0]}<extra></extra>\",\"labels\":[\"2021 / 2022\",\"2021 / 2022\",\"2021 / 2022\",\"2022\",\"2022\",\"2022\",\"2021 / 2022\",\"2021 / 2022\",\"2021 / 2022\",\"2022 / 2023\",\"2021 / 2022\",\"2021\",\"2021 / 2022\",\"2021 / 2022\",\"2021 / 2022\",\"2021 / 2022\",\"2022\",\"2022\",\"2021 / 2022\",\"2022 / 2023\",\"2021 / 2022\",\"2022\",\"2021 / 2022\",\"2022\",\"2021 / 2022\",\"2022\",\"2021 / 2022\",\"2021 / 2022\",\"2021 / 2022\",\"2021 / 2022\",\"2022\",\"2022\",\"2022\",\"2021 / 2022\",\"2021 / 2022\",\"2021 / 2022\",\"2021 / 2022\",\"2022\",\"2022 / 2023\",\"2017 / 2018\",\"2022\",\"2021 / 2022\",\"2021 / 2022\",\"2021 / 2022\",\"2021 / 2022\",\"2021 / 2022\",\"2022 / 2023\",\"2022 / 2023\",\"2021 / 2022\",\"2021 / 2022\",\"2021 / 2022\",\"2022\",\"2022\",\"2022 / 2023\",\"2021 / 2022\",\"2021 / 2022\",\"2022\",\"2022 / 2023\",\"2021 / 2022\",\"2022 / 2023\",\"2021 / 2022\",\"2022 / 2023\",\"2021 / 2022\",\"2022\",\"2021 / 2022\",\"2021 / 2022\",\"2021 / 2022\",\"2021 / 2022\",\"2022\",\"2021 / 2022\",\"2022 / 2023\",\"2021 / 2022\",\"2021 / 2022\",\"2021 / 2022\",\"2022 / 2023\",\"2022\",\"2021 / 2022\",\"2021\",\"2021 / 2022\",\"2022\",\"2022 / 2023\",\"2022\",\"2022 / 2023\",\"2021 / 2022\",\"2021 / 2022\",\"2021 / 2022\",\"2022 / 2023\",\"2022 / 2023\",\"2021 / 2022\",\"2022 / 2023\",\"2021 / 2022\",\"2022 / 2023\",\"2022\",\"2022 / 2023\",\"2021\",\"2022 / 2023\",\"2022\",\"2022 / 2023\",\"2021 / 2022\",\"2021 / 2022\",\"2021 / 2022\",\"2022 / 2023\",\"2022\",\"2022\",\"2022 / 2023\",\"2022\",\"2022\",\"2022\",\"2021 / 2022\",\"2021\",\"2021 / 2022\",\"2021 / 2022\",\"2021 / 2022\",\"2021 / 2022\",\"2022\",\"2022\",\"2021 / 2022\",\"2022\",\"2021 / 2022\",\"2021 / 2022\",\"2021 / 2022\",\"2021 / 2022\",\"2021\",\"2021 / 2022\",\"2021 / 2022\",\"2022 / 2023\",\"2021 / 2022\",\"2022\",\"2022 / 2023\",\"2022 / 2023\",\"2021 / 2022\",\"2022\",\"2021\",\"2021 / 2022\",\"2021 / 2022\",\"2021 / 2022\",\"2022\",\"2021 / 2022\",\"2022 / 2023\",\"2022 / 2023\",\"2021 / 2022\",\"2021 / 2022\",\"2021 / 2022\",\"2022\",\"2022 / 2023\",\"2022\",\"2021 / 2022\",\"2022 / 2023\",\"2021\",\"2022\",\"2022\",\"2021 / 2022\",\"2022 / 2023\",\"2021 / 2022\",\"2021 / 2022\",\"2021 / 2022\",\"2022 / 2023\",\"2021 / 2022\",\"2022 / 2023\",\"2022\",\"2021\",\"2021 / 2022\",\"2021 / 2022\",\"2021 / 2022\",\"2021\",\"2022 / 2023\",\"2021 / 2022\",\"2021 / 2022\",\"2022 / 2023\",\"2022\",\"2022\",\"2021 / 2022\",\"2021 / 2022\",\"2021 / 2022\",\"2021 / 2022\",\"2022\",\"2018 / 2019\",\"2021 / 2022\",\"2022\",\"2022 / 2023\",\"2022\",\"2021 / 2022\",\"2022 / 2023\",\"2022\",\"2021\",\"2021\",\"2021 / 2022\",\"2022 / 2023\",\"2021 / 2022\",\"2021 / 2022\",\"2022\",\"2021\",\"2022\",\"2021 / 2022\",\"2022 / 2023\",\"2023\",\"2021\",\"2022 / 2023\",\"2022\",\"2022 / 2023\",\"2023\",\"2021 / 2022\",\"2022 / 2023\",\"2022 / 2023\",\"2021 / 2022\",\"2023\",\"2021 / 2022\"],\"legendgroup\":\"\",\"marker\":{\"colors\":[\"#636efa\",\"#636efa\",\"#636efa\",\"#EF553B\",\"#EF553B\",\"#EF553B\",\"#636efa\",\"#636efa\",\"#636efa\",\"#00cc96\",\"#636efa\",\"#ab63fa\",\"#636efa\",\"#636efa\",\"#636efa\",\"#636efa\",\"#EF553B\",\"#EF553B\",\"#636efa\",\"#00cc96\",\"#636efa\",\"#EF553B\",\"#636efa\",\"#EF553B\",\"#636efa\",\"#EF553B\",\"#636efa\",\"#636efa\",\"#636efa\",\"#636efa\",\"#EF553B\",\"#EF553B\",\"#EF553B\",\"#636efa\",\"#636efa\",\"#636efa\",\"#636efa\",\"#EF553B\",\"#00cc96\",\"#FFA15A\",\"#EF553B\",\"#636efa\",\"#636efa\",\"#636efa\",\"#636efa\",\"#636efa\",\"#00cc96\",\"#00cc96\",\"#636efa\",\"#636efa\",\"#636efa\",\"#EF553B\",\"#EF553B\",\"#00cc96\",\"#636efa\",\"#636efa\",\"#EF553B\",\"#00cc96\",\"#636efa\",\"#00cc96\",\"#636efa\",\"#00cc96\",\"#636efa\",\"#EF553B\",\"#636efa\",\"#636efa\",\"#636efa\",\"#636efa\",\"#EF553B\",\"#636efa\",\"#00cc96\",\"#636efa\",\"#636efa\",\"#636efa\",\"#00cc96\",\"#EF553B\",\"#636efa\",\"#ab63fa\",\"#636efa\",\"#EF553B\",\"#00cc96\",\"#EF553B\",\"#00cc96\",\"#636efa\",\"#636efa\",\"#636efa\",\"#00cc96\",\"#00cc96\",\"#636efa\",\"#00cc96\",\"#636efa\",\"#00cc96\",\"#EF553B\",\"#00cc96\",\"#ab63fa\",\"#00cc96\",\"#EF553B\",\"#00cc96\",\"#636efa\",\"#636efa\",\"#636efa\",\"#00cc96\",\"#EF553B\",\"#EF553B\",\"#00cc96\",\"#EF553B\",\"#EF553B\",\"#EF553B\",\"#636efa\",\"#ab63fa\",\"#636efa\",\"#636efa\",\"#636efa\",\"#636efa\",\"#EF553B\",\"#EF553B\",\"#636efa\",\"#EF553B\",\"#636efa\",\"#636efa\",\"#636efa\",\"#636efa\",\"#ab63fa\",\"#636efa\",\"#636efa\",\"#00cc96\",\"#636efa\",\"#EF553B\",\"#00cc96\",\"#00cc96\",\"#636efa\",\"#EF553B\",\"#ab63fa\",\"#636efa\",\"#636efa\",\"#636efa\",\"#EF553B\",\"#636efa\",\"#00cc96\",\"#00cc96\",\"#636efa\",\"#636efa\",\"#636efa\",\"#EF553B\",\"#00cc96\",\"#EF553B\",\"#636efa\",\"#00cc96\",\"#ab63fa\",\"#EF553B\",\"#EF553B\",\"#636efa\",\"#00cc96\",\"#636efa\",\"#636efa\",\"#636efa\",\"#00cc96\",\"#636efa\",\"#00cc96\",\"#EF553B\",\"#ab63fa\",\"#636efa\",\"#636efa\",\"#636efa\",\"#ab63fa\",\"#00cc96\",\"#636efa\",\"#636efa\",\"#00cc96\",\"#EF553B\",\"#EF553B\",\"#636efa\",\"#636efa\",\"#636efa\",\"#636efa\",\"#EF553B\",\"#19d3f3\",\"#636efa\",\"#EF553B\",\"#00cc96\",\"#EF553B\",\"#636efa\",\"#00cc96\",\"#EF553B\",\"#ab63fa\",\"#ab63fa\",\"#636efa\",\"#00cc96\",\"#636efa\",\"#636efa\",\"#EF553B\",\"#ab63fa\",\"#EF553B\",\"#636efa\",\"#00cc96\",\"#FF6692\",\"#ab63fa\",\"#00cc96\",\"#EF553B\",\"#00cc96\",\"#FF6692\",\"#636efa\",\"#00cc96\",\"#00cc96\",\"#636efa\",\"#FF6692\",\"#636efa\"]},\"name\":\"\",\"showlegend\":true,\"values\":[\"2021 / 2022\",\"2021 / 2022\",\"2021 / 2022\",\"2022\",\"2022\",\"2022\",\"2021 / 2022\",\"2021 / 2022\",\"2021 / 2022\",\"2022 / 2023\",\"2021 / 2022\",\"2021\",\"2021 / 2022\",\"2021 / 2022\",\"2021 / 2022\",\"2021 / 2022\",\"2022\",\"2022\",\"2021 / 2022\",\"2022 / 2023\",\"2021 / 2022\",\"2022\",\"2021 / 2022\",\"2022\",\"2021 / 2022\",\"2022\",\"2021 / 2022\",\"2021 / 2022\",\"2021 / 2022\",\"2021 / 2022\",\"2022\",\"2022\",\"2022\",\"2021 / 2022\",\"2021 / 2022\",\"2021 / 2022\",\"2021 / 2022\",\"2022\",\"2022 / 2023\",\"2017 / 2018\",\"2022\",\"2021 / 2022\",\"2021 / 2022\",\"2021 / 2022\",\"2021 / 2022\",\"2021 / 2022\",\"2022 / 2023\",\"2022 / 2023\",\"2021 / 2022\",\"2021 / 2022\",\"2021 / 2022\",\"2022\",\"2022\",\"2022 / 2023\",\"2021 / 2022\",\"2021 / 2022\",\"2022\",\"2022 / 2023\",\"2021 / 2022\",\"2022 / 2023\",\"2021 / 2022\",\"2022 / 2023\",\"2021 / 2022\",\"2022\",\"2021 / 2022\",\"2021 / 2022\",\"2021 / 2022\",\"2021 / 2022\",\"2022\",\"2021 / 2022\",\"2022 / 2023\",\"2021 / 2022\",\"2021 / 2022\",\"2021 / 2022\",\"2022 / 2023\",\"2022\",\"2021 / 2022\",\"2021\",\"2021 / 2022\",\"2022\",\"2022 / 2023\",\"2022\",\"2022 / 2023\",\"2021 / 2022\",\"2021 / 2022\",\"2021 / 2022\",\"2022 / 2023\",\"2022 / 2023\",\"2021 / 2022\",\"2022 / 2023\",\"2021 / 2022\",\"2022 / 2023\",\"2022\",\"2022 / 2023\",\"2021\",\"2022 / 2023\",\"2022\",\"2022 / 2023\",\"2021 / 2022\",\"2021 / 2022\",\"2021 / 2022\",\"2022 / 2023\",\"2022\",\"2022\",\"2022 / 2023\",\"2022\",\"2022\",\"2022\",\"2021 / 2022\",\"2021\",\"2021 / 2022\",\"2021 / 2022\",\"2021 / 2022\",\"2021 / 2022\",\"2022\",\"2022\",\"2021 / 2022\",\"2022\",\"2021 / 2022\",\"2021 / 2022\",\"2021 / 2022\",\"2021 / 2022\",\"2021\",\"2021 / 2022\",\"2021 / 2022\",\"2022 / 2023\",\"2021 / 2022\",\"2022\",\"2022 / 2023\",\"2022 / 2023\",\"2021 / 2022\",\"2022\",\"2021\",\"2021 / 2022\",\"2021 / 2022\",\"2021 / 2022\",\"2022\",\"2021 / 2022\",\"2022 / 2023\",\"2022 / 2023\",\"2021 / 2022\",\"2021 / 2022\",\"2021 / 2022\",\"2022\",\"2022 / 2023\",\"2022\",\"2021 / 2022\",\"2022 / 2023\",\"2021\",\"2022\",\"2022\",\"2021 / 2022\",\"2022 / 2023\",\"2021 / 2022\",\"2021 / 2022\",\"2021 / 2022\",\"2022 / 2023\",\"2021 / 2022\",\"2022 / 2023\",\"2022\",\"2021\",\"2021 / 2022\",\"2021 / 2022\",\"2021 / 2022\",\"2021\",\"2022 / 2023\",\"2021 / 2022\",\"2021 / 2022\",\"2022 / 2023\",\"2022\",\"2022\",\"2021 / 2022\",\"2021 / 2022\",\"2021 / 2022\",\"2021 / 2022\",\"2022\",\"2018 / 2019\",\"2021 / 2022\",\"2022\",\"2022 / 2023\",\"2022\",\"2021 / 2022\",\"2022 / 2023\",\"2022\",\"2021\",\"2021\",\"2021 / 2022\",\"2022 / 2023\",\"2021 / 2022\",\"2021 / 2022\",\"2022\",\"2021\",\"2022\",\"2021 / 2022\",\"2022 / 2023\",\"2023\",\"2021\",\"2022 / 2023\",\"2022\",\"2022 / 2023\",\"2023\",\"2021 / 2022\",\"2022 / 2023\",\"2022 / 2023\",\"2021 / 2022\",\"2023\",\"2021 / 2022\"],\"type\":\"pie\"}],                        {\"template\":{\"data\":{\"histogram2dcontour\":[{\"type\":\"histogram2dcontour\",\"colorbar\":{\"outlinewidth\":0,\"ticks\":\"\"},\"colorscale\":[[0.0,\"#0d0887\"],[0.1111111111111111,\"#46039f\"],[0.2222222222222222,\"#7201a8\"],[0.3333333333333333,\"#9c179e\"],[0.4444444444444444,\"#bd3786\"],[0.5555555555555556,\"#d8576b\"],[0.6666666666666666,\"#ed7953\"],[0.7777777777777778,\"#fb9f3a\"],[0.8888888888888888,\"#fdca26\"],[1.0,\"#f0f921\"]]}],\"choropleth\":[{\"type\":\"choropleth\",\"colorbar\":{\"outlinewidth\":0,\"ticks\":\"\"}}],\"histogram2d\":[{\"type\":\"histogram2d\",\"colorbar\":{\"outlinewidth\":0,\"ticks\":\"\"},\"colorscale\":[[0.0,\"#0d0887\"],[0.1111111111111111,\"#46039f\"],[0.2222222222222222,\"#7201a8\"],[0.3333333333333333,\"#9c179e\"],[0.4444444444444444,\"#bd3786\"],[0.5555555555555556,\"#d8576b\"],[0.6666666666666666,\"#ed7953\"],[0.7777777777777778,\"#fb9f3a\"],[0.8888888888888888,\"#fdca26\"],[1.0,\"#f0f921\"]]}],\"heatmap\":[{\"type\":\"heatmap\",\"colorbar\":{\"outlinewidth\":0,\"ticks\":\"\"},\"colorscale\":[[0.0,\"#0d0887\"],[0.1111111111111111,\"#46039f\"],[0.2222222222222222,\"#7201a8\"],[0.3333333333333333,\"#9c179e\"],[0.4444444444444444,\"#bd3786\"],[0.5555555555555556,\"#d8576b\"],[0.6666666666666666,\"#ed7953\"],[0.7777777777777778,\"#fb9f3a\"],[0.8888888888888888,\"#fdca26\"],[1.0,\"#f0f921\"]]}],\"heatmapgl\":[{\"type\":\"heatmapgl\",\"colorbar\":{\"outlinewidth\":0,\"ticks\":\"\"},\"colorscale\":[[0.0,\"#0d0887\"],[0.1111111111111111,\"#46039f\"],[0.2222222222222222,\"#7201a8\"],[0.3333333333333333,\"#9c179e\"],[0.4444444444444444,\"#bd3786\"],[0.5555555555555556,\"#d8576b\"],[0.6666666666666666,\"#ed7953\"],[0.7777777777777778,\"#fb9f3a\"],[0.8888888888888888,\"#fdca26\"],[1.0,\"#f0f921\"]]}],\"contourcarpet\":[{\"type\":\"contourcarpet\",\"colorbar\":{\"outlinewidth\":0,\"ticks\":\"\"}}],\"contour\":[{\"type\":\"contour\",\"colorbar\":{\"outlinewidth\":0,\"ticks\":\"\"},\"colorscale\":[[0.0,\"#0d0887\"],[0.1111111111111111,\"#46039f\"],[0.2222222222222222,\"#7201a8\"],[0.3333333333333333,\"#9c179e\"],[0.4444444444444444,\"#bd3786\"],[0.5555555555555556,\"#d8576b\"],[0.6666666666666666,\"#ed7953\"],[0.7777777777777778,\"#fb9f3a\"],[0.8888888888888888,\"#fdca26\"],[1.0,\"#f0f921\"]]}],\"surface\":[{\"type\":\"surface\",\"colorbar\":{\"outlinewidth\":0,\"ticks\":\"\"},\"colorscale\":[[0.0,\"#0d0887\"],[0.1111111111111111,\"#46039f\"],[0.2222222222222222,\"#7201a8\"],[0.3333333333333333,\"#9c179e\"],[0.4444444444444444,\"#bd3786\"],[0.5555555555555556,\"#d8576b\"],[0.6666666666666666,\"#ed7953\"],[0.7777777777777778,\"#fb9f3a\"],[0.8888888888888888,\"#fdca26\"],[1.0,\"#f0f921\"]]}],\"mesh3d\":[{\"type\":\"mesh3d\",\"colorbar\":{\"outlinewidth\":0,\"ticks\":\"\"}}],\"scatter\":[{\"fillpattern\":{\"fillmode\":\"overlay\",\"size\":10,\"solidity\":0.2},\"type\":\"scatter\"}],\"parcoords\":[{\"type\":\"parcoords\",\"line\":{\"colorbar\":{\"outlinewidth\":0,\"ticks\":\"\"}}}],\"scatterpolargl\":[{\"type\":\"scatterpolargl\",\"marker\":{\"colorbar\":{\"outlinewidth\":0,\"ticks\":\"\"}}}],\"bar\":[{\"error_x\":{\"color\":\"#2a3f5f\"},\"error_y\":{\"color\":\"#2a3f5f\"},\"marker\":{\"line\":{\"color\":\"#E5ECF6\",\"width\":0.5},\"pattern\":{\"fillmode\":\"overlay\",\"size\":10,\"solidity\":0.2}},\"type\":\"bar\"}],\"scattergeo\":[{\"type\":\"scattergeo\",\"marker\":{\"colorbar\":{\"outlinewidth\":0,\"ticks\":\"\"}}}],\"scatterpolar\":[{\"type\":\"scatterpolar\",\"marker\":{\"colorbar\":{\"outlinewidth\":0,\"ticks\":\"\"}}}],\"histogram\":[{\"marker\":{\"pattern\":{\"fillmode\":\"overlay\",\"size\":10,\"solidity\":0.2}},\"type\":\"histogram\"}],\"scattergl\":[{\"type\":\"scattergl\",\"marker\":{\"colorbar\":{\"outlinewidth\":0,\"ticks\":\"\"}}}],\"scatter3d\":[{\"type\":\"scatter3d\",\"line\":{\"colorbar\":{\"outlinewidth\":0,\"ticks\":\"\"}},\"marker\":{\"colorbar\":{\"outlinewidth\":0,\"ticks\":\"\"}}}],\"scattermapbox\":[{\"type\":\"scattermapbox\",\"marker\":{\"colorbar\":{\"outlinewidth\":0,\"ticks\":\"\"}}}],\"scatterternary\":[{\"type\":\"scatterternary\",\"marker\":{\"colorbar\":{\"outlinewidth\":0,\"ticks\":\"\"}}}],\"scattercarpet\":[{\"type\":\"scattercarpet\",\"marker\":{\"colorbar\":{\"outlinewidth\":0,\"ticks\":\"\"}}}],\"carpet\":[{\"aaxis\":{\"endlinecolor\":\"#2a3f5f\",\"gridcolor\":\"white\",\"linecolor\":\"white\",\"minorgridcolor\":\"white\",\"startlinecolor\":\"#2a3f5f\"},\"baxis\":{\"endlinecolor\":\"#2a3f5f\",\"gridcolor\":\"white\",\"linecolor\":\"white\",\"minorgridcolor\":\"white\",\"startlinecolor\":\"#2a3f5f\"},\"type\":\"carpet\"}],\"table\":[{\"cells\":{\"fill\":{\"color\":\"#EBF0F8\"},\"line\":{\"color\":\"white\"}},\"header\":{\"fill\":{\"color\":\"#C8D4E3\"},\"line\":{\"color\":\"white\"}},\"type\":\"table\"}],\"barpolar\":[{\"marker\":{\"line\":{\"color\":\"#E5ECF6\",\"width\":0.5},\"pattern\":{\"fillmode\":\"overlay\",\"size\":10,\"solidity\":0.2}},\"type\":\"barpolar\"}],\"pie\":[{\"automargin\":true,\"type\":\"pie\"}]},\"layout\":{\"autotypenumbers\":\"strict\",\"colorway\":[\"#636efa\",\"#EF553B\",\"#00cc96\",\"#ab63fa\",\"#FFA15A\",\"#19d3f3\",\"#FF6692\",\"#B6E880\",\"#FF97FF\",\"#FECB52\"],\"font\":{\"color\":\"#2a3f5f\"},\"hovermode\":\"closest\",\"hoverlabel\":{\"align\":\"left\"},\"paper_bgcolor\":\"white\",\"plot_bgcolor\":\"#E5ECF6\",\"polar\":{\"bgcolor\":\"#E5ECF6\",\"angularaxis\":{\"gridcolor\":\"white\",\"linecolor\":\"white\",\"ticks\":\"\"},\"radialaxis\":{\"gridcolor\":\"white\",\"linecolor\":\"white\",\"ticks\":\"\"}},\"ternary\":{\"bgcolor\":\"#E5ECF6\",\"aaxis\":{\"gridcolor\":\"white\",\"linecolor\":\"white\",\"ticks\":\"\"},\"baxis\":{\"gridcolor\":\"white\",\"linecolor\":\"white\",\"ticks\":\"\"},\"caxis\":{\"gridcolor\":\"white\",\"linecolor\":\"white\",\"ticks\":\"\"}},\"coloraxis\":{\"colorbar\":{\"outlinewidth\":0,\"ticks\":\"\"}},\"colorscale\":{\"sequential\":[[0.0,\"#0d0887\"],[0.1111111111111111,\"#46039f\"],[0.2222222222222222,\"#7201a8\"],[0.3333333333333333,\"#9c179e\"],[0.4444444444444444,\"#bd3786\"],[0.5555555555555556,\"#d8576b\"],[0.6666666666666666,\"#ed7953\"],[0.7777777777777778,\"#fb9f3a\"],[0.8888888888888888,\"#fdca26\"],[1.0,\"#f0f921\"]],\"sequentialminus\":[[0.0,\"#0d0887\"],[0.1111111111111111,\"#46039f\"],[0.2222222222222222,\"#7201a8\"],[0.3333333333333333,\"#9c179e\"],[0.4444444444444444,\"#bd3786\"],[0.5555555555555556,\"#d8576b\"],[0.6666666666666666,\"#ed7953\"],[0.7777777777777778,\"#fb9f3a\"],[0.8888888888888888,\"#fdca26\"],[1.0,\"#f0f921\"]],\"diverging\":[[0,\"#8e0152\"],[0.1,\"#c51b7d\"],[0.2,\"#de77ae\"],[0.3,\"#f1b6da\"],[0.4,\"#fde0ef\"],[0.5,\"#f7f7f7\"],[0.6,\"#e6f5d0\"],[0.7,\"#b8e186\"],[0.8,\"#7fbc41\"],[0.9,\"#4d9221\"],[1,\"#276419\"]]},\"xaxis\":{\"gridcolor\":\"white\",\"linecolor\":\"white\",\"ticks\":\"\",\"title\":{\"standoff\":15},\"zerolinecolor\":\"white\",\"automargin\":true,\"zerolinewidth\":2},\"yaxis\":{\"gridcolor\":\"white\",\"linecolor\":\"white\",\"ticks\":\"\",\"title\":{\"standoff\":15},\"zerolinecolor\":\"white\",\"automargin\":true,\"zerolinewidth\":2},\"scene\":{\"xaxis\":{\"backgroundcolor\":\"#E5ECF6\",\"gridcolor\":\"white\",\"linecolor\":\"white\",\"showbackground\":true,\"ticks\":\"\",\"zerolinecolor\":\"white\",\"gridwidth\":2},\"yaxis\":{\"backgroundcolor\":\"#E5ECF6\",\"gridcolor\":\"white\",\"linecolor\":\"white\",\"showbackground\":true,\"ticks\":\"\",\"zerolinecolor\":\"white\",\"gridwidth\":2},\"zaxis\":{\"backgroundcolor\":\"#E5ECF6\",\"gridcolor\":\"white\",\"linecolor\":\"white\",\"showbackground\":true,\"ticks\":\"\",\"zerolinecolor\":\"white\",\"gridwidth\":2}},\"shapedefaults\":{\"line\":{\"color\":\"#2a3f5f\"}},\"annotationdefaults\":{\"arrowcolor\":\"#2a3f5f\",\"arrowhead\":0,\"arrowwidth\":1},\"geo\":{\"bgcolor\":\"white\",\"landcolor\":\"#E5ECF6\",\"subunitcolor\":\"white\",\"showland\":true,\"showlakes\":true,\"lakecolor\":\"white\"},\"title\":{\"x\":0.05},\"mapbox\":{\"style\":\"light\"}}},\"legend\":{\"tracegroupgap\":0},\"margin\":{\"t\":60}},                        {\"responsive\": true}                    ).then(function(){\n",
       "                            \n",
       "var gd = document.getElementById('43f36d34-8bb4-460f-a306-2a475744fbb7');\n",
       "var x = new MutationObserver(function (mutations, observer) {{\n",
       "        var display = window.getComputedStyle(gd).display;\n",
       "        if (!display || display === 'none') {{\n",
       "            console.log([gd, 'removed!']);\n",
       "            Plotly.purge(gd);\n",
       "            observer.disconnect();\n",
       "        }}\n",
       "}});\n",
       "\n",
       "// Listen for the removal of the full notebook cells\n",
       "var notebookContainer = gd.closest('#notebook-container');\n",
       "if (notebookContainer) {{\n",
       "    x.observe(notebookContainer, {childList: true});\n",
       "}}\n",
       "\n",
       "// Listen for the clearing of the current output cell\n",
       "var outputEl = gd.closest('.output');\n",
       "if (outputEl) {{\n",
       "    x.observe(outputEl, {childList: true});\n",
       "}}\n",
       "\n",
       "                        })                };                });            </script>        </div>"
      ]
     },
     "metadata": {},
     "output_type": "display_data"
    }
   ],
   "source": [
    "# Lets Visualize the Harvest% over the years in Pie chart.\n",
    "fig = px.pie(coffee_data, values=coffee_data[\"Harvest Year\"], names=coffee_data[\"Harvest Year\"], color=coffee_data[\"Harvest Year\"])\n",
    "fig.show()"
   ]
  },
  {
   "cell_type": "code",
   "execution_count": 223,
   "id": "d43596f1",
   "metadata": {},
   "outputs": [
    {
     "data": {
      "application/vnd.plotly.v1+json": {
       "config": {
        "plotlyServerURL": "https://plot.ly"
       },
       "data": [
        {
         "alignmentgroup": "True",
         "bingroup": "y",
         "hovertemplate": "Owner=%{y}<br>count=%{x}<extra></extra>",
         "legendgroup": "Coffee Quality Union",
         "marker": {
          "color": "#636efa",
          "pattern": {
           "shape": ""
          }
         },
         "name": "Coffee Quality Union",
         "offsetgroup": "Coffee Quality Union",
         "orientation": "h",
         "showlegend": true,
         "type": "histogram",
         "xaxis": "x",
         "y": [
          "Coffee Quality Union",
          "Coffee Quality Union",
          "Coffee Quality Union",
          "Coffee Quality Union",
          "Coffee Quality Union",
          "Coffee Quality Union",
          "Coffee Quality Union",
          "Coffee Quality Union",
          "Coffee Quality Union",
          "Coffee Quality Union",
          "Coffee Quality Union",
          "Coffee Quality Union",
          "Coffee Quality Union",
          "Coffee Quality Union",
          "Coffee Quality Union"
         ],
         "yaxis": "y"
        },
        {
         "alignmentgroup": "True",
         "bingroup": "y",
         "hovertemplate": "Owner=%{y}<br>count=%{x}<extra></extra>",
         "legendgroup": "Taiwan Coffee Laboratory 台灣咖啡研究室",
         "marker": {
          "color": "#EF553B",
          "pattern": {
           "shape": ""
          }
         },
         "name": "Taiwan Coffee Laboratory 台灣咖啡研究室",
         "offsetgroup": "Taiwan Coffee Laboratory 台灣咖啡研究室",
         "orientation": "h",
         "showlegend": true,
         "type": "histogram",
         "xaxis": "x",
         "y": [
          "Taiwan Coffee Laboratory 台灣咖啡研究室",
          "Taiwan Coffee Laboratory 台灣咖啡研究室",
          "Taiwan Coffee Laboratory 台灣咖啡研究室",
          "Taiwan Coffee Laboratory 台灣咖啡研究室",
          "Taiwan Coffee Laboratory 台灣咖啡研究室",
          "Taiwan Coffee Laboratory 台灣咖啡研究室",
          "Taiwan Coffee Laboratory 台灣咖啡研究室",
          "Taiwan Coffee Laboratory 台灣咖啡研究室",
          "Taiwan Coffee Laboratory 台灣咖啡研究室",
          "Taiwan Coffee Laboratory 台灣咖啡研究室",
          "Taiwan Coffee Laboratory 台灣咖啡研究室",
          "Taiwan Coffee Laboratory 台灣咖啡研究室",
          "Taiwan Coffee Laboratory 台灣咖啡研究室",
          "Taiwan Coffee Laboratory 台灣咖啡研究室",
          "Taiwan Coffee Laboratory 台灣咖啡研究室",
          "Taiwan Coffee Laboratory 台灣咖啡研究室",
          "Taiwan Coffee Laboratory 台灣咖啡研究室",
          "Taiwan Coffee Laboratory 台灣咖啡研究室",
          "Taiwan Coffee Laboratory 台灣咖啡研究室",
          "Taiwan Coffee Laboratory 台灣咖啡研究室",
          "Taiwan Coffee Laboratory 台灣咖啡研究室",
          "Taiwan Coffee Laboratory 台灣咖啡研究室",
          "Taiwan Coffee Laboratory 台灣咖啡研究室",
          "Taiwan Coffee Laboratory 台灣咖啡研究室",
          "Taiwan Coffee Laboratory 台灣咖啡研究室",
          "Taiwan Coffee Laboratory 台灣咖啡研究室",
          "Taiwan Coffee Laboratory 台灣咖啡研究室",
          "Taiwan Coffee Laboratory 台灣咖啡研究室",
          "Taiwan Coffee Laboratory 台灣咖啡研究室",
          "Taiwan Coffee Laboratory 台灣咖啡研究室"
         ],
         "yaxis": "y"
        },
        {
         "alignmentgroup": "True",
         "bingroup": "y",
         "hovertemplate": "Owner=%{y}<br>count=%{x}<extra></extra>",
         "legendgroup": "Gilbert Maina",
         "marker": {
          "color": "#00cc96",
          "pattern": {
           "shape": ""
          }
         },
         "name": "Gilbert Maina",
         "offsetgroup": "Gilbert Maina",
         "orientation": "h",
         "showlegend": true,
         "type": "histogram",
         "xaxis": "x",
         "y": [
          "Gilbert Maina",
          "Gilbert Maina",
          "Gilbert Maina",
          "Gilbert Maina",
          "Gilbert Maina"
         ],
         "yaxis": "y"
        },
        {
         "alignmentgroup": "True",
         "bingroup": "y",
         "hovertemplate": "Owner=%{y}<br>count=%{x}<extra></extra>",
         "legendgroup": "ERI ASAEDA",
         "marker": {
          "color": "#ab63fa",
          "pattern": {
           "shape": ""
          }
         },
         "name": "ERI ASAEDA",
         "offsetgroup": "ERI ASAEDA",
         "orientation": "h",
         "showlegend": true,
         "type": "histogram",
         "xaxis": "x",
         "y": [
          "ERI ASAEDA"
         ],
         "yaxis": "y"
        },
        {
         "alignmentgroup": "True",
         "bingroup": "y",
         "hovertemplate": "Owner=%{y}<br>count=%{x}<extra></extra>",
         "legendgroup": "Full Sweet Coffee",
         "marker": {
          "color": "#FFA15A",
          "pattern": {
           "shape": ""
          }
         },
         "name": "Full Sweet Coffee",
         "offsetgroup": "Full Sweet Coffee",
         "orientation": "h",
         "showlegend": true,
         "type": "histogram",
         "xaxis": "x",
         "y": [
          "Full Sweet Coffee",
          "Full Sweet Coffee",
          "Full Sweet Coffee"
         ],
         "yaxis": "y"
        },
        {
         "alignmentgroup": "True",
         "bingroup": "y",
         "hovertemplate": "Owner=%{y}<br>count=%{x}<extra></extra>",
         "legendgroup": "Goodfun",
         "marker": {
          "color": "#19d3f3",
          "pattern": {
           "shape": ""
          }
         },
         "name": "Goodfun",
         "offsetgroup": "Goodfun",
         "orientation": "h",
         "showlegend": true,
         "type": "histogram",
         "xaxis": "x",
         "y": [
          "Goodfun"
         ],
         "yaxis": "y"
        },
        {
         "alignmentgroup": "True",
         "bingroup": "y",
         "hovertemplate": "Owner=%{y}<br>count=%{x}<extra></extra>",
         "legendgroup": "Isreal Degefa",
         "marker": {
          "color": "#FF6692",
          "pattern": {
           "shape": ""
          }
         },
         "name": "Isreal Degefa",
         "offsetgroup": "Isreal Degefa",
         "orientation": "h",
         "showlegend": true,
         "type": "histogram",
         "xaxis": "x",
         "y": [
          "Isreal Degefa"
         ],
         "yaxis": "y"
        },
        {
         "alignmentgroup": "True",
         "bingroup": "y",
         "hovertemplate": "Owner=%{y}<br>count=%{x}<extra></extra>",
         "legendgroup": "PeiHsun Lin",
         "marker": {
          "color": "#B6E880",
          "pattern": {
           "shape": ""
          }
         },
         "name": "PeiHsun Lin",
         "offsetgroup": "PeiHsun Lin",
         "orientation": "h",
         "showlegend": true,
         "type": "histogram",
         "xaxis": "x",
         "y": [
          "PeiHsun Lin",
          "PeiHsun Lin",
          "PeiHsun Lin"
         ],
         "yaxis": "y"
        },
        {
         "alignmentgroup": "True",
         "bingroup": "y",
         "hovertemplate": "Owner=%{y}<br>count=%{x}<extra></extra>",
         "legendgroup": "Dongbi",
         "marker": {
          "color": "#FF97FF",
          "pattern": {
           "shape": ""
          }
         },
         "name": "Dongbi",
         "offsetgroup": "Dongbi",
         "orientation": "h",
         "showlegend": true,
         "type": "histogram",
         "xaxis": "x",
         "y": [
          "Dongbi"
         ],
         "yaxis": "y"
        },
        {
         "alignmentgroup": "True",
         "bingroup": "y",
         "hovertemplate": "Owner=%{y}<br>count=%{x}<extra></extra>",
         "legendgroup": "王瀅惠",
         "marker": {
          "color": "#FECB52",
          "pattern": {
           "shape": ""
          }
         },
         "name": "王瀅惠",
         "offsetgroup": "王瀅惠",
         "orientation": "h",
         "showlegend": true,
         "type": "histogram",
         "xaxis": "x",
         "y": [
          "王瀅惠"
         ],
         "yaxis": "y"
        },
        {
         "alignmentgroup": "True",
         "bingroup": "y",
         "hovertemplate": "Owner=%{y}<br>count=%{x}<extra></extra>",
         "legendgroup": "Carlos Pascual - 潘仕杰",
         "marker": {
          "color": "#636efa",
          "pattern": {
           "shape": ""
          }
         },
         "name": "Carlos Pascual - 潘仕杰",
         "offsetgroup": "Carlos Pascual - 潘仕杰",
         "orientation": "h",
         "showlegend": true,
         "type": "histogram",
         "xaxis": "x",
         "y": [
          "Carlos Pascual - 潘仕杰"
         ],
         "yaxis": "y"
        },
        {
         "alignmentgroup": "True",
         "bingroup": "y",
         "hovertemplate": "Owner=%{y}<br>count=%{x}<extra></extra>",
         "legendgroup": "Yu Ting Yu 游婷淯",
         "marker": {
          "color": "#EF553B",
          "pattern": {
           "shape": ""
          }
         },
         "name": "Yu Ting Yu 游婷淯",
         "offsetgroup": "Yu Ting Yu 游婷淯",
         "orientation": "h",
         "showlegend": true,
         "type": "histogram",
         "xaxis": "x",
         "y": [
          "Yu Ting Yu 游婷淯"
         ],
         "yaxis": "y"
        },
        {
         "alignmentgroup": "True",
         "bingroup": "y",
         "hovertemplate": "Owner=%{y}<br>count=%{x}<extra></extra>",
         "legendgroup": "Christian Charmette",
         "marker": {
          "color": "#00cc96",
          "pattern": {
           "shape": ""
          }
         },
         "name": "Christian Charmette",
         "offsetgroup": "Christian Charmette",
         "orientation": "h",
         "showlegend": true,
         "type": "histogram",
         "xaxis": "x",
         "y": [
          "Christian Charmette"
         ],
         "yaxis": "y"
        },
        {
         "alignmentgroup": "True",
         "bingroup": "y",
         "hovertemplate": "Owner=%{y}<br>count=%{x}<extra></extra>",
         "legendgroup": "Andre Clark",
         "marker": {
          "color": "#ab63fa",
          "pattern": {
           "shape": ""
          }
         },
         "name": "Andre Clark",
         "offsetgroup": "Andre Clark",
         "orientation": "h",
         "showlegend": true,
         "type": "histogram",
         "xaxis": "x",
         "y": [
          "Andre Clark"
         ],
         "yaxis": "y"
        },
        {
         "alignmentgroup": "True",
         "bingroup": "y",
         "hovertemplate": "Owner=%{y}<br>count=%{x}<extra></extra>",
         "legendgroup": "Fang, Cheng Lun 方政倫",
         "marker": {
          "color": "#FFA15A",
          "pattern": {
           "shape": ""
          }
         },
         "name": "Fang, Cheng Lun 方政倫",
         "offsetgroup": "Fang, Cheng Lun 方政倫",
         "orientation": "h",
         "showlegend": true,
         "type": "histogram",
         "xaxis": "x",
         "y": [
          "Fang, Cheng Lun 方政倫"
         ],
         "yaxis": "y"
        },
        {
         "alignmentgroup": "True",
         "bingroup": "y",
         "hovertemplate": "Owner=%{y}<br>count=%{x}<extra></extra>",
         "legendgroup": "Jhih Hao,GUO 郭志豪",
         "marker": {
          "color": "#19d3f3",
          "pattern": {
           "shape": ""
          }
         },
         "name": "Jhih Hao,GUO 郭志豪",
         "offsetgroup": "Jhih Hao,GUO 郭志豪",
         "orientation": "h",
         "showlegend": true,
         "type": "histogram",
         "xaxis": "x",
         "y": [
          "Jhih Hao,GUO 郭志豪"
         ],
         "yaxis": "y"
        },
        {
         "alignmentgroup": "True",
         "bingroup": "y",
         "hovertemplate": "Owner=%{y}<br>count=%{x}<extra></extra>",
         "legendgroup": "Zhang Jin Yi 張進義",
         "marker": {
          "color": "#FF6692",
          "pattern": {
           "shape": ""
          }
         },
         "name": "Zhang Jin Yi 張進義",
         "offsetgroup": "Zhang Jin Yi 張進義",
         "orientation": "h",
         "showlegend": true,
         "type": "histogram",
         "xaxis": "x",
         "y": [
          "Zhang Jin Yi 張進義",
          "Zhang Jin Yi 張進義"
         ],
         "yaxis": "y"
        },
        {
         "alignmentgroup": "True",
         "bingroup": "y",
         "hovertemplate": "Owner=%{y}<br>count=%{x}<extra></extra>",
         "legendgroup": "Tamiru Tadesse Tesema",
         "marker": {
          "color": "#B6E880",
          "pattern": {
           "shape": ""
          }
         },
         "name": "Tamiru Tadesse Tesema",
         "offsetgroup": "Tamiru Tadesse Tesema",
         "orientation": "h",
         "showlegend": true,
         "type": "histogram",
         "xaxis": "x",
         "y": [
          "Tamiru Tadesse Tesema"
         ],
         "yaxis": "y"
        },
        {
         "alignmentgroup": "True",
         "bingroup": "y",
         "hovertemplate": "Owner=%{y}<br>count=%{x}<extra></extra>",
         "legendgroup": "Tadessa Desta Amene",
         "marker": {
          "color": "#FF97FF",
          "pattern": {
           "shape": ""
          }
         },
         "name": "Tadessa Desta Amene",
         "offsetgroup": "Tadessa Desta Amene",
         "orientation": "h",
         "showlegend": true,
         "type": "histogram",
         "xaxis": "x",
         "y": [
          "Tadessa Desta Amene"
         ],
         "yaxis": "y"
        },
        {
         "alignmentgroup": "True",
         "bingroup": "y",
         "hovertemplate": "Owner=%{y}<br>count=%{x}<extra></extra>",
         "legendgroup": "YHAENU PLC",
         "marker": {
          "color": "#FECB52",
          "pattern": {
           "shape": ""
          }
         },
         "name": "YHAENU PLC",
         "offsetgroup": "YHAENU PLC",
         "orientation": "h",
         "showlegend": true,
         "type": "histogram",
         "xaxis": "x",
         "y": [
          "YHAENU PLC",
          "YHAENU PLC"
         ],
         "yaxis": "y"
        },
        {
         "alignmentgroup": "True",
         "bingroup": "y",
         "hovertemplate": "Owner=%{y}<br>count=%{x}<extra></extra>",
         "legendgroup": "Hsu Ting Yey許定燁",
         "marker": {
          "color": "#636efa",
          "pattern": {
           "shape": ""
          }
         },
         "name": "Hsu Ting Yey許定燁",
         "offsetgroup": "Hsu Ting Yey許定燁",
         "orientation": "h",
         "showlegend": true,
         "type": "histogram",
         "xaxis": "x",
         "y": [
          "Hsu Ting Yey許定燁"
         ],
         "yaxis": "y"
        },
        {
         "alignmentgroup": "True",
         "bingroup": "y",
         "hovertemplate": "Owner=%{y}<br>count=%{x}<extra></extra>",
         "legendgroup": "Judith Murimi",
         "marker": {
          "color": "#EF553B",
          "pattern": {
           "shape": ""
          }
         },
         "name": "Judith Murimi",
         "offsetgroup": "Judith Murimi",
         "orientation": "h",
         "showlegend": true,
         "type": "histogram",
         "xaxis": "x",
         "y": [
          "Judith Murimi"
         ],
         "yaxis": "y"
        },
        {
         "alignmentgroup": "True",
         "bingroup": "y",
         "hovertemplate": "Owner=%{y}<br>count=%{x}<extra></extra>",
         "legendgroup": "CHEN RONG FENG",
         "marker": {
          "color": "#00cc96",
          "pattern": {
           "shape": ""
          }
         },
         "name": "CHEN RONG FENG",
         "offsetgroup": "CHEN RONG FENG",
         "orientation": "h",
         "showlegend": true,
         "type": "histogram",
         "xaxis": "x",
         "y": [
          "CHEN RONG FENG"
         ],
         "yaxis": "y"
        },
        {
         "alignmentgroup": "True",
         "bingroup": "y",
         "hovertemplate": "Owner=%{y}<br>count=%{x}<extra></extra>",
         "legendgroup": "Ethan Lee 李宗儒",
         "marker": {
          "color": "#ab63fa",
          "pattern": {
           "shape": ""
          }
         },
         "name": "Ethan Lee 李宗儒",
         "offsetgroup": "Ethan Lee 李宗儒",
         "orientation": "h",
         "showlegend": true,
         "type": "histogram",
         "xaxis": "x",
         "y": [
          "Ethan Lee 李宗儒",
          "Ethan Lee 李宗儒"
         ],
         "yaxis": "y"
        },
        {
         "alignmentgroup": "True",
         "bingroup": "y",
         "hovertemplate": "Owner=%{y}<br>count=%{x}<extra></extra>",
         "legendgroup": "Taiwu",
         "marker": {
          "color": "#FFA15A",
          "pattern": {
           "shape": ""
          }
         },
         "name": "Taiwu",
         "offsetgroup": "Taiwu",
         "orientation": "h",
         "showlegend": true,
         "type": "histogram",
         "xaxis": "x",
         "y": [
          "Taiwu",
          "Taiwu",
          "Taiwu",
          "Taiwu",
          "Taiwu",
          "Taiwu",
          "Taiwu",
          "Taiwu",
          "Taiwu",
          "Taiwu",
          "Taiwu",
          "Taiwu",
          "Taiwu",
          "Taiwu",
          "Taiwu",
          "Taiwu",
          "Taiwu",
          "Taiwu",
          "Taiwu",
          "Taiwu",
          "Taiwu",
          "Taiwu",
          "Taiwu",
          "Taiwu",
          "Taiwu"
         ],
         "yaxis": "y"
        },
        {
         "alignmentgroup": "True",
         "bingroup": "y",
         "hovertemplate": "Owner=%{y}<br>count=%{x}<extra></extra>",
         "legendgroup": "KYAGALANYI COFFEE LIMITED",
         "marker": {
          "color": "#19d3f3",
          "pattern": {
           "shape": ""
          }
         },
         "name": "KYAGALANYI COFFEE LIMITED",
         "offsetgroup": "KYAGALANYI COFFEE LIMITED",
         "orientation": "h",
         "showlegend": true,
         "type": "histogram",
         "xaxis": "x",
         "y": [
          "KYAGALANYI COFFEE LIMITED",
          "KYAGALANYI COFFEE LIMITED"
         ],
         "yaxis": "y"
        },
        {
         "alignmentgroup": "True",
         "bingroup": "y",
         "hovertemplate": "Owner=%{y}<br>count=%{x}<extra></extra>",
         "legendgroup": "Liu Meng Tsung劉孟宗",
         "marker": {
          "color": "#FF6692",
          "pattern": {
           "shape": ""
          }
         },
         "name": "Liu Meng Tsung劉孟宗",
         "offsetgroup": "Liu Meng Tsung劉孟宗",
         "orientation": "h",
         "showlegend": true,
         "type": "histogram",
         "xaxis": "x",
         "y": [
          "Liu Meng Tsung劉孟宗"
         ],
         "yaxis": "y"
        },
        {
         "alignmentgroup": "True",
         "bingroup": "y",
         "hovertemplate": "Owner=%{y}<br>count=%{x}<extra></extra>",
         "legendgroup": "Yesica Alejandra Martìnez Vàsquez",
         "marker": {
          "color": "#B6E880",
          "pattern": {
           "shape": ""
          }
         },
         "name": "Yesica Alejandra Martìnez Vàsquez",
         "offsetgroup": "Yesica Alejandra Martìnez Vàsquez",
         "orientation": "h",
         "showlegend": true,
         "type": "histogram",
         "xaxis": "x",
         "y": [
          "Yesica Alejandra Martìnez Vàsquez",
          "Yesica Alejandra Martìnez Vàsquez",
          "Yesica Alejandra Martìnez Vàsquez",
          "Yesica Alejandra Martìnez Vàsquez",
          "Yesica Alejandra Martìnez Vàsquez",
          "Yesica Alejandra Martìnez Vàsquez",
          "Yesica Alejandra Martìnez Vàsquez",
          "Yesica Alejandra Martìnez Vàsquez"
         ],
         "yaxis": "y"
        },
        {
         "alignmentgroup": "True",
         "bingroup": "y",
         "hovertemplate": "Owner=%{y}<br>count=%{x}<extra></extra>",
         "legendgroup": "Angelica Paola Citan Lopez",
         "marker": {
          "color": "#FF97FF",
          "pattern": {
           "shape": ""
          }
         },
         "name": "Angelica Paola Citan Lopez",
         "offsetgroup": "Angelica Paola Citan Lopez",
         "orientation": "h",
         "showlegend": true,
         "type": "histogram",
         "xaxis": "x",
         "y": [
          "Angelica Paola Citan Lopez",
          "Angelica Paola Citan Lopez",
          "Angelica Paola Citan Lopez",
          "Angelica Paola Citan Lopez",
          "Angelica Paola Citan Lopez",
          "Angelica Paola Citan Lopez"
         ],
         "yaxis": "y"
        },
        {
         "alignmentgroup": "True",
         "bingroup": "y",
         "hovertemplate": "Owner=%{y}<br>count=%{x}<extra></extra>",
         "legendgroup": "Charles Umeano",
         "marker": {
          "color": "#FECB52",
          "pattern": {
           "shape": ""
          }
         },
         "name": "Charles Umeano",
         "offsetgroup": "Charles Umeano",
         "orientation": "h",
         "showlegend": true,
         "type": "histogram",
         "xaxis": "x",
         "y": [
          "Charles Umeano",
          "Charles Umeano",
          "Charles Umeano"
         ],
         "yaxis": "y"
        },
        {
         "alignmentgroup": "True",
         "bingroup": "y",
         "hovertemplate": "Owner=%{y}<br>count=%{x}<extra></extra>",
         "legendgroup": "Balam Hinyula",
         "marker": {
          "color": "#636efa",
          "pattern": {
           "shape": ""
          }
         },
         "name": "Balam Hinyula",
         "offsetgroup": "Balam Hinyula",
         "orientation": "h",
         "showlegend": true,
         "type": "histogram",
         "xaxis": "x",
         "y": [
          "Balam Hinyula"
         ],
         "yaxis": "y"
        },
        {
         "alignmentgroup": "True",
         "bingroup": "y",
         "hovertemplate": "Owner=%{y}<br>count=%{x}<extra></extra>",
         "legendgroup": "Marcelo Itoh",
         "marker": {
          "color": "#EF553B",
          "pattern": {
           "shape": ""
          }
         },
         "name": "Marcelo Itoh",
         "offsetgroup": "Marcelo Itoh",
         "orientation": "h",
         "showlegend": true,
         "type": "histogram",
         "xaxis": "x",
         "y": [
          "Marcelo Itoh"
         ],
         "yaxis": "y"
        },
        {
         "alignmentgroup": "True",
         "bingroup": "y",
         "hovertemplate": "Owner=%{y}<br>count=%{x}<extra></extra>",
         "legendgroup": "Rodrigo Soto",
         "marker": {
          "color": "#00cc96",
          "pattern": {
           "shape": ""
          }
         },
         "name": "Rodrigo Soto",
         "offsetgroup": "Rodrigo Soto",
         "orientation": "h",
         "showlegend": true,
         "type": "histogram",
         "xaxis": "x",
         "y": [
          "Rodrigo Soto",
          "Rodrigo Soto"
         ],
         "yaxis": "y"
        },
        {
         "alignmentgroup": "True",
         "bingroup": "y",
         "hovertemplate": "Owner=%{y}<br>count=%{x}<extra></extra>",
         "legendgroup": "Joselyn Morales Quesada",
         "marker": {
          "color": "#ab63fa",
          "pattern": {
           "shape": ""
          }
         },
         "name": "Joselyn Morales Quesada",
         "offsetgroup": "Joselyn Morales Quesada",
         "orientation": "h",
         "showlegend": true,
         "type": "histogram",
         "xaxis": "x",
         "y": [
          "Joselyn Morales Quesada",
          "Joselyn Morales Quesada",
          "Joselyn Morales Quesada"
         ],
         "yaxis": "y"
        },
        {
         "alignmentgroup": "True",
         "bingroup": "y",
         "hovertemplate": "Owner=%{y}<br>count=%{x}<extra></extra>",
         "legendgroup": "KUO, YA-TSUNG",
         "marker": {
          "color": "#FFA15A",
          "pattern": {
           "shape": ""
          }
         },
         "name": "KUO, YA-TSUNG",
         "offsetgroup": "KUO, YA-TSUNG",
         "orientation": "h",
         "showlegend": true,
         "type": "histogram",
         "xaxis": "x",
         "y": [
          "KUO, YA-TSUNG"
         ],
         "yaxis": "y"
        },
        {
         "alignmentgroup": "True",
         "bingroup": "y",
         "hovertemplate": "Owner=%{y}<br>count=%{x}<extra></extra>",
         "legendgroup": "rene j alcebo",
         "marker": {
          "color": "#19d3f3",
          "pattern": {
           "shape": ""
          }
         },
         "name": "rene j alcebo",
         "offsetgroup": "rene j alcebo",
         "orientation": "h",
         "showlegend": true,
         "type": "histogram",
         "xaxis": "x",
         "y": [
          "rene j alcebo",
          "rene j alcebo"
         ],
         "yaxis": "y"
        },
        {
         "alignmentgroup": "True",
         "bingroup": "y",
         "hovertemplate": "Owner=%{y}<br>count=%{x}<extra></extra>",
         "legendgroup": "Pu Han Wen",
         "marker": {
          "color": "#FF6692",
          "pattern": {
           "shape": ""
          }
         },
         "name": "Pu Han Wen",
         "offsetgroup": "Pu Han Wen",
         "orientation": "h",
         "showlegend": true,
         "type": "histogram",
         "xaxis": "x",
         "y": [
          "Pu Han Wen"
         ],
         "yaxis": "y"
        },
        {
         "alignmentgroup": "True",
         "bingroup": "y",
         "hovertemplate": "Owner=%{y}<br>count=%{x}<extra></extra>",
         "legendgroup": "Comercial Internacional de Granos de Honduras SA de CV",
         "marker": {
          "color": "#B6E880",
          "pattern": {
           "shape": ""
          }
         },
         "name": "Comercial Internacional de Granos de Honduras SA de CV",
         "offsetgroup": "Comercial Internacional de Granos de Honduras SA de CV",
         "orientation": "h",
         "showlegend": true,
         "type": "histogram",
         "xaxis": "x",
         "y": [
          "Comercial Internacional de Granos de Honduras SA de CV",
          "Comercial Internacional de Granos de Honduras SA de CV",
          "Comercial Internacional de Granos de Honduras SA de CV",
          "Comercial Internacional de Granos de Honduras SA de CV",
          "Comercial Internacional de Granos de Honduras SA de CV"
         ],
         "yaxis": "y"
        },
        {
         "alignmentgroup": "True",
         "bingroup": "y",
         "hovertemplate": "Owner=%{y}<br>count=%{x}<extra></extra>",
         "legendgroup": "李晓斐 LI XIAO FEI",
         "marker": {
          "color": "#FF97FF",
          "pattern": {
           "shape": ""
          }
         },
         "name": "李晓斐 LI XIAO FEI",
         "offsetgroup": "李晓斐 LI XIAO FEI",
         "orientation": "h",
         "showlegend": true,
         "type": "histogram",
         "xaxis": "x",
         "y": [
          "李晓斐 LI XIAO FEI"
         ],
         "yaxis": "y"
        },
        {
         "alignmentgroup": "True",
         "bingroup": "y",
         "hovertemplate": "Owner=%{y}<br>count=%{x}<extra></extra>",
         "legendgroup": "黃怡瑄",
         "marker": {
          "color": "#FECB52",
          "pattern": {
           "shape": ""
          }
         },
         "name": "黃怡瑄",
         "offsetgroup": "黃怡瑄",
         "orientation": "h",
         "showlegend": true,
         "type": "histogram",
         "xaxis": "x",
         "y": [
          "黃怡瑄"
         ],
         "yaxis": "y"
        },
        {
         "alignmentgroup": "True",
         "bingroup": "y",
         "hovertemplate": "Owner=%{y}<br>count=%{x}<extra></extra>",
         "legendgroup": "Tadesse Desta",
         "marker": {
          "color": "#636efa",
          "pattern": {
           "shape": ""
          }
         },
         "name": "Tadesse Desta",
         "offsetgroup": "Tadesse Desta",
         "orientation": "h",
         "showlegend": true,
         "type": "histogram",
         "xaxis": "x",
         "y": [
          "Tadesse Desta"
         ],
         "yaxis": "y"
        },
        {
         "alignmentgroup": "True",
         "bingroup": "y",
         "hovertemplate": "Owner=%{y}<br>count=%{x}<extra></extra>",
         "legendgroup": "Sucafina Colombia SAS",
         "marker": {
          "color": "#EF553B",
          "pattern": {
           "shape": ""
          }
         },
         "name": "Sucafina Colombia SAS",
         "offsetgroup": "Sucafina Colombia SAS",
         "orientation": "h",
         "showlegend": true,
         "type": "histogram",
         "xaxis": "x",
         "y": [
          "Sucafina Colombia SAS"
         ],
         "yaxis": "y"
        },
        {
         "alignmentgroup": "True",
         "bingroup": "y",
         "hovertemplate": "Owner=%{y}<br>count=%{x}<extra></extra>",
         "legendgroup": "Marc Dumont",
         "marker": {
          "color": "#00cc96",
          "pattern": {
           "shape": ""
          }
         },
         "name": "Marc Dumont",
         "offsetgroup": "Marc Dumont",
         "orientation": "h",
         "showlegend": true,
         "type": "histogram",
         "xaxis": "x",
         "y": [
          "Marc Dumont"
         ],
         "yaxis": "y"
        },
        {
         "alignmentgroup": "True",
         "bingroup": "y",
         "hovertemplate": "Owner=%{y}<br>count=%{x}<extra></extra>",
         "legendgroup": "Kao,SIng-jay",
         "marker": {
          "color": "#ab63fa",
          "pattern": {
           "shape": ""
          }
         },
         "name": "Kao,SIng-jay",
         "offsetgroup": "Kao,SIng-jay",
         "orientation": "h",
         "showlegend": true,
         "type": "histogram",
         "xaxis": "x",
         "y": [
          "Kao,SIng-jay"
         ],
         "yaxis": "y"
        },
        {
         "alignmentgroup": "True",
         "bingroup": "y",
         "hovertemplate": "Owner=%{y}<br>count=%{x}<extra></extra>",
         "legendgroup": "Descafeinadores Mexicanos S.A de C.V",
         "marker": {
          "color": "#FFA15A",
          "pattern": {
           "shape": ""
          }
         },
         "name": "Descafeinadores Mexicanos S.A de C.V",
         "offsetgroup": "Descafeinadores Mexicanos S.A de C.V",
         "orientation": "h",
         "showlegend": true,
         "type": "histogram",
         "xaxis": "x",
         "y": [
          "Descafeinadores Mexicanos S.A de C.V",
          "Descafeinadores Mexicanos S.A de C.V"
         ],
         "yaxis": "y"
        },
        {
         "alignmentgroup": "True",
         "bingroup": "y",
         "hovertemplate": "Owner=%{y}<br>count=%{x}<extra></extra>",
         "legendgroup": "Ikuto Uehara",
         "marker": {
          "color": "#19d3f3",
          "pattern": {
           "shape": ""
          }
         },
         "name": "Ikuto Uehara",
         "offsetgroup": "Ikuto Uehara",
         "orientation": "h",
         "showlegend": true,
         "type": "histogram",
         "xaxis": "x",
         "y": [
          "Ikuto Uehara",
          "Ikuto Uehara",
          "Ikuto Uehara",
          "Ikuto Uehara",
          "Ikuto Uehara"
         ],
         "yaxis": "y"
        },
        {
         "alignmentgroup": "True",
         "bingroup": "y",
         "hovertemplate": "Owner=%{y}<br>count=%{x}<extra></extra>",
         "legendgroup": "Taylor Winch (Coffee) Ltd.",
         "marker": {
          "color": "#FF6692",
          "pattern": {
           "shape": ""
          }
         },
         "name": "Taylor Winch (Coffee) Ltd.",
         "offsetgroup": "Taylor Winch (Coffee) Ltd.",
         "orientation": "h",
         "showlegend": true,
         "type": "histogram",
         "xaxis": "x",
         "y": [
          "Taylor Winch (Coffee) Ltd."
         ],
         "yaxis": "y"
        },
        {
         "alignmentgroup": "True",
         "bingroup": "y",
         "hovertemplate": "Owner=%{y}<br>count=%{x}<extra></extra>",
         "legendgroup": "Raúl Vargas",
         "marker": {
          "color": "#B6E880",
          "pattern": {
           "shape": ""
          }
         },
         "name": "Raúl Vargas",
         "offsetgroup": "Raúl Vargas",
         "orientation": "h",
         "showlegend": true,
         "type": "histogram",
         "xaxis": "x",
         "y": [
          "Raúl Vargas"
         ],
         "yaxis": "y"
        },
        {
         "alignmentgroup": "True",
         "bingroup": "y",
         "hovertemplate": "Owner=%{y}<br>count=%{x}<extra></extra>",
         "legendgroup": "ANDREAS KUSSMAUL",
         "marker": {
          "color": "#FF97FF",
          "pattern": {
           "shape": ""
          }
         },
         "name": "ANDREAS KUSSMAUL",
         "offsetgroup": "ANDREAS KUSSMAUL",
         "orientation": "h",
         "showlegend": true,
         "type": "histogram",
         "xaxis": "x",
         "y": [
          "ANDREAS KUSSMAUL"
         ],
         "yaxis": "y"
        },
        {
         "alignmentgroup": "True",
         "bingroup": "y",
         "hovertemplate": "Owner=%{y}<br>count=%{x}<extra></extra>",
         "legendgroup": "Coffee Quality Institute",
         "marker": {
          "color": "#FECB52",
          "pattern": {
           "shape": ""
          }
         },
         "name": "Coffee Quality Institute",
         "offsetgroup": "Coffee Quality Institute",
         "orientation": "h",
         "showlegend": true,
         "type": "histogram",
         "xaxis": "x",
         "y": [
          "Coffee Quality Institute"
         ],
         "yaxis": "y"
        },
        {
         "alignmentgroup": "True",
         "bingroup": "y",
         "hovertemplate": "Owner=%{y}<br>count=%{x}<extra></extra>",
         "legendgroup": "Yongshun",
         "marker": {
          "color": "#636efa",
          "pattern": {
           "shape": ""
          }
         },
         "name": "Yongshun",
         "offsetgroup": "Yongshun",
         "orientation": "h",
         "showlegend": true,
         "type": "histogram",
         "xaxis": "x",
         "y": [
          "Yongshun"
         ],
         "yaxis": "y"
        },
        {
         "alignmentgroup": "True",
         "bingroup": "y",
         "hovertemplate": "Owner=%{y}<br>count=%{x}<extra></extra>",
         "legendgroup": "Eliud Hernandez Gonzales",
         "marker": {
          "color": "#EF553B",
          "pattern": {
           "shape": ""
          }
         },
         "name": "Eliud Hernandez Gonzales",
         "offsetgroup": "Eliud Hernandez Gonzales",
         "orientation": "h",
         "showlegend": true,
         "type": "histogram",
         "xaxis": "x",
         "y": [
          "Eliud Hernandez Gonzales",
          "Eliud Hernandez Gonzales",
          "Eliud Hernandez Gonzales"
         ],
         "yaxis": "y"
        },
        {
         "alignmentgroup": "True",
         "bingroup": "y",
         "hovertemplate": "Owner=%{y}<br>count=%{x}<extra></extra>",
         "legendgroup": "pablo velosa",
         "marker": {
          "color": "#00cc96",
          "pattern": {
           "shape": ""
          }
         },
         "name": "pablo velosa",
         "offsetgroup": "pablo velosa",
         "orientation": "h",
         "showlegend": true,
         "type": "histogram",
         "xaxis": "x",
         "y": [
          "pablo velosa"
         ],
         "yaxis": "y"
        },
        {
         "alignmentgroup": "True",
         "bingroup": "y",
         "hovertemplate": "Owner=%{y}<br>count=%{x}<extra></extra>",
         "legendgroup": "Doi Tung Development Project",
         "marker": {
          "color": "#ab63fa",
          "pattern": {
           "shape": ""
          }
         },
         "name": "Doi Tung Development Project",
         "offsetgroup": "Doi Tung Development Project",
         "orientation": "h",
         "showlegend": true,
         "type": "histogram",
         "xaxis": "x",
         "y": [
          "Doi Tung Development Project",
          "Doi Tung Development Project",
          "Doi Tung Development Project",
          "Doi Tung Development Project",
          "Doi Tung Development Project",
          "Doi Tung Development Project",
          "Doi Tung Development Project"
         ],
         "yaxis": "y"
        },
        {
         "alignmentgroup": "True",
         "bingroup": "y",
         "hovertemplate": "Owner=%{y}<br>count=%{x}<extra></extra>",
         "legendgroup": "Kawacom Uganda LTD",
         "marker": {
          "color": "#FFA15A",
          "pattern": {
           "shape": ""
          }
         },
         "name": "Kawacom Uganda LTD",
         "offsetgroup": "Kawacom Uganda LTD",
         "orientation": "h",
         "showlegend": true,
         "type": "histogram",
         "xaxis": "x",
         "y": [
          "Kawacom Uganda LTD"
         ],
         "yaxis": "y"
        },
        {
         "alignmentgroup": "True",
         "bingroup": "y",
         "hovertemplate": "Owner=%{y}<br>count=%{x}<extra></extra>",
         "legendgroup": "Wu Jhao Yun",
         "marker": {
          "color": "#19d3f3",
          "pattern": {
           "shape": ""
          }
         },
         "name": "Wu Jhao Yun",
         "offsetgroup": "Wu Jhao Yun",
         "orientation": "h",
         "showlegend": true,
         "type": "histogram",
         "xaxis": "x",
         "y": [
          "Wu Jhao Yun"
         ],
         "yaxis": "y"
        },
        {
         "alignmentgroup": "True",
         "bingroup": "y",
         "hovertemplate": "Owner=%{y}<br>count=%{x}<extra></extra>",
         "legendgroup": "MR.BROWN CAFE",
         "marker": {
          "color": "#FF6692",
          "pattern": {
           "shape": ""
          }
         },
         "name": "MR.BROWN CAFE",
         "offsetgroup": "MR.BROWN CAFE",
         "orientation": "h",
         "showlegend": true,
         "type": "histogram",
         "xaxis": "x",
         "y": [
          "MR.BROWN CAFE",
          "MR.BROWN CAFE",
          "MR.BROWN CAFE",
          "MR.BROWN CAFE"
         ],
         "yaxis": "y"
        },
        {
         "alignmentgroup": "True",
         "bingroup": "y",
         "hovertemplate": "Owner=%{y}<br>count=%{x}<extra></extra>",
         "legendgroup": "piradaPKPL",
         "marker": {
          "color": "#B6E880",
          "pattern": {
           "shape": ""
          }
         },
         "name": "piradaPKPL",
         "offsetgroup": "piradaPKPL",
         "orientation": "h",
         "showlegend": true,
         "type": "histogram",
         "xaxis": "x",
         "y": [
          "piradaPKPL"
         ],
         "yaxis": "y"
        },
        {
         "alignmentgroup": "True",
         "bingroup": "y",
         "hovertemplate": "Owner=%{y}<br>count=%{x}<extra></extra>",
         "legendgroup": "CHEN SHAN DONG 陳善東",
         "marker": {
          "color": "#FF97FF",
          "pattern": {
           "shape": ""
          }
         },
         "name": "CHEN SHAN DONG 陳善東",
         "offsetgroup": "CHEN SHAN DONG 陳善東",
         "orientation": "h",
         "showlegend": true,
         "type": "histogram",
         "xaxis": "x",
         "y": [
          "CHEN SHAN DONG 陳善東"
         ],
         "yaxis": "y"
        },
        {
         "alignmentgroup": "True",
         "bingroup": "y",
         "hovertemplate": "Owner=%{y}<br>count=%{x}<extra></extra>",
         "legendgroup": "Ipanema Coffees",
         "marker": {
          "color": "#FECB52",
          "pattern": {
           "shape": ""
          }
         },
         "name": "Ipanema Coffees",
         "offsetgroup": "Ipanema Coffees",
         "orientation": "h",
         "showlegend": true,
         "type": "histogram",
         "xaxis": "x",
         "y": [
          "Ipanema Coffees",
          "Ipanema Coffees"
         ],
         "yaxis": "y"
        },
        {
         "alignmentgroup": "True",
         "bingroup": "y",
         "hovertemplate": "Owner=%{y}<br>count=%{x}<extra></extra>",
         "legendgroup": "Dao Heuang Group",
         "marker": {
          "color": "#636efa",
          "pattern": {
           "shape": ""
          }
         },
         "name": "Dao Heuang Group",
         "offsetgroup": "Dao Heuang Group",
         "orientation": "h",
         "showlegend": true,
         "type": "histogram",
         "xaxis": "x",
         "y": [
          "Dao Heuang Group"
         ],
         "yaxis": "y"
        },
        {
         "alignmentgroup": "True",
         "bingroup": "y",
         "hovertemplate": "Owner=%{y}<br>count=%{x}<extra></extra>",
         "legendgroup": "CADEXSA",
         "marker": {
          "color": "#EF553B",
          "pattern": {
           "shape": ""
          }
         },
         "name": "CADEXSA",
         "offsetgroup": "CADEXSA",
         "orientation": "h",
         "showlegend": true,
         "type": "histogram",
         "xaxis": "x",
         "y": [
          "CADEXSA",
          "CADEXSA"
         ],
         "yaxis": "y"
        },
        {
         "alignmentgroup": "True",
         "bingroup": "y",
         "hovertemplate": "Owner=%{y}<br>count=%{x}<extra></extra>",
         "legendgroup": "rodrigo amaya",
         "marker": {
          "color": "#00cc96",
          "pattern": {
           "shape": ""
          }
         },
         "name": "rodrigo amaya",
         "offsetgroup": "rodrigo amaya",
         "orientation": "h",
         "showlegend": true,
         "type": "histogram",
         "xaxis": "x",
         "y": [
          "rodrigo amaya"
         ],
         "yaxis": "y"
        },
        {
         "alignmentgroup": "True",
         "bingroup": "y",
         "hovertemplate": "Owner=%{y}<br>count=%{x}<extra></extra>",
         "legendgroup": "Alvin La Vaughn Landry",
         "marker": {
          "color": "#ab63fa",
          "pattern": {
           "shape": ""
          }
         },
         "name": "Alvin La Vaughn Landry",
         "offsetgroup": "Alvin La Vaughn Landry",
         "orientation": "h",
         "showlegend": true,
         "type": "histogram",
         "xaxis": "x",
         "y": [
          "Alvin La Vaughn Landry",
          "Alvin La Vaughn Landry"
         ],
         "yaxis": "y"
        },
        {
         "alignmentgroup": "True",
         "bingroup": "y",
         "hovertemplate": "Owner=%{y}<br>count=%{x}<extra></extra>",
         "legendgroup": "郭亮志 GuoLiangZhi",
         "marker": {
          "color": "#FFA15A",
          "pattern": {
           "shape": ""
          }
         },
         "name": "郭亮志 GuoLiangZhi",
         "offsetgroup": "郭亮志 GuoLiangZhi",
         "orientation": "h",
         "showlegend": true,
         "type": "histogram",
         "xaxis": "x",
         "y": [
          "郭亮志 GuoLiangZhi"
         ],
         "yaxis": "y"
        },
        {
         "alignmentgroup": "True",
         "bingroup": "y",
         "hovertemplate": "Owner=%{y}<br>count=%{x}<extra></extra>",
         "legendgroup": "Simexco DakLak",
         "marker": {
          "color": "#19d3f3",
          "pattern": {
           "shape": ""
          }
         },
         "name": "Simexco DakLak",
         "offsetgroup": "Simexco DakLak",
         "orientation": "h",
         "showlegend": true,
         "type": "histogram",
         "xaxis": "x",
         "y": [
          "Simexco DakLak"
         ],
         "yaxis": "y"
        },
        {
         "alignmentgroup": "True",
         "bingroup": "y",
         "hovertemplate": "Owner=%{y}<br>count=%{x}<extra></extra>",
         "legendgroup": "Exportadora Atlantic, S.A.",
         "marker": {
          "color": "#FF6692",
          "pattern": {
           "shape": ""
          }
         },
         "name": "Exportadora Atlantic, S.A.",
         "offsetgroup": "Exportadora Atlantic, S.A.",
         "orientation": "h",
         "showlegend": true,
         "type": "histogram",
         "xaxis": "x",
         "y": [
          "Exportadora Atlantic, S.A.",
          "Exportadora Atlantic, S.A."
         ],
         "yaxis": "y"
        },
        {
         "alignmentgroup": "True",
         "bingroup": "y",
         "hovertemplate": "Owner=%{y}<br>count=%{x}<extra></extra>",
         "legendgroup": "Yukinobu Ueda",
         "marker": {
          "color": "#B6E880",
          "pattern": {
           "shape": ""
          }
         },
         "name": "Yukinobu Ueda",
         "offsetgroup": "Yukinobu Ueda",
         "orientation": "h",
         "showlegend": true,
         "type": "histogram",
         "xaxis": "x",
         "y": [
          "Yukinobu Ueda"
         ],
         "yaxis": "y"
        },
        {
         "alignmentgroup": "True",
         "bingroup": "y",
         "hovertemplate": "Owner=%{y}<br>count=%{x}<extra></extra>",
         "legendgroup": "Sajcha tawaytibhong",
         "marker": {
          "color": "#FF97FF",
          "pattern": {
           "shape": ""
          }
         },
         "name": "Sajcha tawaytibhong",
         "offsetgroup": "Sajcha tawaytibhong",
         "orientation": "h",
         "showlegend": true,
         "type": "histogram",
         "xaxis": "x",
         "y": [
          "Sajcha tawaytibhong"
         ],
         "yaxis": "y"
        },
        {
         "alignmentgroup": "True",
         "bingroup": "y",
         "hovertemplate": "Owner=%{y}<br>count=%{x}<extra></extra>",
         "legendgroup": "Consejo Salvadoreño del Café",
         "marker": {
          "color": "#FECB52",
          "pattern": {
           "shape": ""
          }
         },
         "name": "Consejo Salvadoreño del Café",
         "offsetgroup": "Consejo Salvadoreño del Café",
         "orientation": "h",
         "showlegend": true,
         "type": "histogram",
         "xaxis": "x",
         "y": [
          "Consejo Salvadoreño del Café",
          "Consejo Salvadoreño del Café",
          "Consejo Salvadoreño del Café"
         ],
         "yaxis": "y"
        },
        {
         "alignmentgroup": "True",
         "bingroup": "y",
         "hovertemplate": "Owner=%{y}<br>count=%{x}<extra></extra>",
         "legendgroup": "ED&F Man Volcafe Brasil Ltda.",
         "marker": {
          "color": "#636efa",
          "pattern": {
           "shape": ""
          }
         },
         "name": "ED&F Man Volcafe Brasil Ltda.",
         "offsetgroup": "ED&F Man Volcafe Brasil Ltda.",
         "orientation": "h",
         "showlegend": true,
         "type": "histogram",
         "xaxis": "x",
         "y": [
          "ED&F Man Volcafe Brasil Ltda."
         ],
         "yaxis": "y"
        },
        {
         "alignmentgroup": "True",
         "bingroup": "y",
         "hovertemplate": "Owner=%{y}<br>count=%{x}<extra></extra>",
         "legendgroup": "Sunvirtue Co., Ltd.",
         "marker": {
          "color": "#EF553B",
          "pattern": {
           "shape": ""
          }
         },
         "name": "Sunvirtue Co., Ltd.",
         "offsetgroup": "Sunvirtue Co., Ltd.",
         "orientation": "h",
         "showlegend": true,
         "type": "histogram",
         "xaxis": "x",
         "y": [
          "Sunvirtue Co., Ltd."
         ],
         "yaxis": "y"
        },
        {
         "alignmentgroup": "True",
         "bingroup": "y",
         "hovertemplate": "Owner=%{y}<br>count=%{x}<extra></extra>",
         "legendgroup": "Kiichiro Iwata",
         "marker": {
          "color": "#00cc96",
          "pattern": {
           "shape": ""
          }
         },
         "name": "Kiichiro Iwata",
         "offsetgroup": "Kiichiro Iwata",
         "orientation": "h",
         "showlegend": true,
         "type": "histogram",
         "xaxis": "x",
         "y": [
          "Kiichiro Iwata",
          "Kiichiro Iwata",
          "Kiichiro Iwata"
         ],
         "yaxis": "y"
        },
        {
         "alignmentgroup": "True",
         "bingroup": "y",
         "hovertemplate": "Owner=%{y}<br>count=%{x}<extra></extra>",
         "legendgroup": "Volcafe Japan",
         "marker": {
          "color": "#ab63fa",
          "pattern": {
           "shape": ""
          }
         },
         "name": "Volcafe Japan",
         "offsetgroup": "Volcafe Japan",
         "orientation": "h",
         "showlegend": true,
         "type": "histogram",
         "xaxis": "x",
         "y": [
          "Volcafe Japan"
         ],
         "yaxis": "y"
        },
        {
         "alignmentgroup": "True",
         "bingroup": "y",
         "hovertemplate": "Owner=%{y}<br>count=%{x}<extra></extra>",
         "legendgroup": "Anderson Wong",
         "marker": {
          "color": "#FFA15A",
          "pattern": {
           "shape": ""
          }
         },
         "name": "Anderson Wong",
         "offsetgroup": "Anderson Wong",
         "orientation": "h",
         "showlegend": true,
         "type": "histogram",
         "xaxis": "x",
         "y": [
          "Anderson Wong"
         ],
         "yaxis": "y"
        },
        {
         "alignmentgroup": "True",
         "bingroup": "y",
         "hovertemplate": "Owner=%{y}<br>count=%{x}<extra></extra>",
         "legendgroup": "Rodney Murray",
         "marker": {
          "color": "#19d3f3",
          "pattern": {
           "shape": ""
          }
         },
         "name": "Rodney Murray",
         "offsetgroup": "Rodney Murray",
         "orientation": "h",
         "showlegend": true,
         "type": "histogram",
         "xaxis": "x",
         "y": [
          "Rodney Murray"
         ],
         "yaxis": "y"
        },
        {
         "alignmentgroup": "True",
         "bingroup": "y",
         "hovertemplate": "Owner=%{y}<br>count=%{x}<extra></extra>",
         "legendgroup": "Ruddy Azofeifa",
         "marker": {
          "color": "#FF6692",
          "pattern": {
           "shape": ""
          }
         },
         "name": "Ruddy Azofeifa",
         "offsetgroup": "Ruddy Azofeifa",
         "orientation": "h",
         "showlegend": true,
         "type": "histogram",
         "xaxis": "x",
         "y": [
          "Ruddy Azofeifa"
         ],
         "yaxis": "y"
        },
        {
         "alignmentgroup": "True",
         "bingroup": "y",
         "hovertemplate": "Owner=%{y}<br>count=%{x}<extra></extra>",
         "legendgroup": "Roselia Yglesias",
         "marker": {
          "color": "#B6E880",
          "pattern": {
           "shape": ""
          }
         },
         "name": "Roselia Yglesias",
         "offsetgroup": "Roselia Yglesias",
         "orientation": "h",
         "showlegend": true,
         "type": "histogram",
         "xaxis": "x",
         "y": [
          "Roselia Yglesias",
          "Roselia Yglesias",
          "Roselia Yglesias"
         ],
         "yaxis": "y"
        },
        {
         "alignmentgroup": "True",
         "bingroup": "y",
         "hovertemplate": "Owner=%{y}<br>count=%{x}<extra></extra>",
         "legendgroup": "丸山花織",
         "marker": {
          "color": "#FF97FF",
          "pattern": {
           "shape": ""
          }
         },
         "name": "丸山花織",
         "offsetgroup": "丸山花織",
         "orientation": "h",
         "showlegend": true,
         "type": "histogram",
         "xaxis": "x",
         "y": [
          "丸山花織"
         ],
         "yaxis": "y"
        },
        {
         "alignmentgroup": "True",
         "bingroup": "y",
         "hovertemplate": "Owner=%{y}<br>count=%{x}<extra></extra>",
         "legendgroup": "SAJONIA ESTATE COFFEE S.A.",
         "marker": {
          "color": "#FECB52",
          "pattern": {
           "shape": ""
          }
         },
         "name": "SAJONIA ESTATE COFFEE S.A.",
         "offsetgroup": "SAJONIA ESTATE COFFEE S.A.",
         "orientation": "h",
         "showlegend": true,
         "type": "histogram",
         "xaxis": "x",
         "y": [
          "SAJONIA ESTATE COFFEE S.A."
         ],
         "yaxis": "y"
        }
       ],
       "layout": {
        "barmode": "relative",
        "legend": {
         "title": {
          "text": "Owner"
         },
         "tracegroupgap": 0
        },
        "margin": {
         "t": 60
        },
        "template": {
         "data": {
          "bar": [
           {
            "error_x": {
             "color": "#2a3f5f"
            },
            "error_y": {
             "color": "#2a3f5f"
            },
            "marker": {
             "line": {
              "color": "#E5ECF6",
              "width": 0.5
             },
             "pattern": {
              "fillmode": "overlay",
              "size": 10,
              "solidity": 0.2
             }
            },
            "type": "bar"
           }
          ],
          "barpolar": [
           {
            "marker": {
             "line": {
              "color": "#E5ECF6",
              "width": 0.5
             },
             "pattern": {
              "fillmode": "overlay",
              "size": 10,
              "solidity": 0.2
             }
            },
            "type": "barpolar"
           }
          ],
          "carpet": [
           {
            "aaxis": {
             "endlinecolor": "#2a3f5f",
             "gridcolor": "white",
             "linecolor": "white",
             "minorgridcolor": "white",
             "startlinecolor": "#2a3f5f"
            },
            "baxis": {
             "endlinecolor": "#2a3f5f",
             "gridcolor": "white",
             "linecolor": "white",
             "minorgridcolor": "white",
             "startlinecolor": "#2a3f5f"
            },
            "type": "carpet"
           }
          ],
          "choropleth": [
           {
            "colorbar": {
             "outlinewidth": 0,
             "ticks": ""
            },
            "type": "choropleth"
           }
          ],
          "contour": [
           {
            "colorbar": {
             "outlinewidth": 0,
             "ticks": ""
            },
            "colorscale": [
             [
              0,
              "#0d0887"
             ],
             [
              0.1111111111111111,
              "#46039f"
             ],
             [
              0.2222222222222222,
              "#7201a8"
             ],
             [
              0.3333333333333333,
              "#9c179e"
             ],
             [
              0.4444444444444444,
              "#bd3786"
             ],
             [
              0.5555555555555556,
              "#d8576b"
             ],
             [
              0.6666666666666666,
              "#ed7953"
             ],
             [
              0.7777777777777778,
              "#fb9f3a"
             ],
             [
              0.8888888888888888,
              "#fdca26"
             ],
             [
              1,
              "#f0f921"
             ]
            ],
            "type": "contour"
           }
          ],
          "contourcarpet": [
           {
            "colorbar": {
             "outlinewidth": 0,
             "ticks": ""
            },
            "type": "contourcarpet"
           }
          ],
          "heatmap": [
           {
            "colorbar": {
             "outlinewidth": 0,
             "ticks": ""
            },
            "colorscale": [
             [
              0,
              "#0d0887"
             ],
             [
              0.1111111111111111,
              "#46039f"
             ],
             [
              0.2222222222222222,
              "#7201a8"
             ],
             [
              0.3333333333333333,
              "#9c179e"
             ],
             [
              0.4444444444444444,
              "#bd3786"
             ],
             [
              0.5555555555555556,
              "#d8576b"
             ],
             [
              0.6666666666666666,
              "#ed7953"
             ],
             [
              0.7777777777777778,
              "#fb9f3a"
             ],
             [
              0.8888888888888888,
              "#fdca26"
             ],
             [
              1,
              "#f0f921"
             ]
            ],
            "type": "heatmap"
           }
          ],
          "heatmapgl": [
           {
            "colorbar": {
             "outlinewidth": 0,
             "ticks": ""
            },
            "colorscale": [
             [
              0,
              "#0d0887"
             ],
             [
              0.1111111111111111,
              "#46039f"
             ],
             [
              0.2222222222222222,
              "#7201a8"
             ],
             [
              0.3333333333333333,
              "#9c179e"
             ],
             [
              0.4444444444444444,
              "#bd3786"
             ],
             [
              0.5555555555555556,
              "#d8576b"
             ],
             [
              0.6666666666666666,
              "#ed7953"
             ],
             [
              0.7777777777777778,
              "#fb9f3a"
             ],
             [
              0.8888888888888888,
              "#fdca26"
             ],
             [
              1,
              "#f0f921"
             ]
            ],
            "type": "heatmapgl"
           }
          ],
          "histogram": [
           {
            "marker": {
             "pattern": {
              "fillmode": "overlay",
              "size": 10,
              "solidity": 0.2
             }
            },
            "type": "histogram"
           }
          ],
          "histogram2d": [
           {
            "colorbar": {
             "outlinewidth": 0,
             "ticks": ""
            },
            "colorscale": [
             [
              0,
              "#0d0887"
             ],
             [
              0.1111111111111111,
              "#46039f"
             ],
             [
              0.2222222222222222,
              "#7201a8"
             ],
             [
              0.3333333333333333,
              "#9c179e"
             ],
             [
              0.4444444444444444,
              "#bd3786"
             ],
             [
              0.5555555555555556,
              "#d8576b"
             ],
             [
              0.6666666666666666,
              "#ed7953"
             ],
             [
              0.7777777777777778,
              "#fb9f3a"
             ],
             [
              0.8888888888888888,
              "#fdca26"
             ],
             [
              1,
              "#f0f921"
             ]
            ],
            "type": "histogram2d"
           }
          ],
          "histogram2dcontour": [
           {
            "colorbar": {
             "outlinewidth": 0,
             "ticks": ""
            },
            "colorscale": [
             [
              0,
              "#0d0887"
             ],
             [
              0.1111111111111111,
              "#46039f"
             ],
             [
              0.2222222222222222,
              "#7201a8"
             ],
             [
              0.3333333333333333,
              "#9c179e"
             ],
             [
              0.4444444444444444,
              "#bd3786"
             ],
             [
              0.5555555555555556,
              "#d8576b"
             ],
             [
              0.6666666666666666,
              "#ed7953"
             ],
             [
              0.7777777777777778,
              "#fb9f3a"
             ],
             [
              0.8888888888888888,
              "#fdca26"
             ],
             [
              1,
              "#f0f921"
             ]
            ],
            "type": "histogram2dcontour"
           }
          ],
          "mesh3d": [
           {
            "colorbar": {
             "outlinewidth": 0,
             "ticks": ""
            },
            "type": "mesh3d"
           }
          ],
          "parcoords": [
           {
            "line": {
             "colorbar": {
              "outlinewidth": 0,
              "ticks": ""
             }
            },
            "type": "parcoords"
           }
          ],
          "pie": [
           {
            "automargin": true,
            "type": "pie"
           }
          ],
          "scatter": [
           {
            "fillpattern": {
             "fillmode": "overlay",
             "size": 10,
             "solidity": 0.2
            },
            "type": "scatter"
           }
          ],
          "scatter3d": [
           {
            "line": {
             "colorbar": {
              "outlinewidth": 0,
              "ticks": ""
             }
            },
            "marker": {
             "colorbar": {
              "outlinewidth": 0,
              "ticks": ""
             }
            },
            "type": "scatter3d"
           }
          ],
          "scattercarpet": [
           {
            "marker": {
             "colorbar": {
              "outlinewidth": 0,
              "ticks": ""
             }
            },
            "type": "scattercarpet"
           }
          ],
          "scattergeo": [
           {
            "marker": {
             "colorbar": {
              "outlinewidth": 0,
              "ticks": ""
             }
            },
            "type": "scattergeo"
           }
          ],
          "scattergl": [
           {
            "marker": {
             "colorbar": {
              "outlinewidth": 0,
              "ticks": ""
             }
            },
            "type": "scattergl"
           }
          ],
          "scattermapbox": [
           {
            "marker": {
             "colorbar": {
              "outlinewidth": 0,
              "ticks": ""
             }
            },
            "type": "scattermapbox"
           }
          ],
          "scatterpolar": [
           {
            "marker": {
             "colorbar": {
              "outlinewidth": 0,
              "ticks": ""
             }
            },
            "type": "scatterpolar"
           }
          ],
          "scatterpolargl": [
           {
            "marker": {
             "colorbar": {
              "outlinewidth": 0,
              "ticks": ""
             }
            },
            "type": "scatterpolargl"
           }
          ],
          "scatterternary": [
           {
            "marker": {
             "colorbar": {
              "outlinewidth": 0,
              "ticks": ""
             }
            },
            "type": "scatterternary"
           }
          ],
          "surface": [
           {
            "colorbar": {
             "outlinewidth": 0,
             "ticks": ""
            },
            "colorscale": [
             [
              0,
              "#0d0887"
             ],
             [
              0.1111111111111111,
              "#46039f"
             ],
             [
              0.2222222222222222,
              "#7201a8"
             ],
             [
              0.3333333333333333,
              "#9c179e"
             ],
             [
              0.4444444444444444,
              "#bd3786"
             ],
             [
              0.5555555555555556,
              "#d8576b"
             ],
             [
              0.6666666666666666,
              "#ed7953"
             ],
             [
              0.7777777777777778,
              "#fb9f3a"
             ],
             [
              0.8888888888888888,
              "#fdca26"
             ],
             [
              1,
              "#f0f921"
             ]
            ],
            "type": "surface"
           }
          ],
          "table": [
           {
            "cells": {
             "fill": {
              "color": "#EBF0F8"
             },
             "line": {
              "color": "white"
             }
            },
            "header": {
             "fill": {
              "color": "#C8D4E3"
             },
             "line": {
              "color": "white"
             }
            },
            "type": "table"
           }
          ]
         },
         "layout": {
          "annotationdefaults": {
           "arrowcolor": "#2a3f5f",
           "arrowhead": 0,
           "arrowwidth": 1
          },
          "autotypenumbers": "strict",
          "coloraxis": {
           "colorbar": {
            "outlinewidth": 0,
            "ticks": ""
           }
          },
          "colorscale": {
           "diverging": [
            [
             0,
             "#8e0152"
            ],
            [
             0.1,
             "#c51b7d"
            ],
            [
             0.2,
             "#de77ae"
            ],
            [
             0.3,
             "#f1b6da"
            ],
            [
             0.4,
             "#fde0ef"
            ],
            [
             0.5,
             "#f7f7f7"
            ],
            [
             0.6,
             "#e6f5d0"
            ],
            [
             0.7,
             "#b8e186"
            ],
            [
             0.8,
             "#7fbc41"
            ],
            [
             0.9,
             "#4d9221"
            ],
            [
             1,
             "#276419"
            ]
           ],
           "sequential": [
            [
             0,
             "#0d0887"
            ],
            [
             0.1111111111111111,
             "#46039f"
            ],
            [
             0.2222222222222222,
             "#7201a8"
            ],
            [
             0.3333333333333333,
             "#9c179e"
            ],
            [
             0.4444444444444444,
             "#bd3786"
            ],
            [
             0.5555555555555556,
             "#d8576b"
            ],
            [
             0.6666666666666666,
             "#ed7953"
            ],
            [
             0.7777777777777778,
             "#fb9f3a"
            ],
            [
             0.8888888888888888,
             "#fdca26"
            ],
            [
             1,
             "#f0f921"
            ]
           ],
           "sequentialminus": [
            [
             0,
             "#0d0887"
            ],
            [
             0.1111111111111111,
             "#46039f"
            ],
            [
             0.2222222222222222,
             "#7201a8"
            ],
            [
             0.3333333333333333,
             "#9c179e"
            ],
            [
             0.4444444444444444,
             "#bd3786"
            ],
            [
             0.5555555555555556,
             "#d8576b"
            ],
            [
             0.6666666666666666,
             "#ed7953"
            ],
            [
             0.7777777777777778,
             "#fb9f3a"
            ],
            [
             0.8888888888888888,
             "#fdca26"
            ],
            [
             1,
             "#f0f921"
            ]
           ]
          },
          "colorway": [
           "#636efa",
           "#EF553B",
           "#00cc96",
           "#ab63fa",
           "#FFA15A",
           "#19d3f3",
           "#FF6692",
           "#B6E880",
           "#FF97FF",
           "#FECB52"
          ],
          "font": {
           "color": "#2a3f5f"
          },
          "geo": {
           "bgcolor": "white",
           "lakecolor": "white",
           "landcolor": "#E5ECF6",
           "showlakes": true,
           "showland": true,
           "subunitcolor": "white"
          },
          "hoverlabel": {
           "align": "left"
          },
          "hovermode": "closest",
          "mapbox": {
           "style": "light"
          },
          "paper_bgcolor": "white",
          "plot_bgcolor": "#E5ECF6",
          "polar": {
           "angularaxis": {
            "gridcolor": "white",
            "linecolor": "white",
            "ticks": ""
           },
           "bgcolor": "#E5ECF6",
           "radialaxis": {
            "gridcolor": "white",
            "linecolor": "white",
            "ticks": ""
           }
          },
          "scene": {
           "xaxis": {
            "backgroundcolor": "#E5ECF6",
            "gridcolor": "white",
            "gridwidth": 2,
            "linecolor": "white",
            "showbackground": true,
            "ticks": "",
            "zerolinecolor": "white"
           },
           "yaxis": {
            "backgroundcolor": "#E5ECF6",
            "gridcolor": "white",
            "gridwidth": 2,
            "linecolor": "white",
            "showbackground": true,
            "ticks": "",
            "zerolinecolor": "white"
           },
           "zaxis": {
            "backgroundcolor": "#E5ECF6",
            "gridcolor": "white",
            "gridwidth": 2,
            "linecolor": "white",
            "showbackground": true,
            "ticks": "",
            "zerolinecolor": "white"
           }
          },
          "shapedefaults": {
           "line": {
            "color": "#2a3f5f"
           }
          },
          "ternary": {
           "aaxis": {
            "gridcolor": "white",
            "linecolor": "white",
            "ticks": ""
           },
           "baxis": {
            "gridcolor": "white",
            "linecolor": "white",
            "ticks": ""
           },
           "bgcolor": "#E5ECF6",
           "caxis": {
            "gridcolor": "white",
            "linecolor": "white",
            "ticks": ""
           }
          },
          "title": {
           "x": 0.05
          },
          "xaxis": {
           "automargin": true,
           "gridcolor": "white",
           "linecolor": "white",
           "ticks": "",
           "title": {
            "standoff": 15
           },
           "zerolinecolor": "white",
           "zerolinewidth": 2
          },
          "yaxis": {
           "automargin": true,
           "gridcolor": "white",
           "linecolor": "white",
           "ticks": "",
           "title": {
            "standoff": 15
           },
           "zerolinecolor": "white",
           "zerolinewidth": 2
          }
         }
        },
        "xaxis": {
         "anchor": "y",
         "domain": [
          0,
          1
         ],
         "title": {
          "text": "count"
         }
        },
        "yaxis": {
         "anchor": "x",
         "categoryarray": [
          "SAJONIA ESTATE COFFEE S.A.",
          "丸山花織",
          "Roselia Yglesias",
          "Ruddy Azofeifa",
          "Rodney Murray",
          "Anderson Wong",
          "Volcafe Japan",
          "Kiichiro Iwata",
          "Sunvirtue Co., Ltd.",
          "ED&F Man Volcafe Brasil Ltda.",
          "Consejo Salvadoreño del Café",
          "Sajcha tawaytibhong",
          "Yukinobu Ueda",
          "Exportadora Atlantic, S.A.",
          "Simexco DakLak",
          "郭亮志 GuoLiangZhi",
          "Alvin La Vaughn Landry",
          "rodrigo amaya",
          "CADEXSA",
          "Dao Heuang Group",
          "Ipanema Coffees",
          "CHEN SHAN DONG 陳善東",
          "piradaPKPL",
          "MR.BROWN CAFE",
          "Wu Jhao Yun",
          "Kawacom Uganda LTD",
          "Doi Tung Development Project",
          "pablo velosa",
          "Eliud Hernandez Gonzales",
          "Yongshun",
          "Coffee Quality Institute",
          "ANDREAS KUSSMAUL",
          "Raúl Vargas",
          "Taylor Winch (Coffee) Ltd.",
          "Ikuto Uehara",
          "Descafeinadores Mexicanos S.A de C.V",
          "Kao,SIng-jay",
          "Marc Dumont",
          "Sucafina Colombia SAS",
          "Tadesse Desta",
          "黃怡瑄",
          "李晓斐 LI XIAO FEI",
          "Comercial Internacional de Granos de Honduras SA de CV",
          "Pu Han Wen",
          "rene j alcebo",
          "KUO, YA-TSUNG",
          "Joselyn Morales Quesada",
          "Rodrigo Soto",
          "Marcelo Itoh",
          "Balam Hinyula",
          "Charles Umeano",
          "Angelica Paola Citan Lopez",
          "Yesica Alejandra Martìnez Vàsquez",
          "Liu Meng Tsung劉孟宗",
          "KYAGALANYI COFFEE LIMITED",
          "Taiwu",
          "Ethan Lee 李宗儒",
          "CHEN RONG FENG",
          "Judith Murimi",
          "Hsu Ting Yey許定燁",
          "YHAENU PLC",
          "Tadessa Desta Amene",
          "Tamiru Tadesse Tesema",
          "Zhang Jin Yi 張進義",
          "Jhih Hao,GUO 郭志豪",
          "Fang, Cheng Lun 方政倫",
          "Andre Clark",
          "Christian Charmette",
          "Yu Ting Yu 游婷淯",
          "Carlos Pascual - 潘仕杰",
          "王瀅惠",
          "Dongbi",
          "PeiHsun Lin",
          "Isreal Degefa",
          "Goodfun",
          "Full Sweet Coffee",
          "ERI ASAEDA",
          "Gilbert Maina",
          "Taiwan Coffee Laboratory 台灣咖啡研究室",
          "Coffee Quality Union"
         ],
         "categoryorder": "array",
         "domain": [
          0,
          1
         ],
         "title": {
          "text": "Owner"
         }
        }
       }
      },
      "text/html": [
       "<div>                            <div id=\"a208b165-ee6e-4f5c-a75e-5d60cf4670ce\" class=\"plotly-graph-div\" style=\"height:525px; width:100%;\"></div>            <script type=\"text/javascript\">                require([\"plotly\"], function(Plotly) {                    window.PLOTLYENV=window.PLOTLYENV || {};                                    if (document.getElementById(\"a208b165-ee6e-4f5c-a75e-5d60cf4670ce\")) {                    Plotly.newPlot(                        \"a208b165-ee6e-4f5c-a75e-5d60cf4670ce\",                        [{\"alignmentgroup\":\"True\",\"bingroup\":\"y\",\"hovertemplate\":\"Owner=%{y}<br>count=%{x}<extra></extra>\",\"legendgroup\":\"Coffee Quality Union\",\"marker\":{\"color\":\"#636efa\",\"pattern\":{\"shape\":\"\"}},\"name\":\"Coffee Quality Union\",\"offsetgroup\":\"Coffee Quality Union\",\"orientation\":\"h\",\"showlegend\":true,\"xaxis\":\"x\",\"y\":[\"Coffee Quality Union\",\"Coffee Quality Union\",\"Coffee Quality Union\",\"Coffee Quality Union\",\"Coffee Quality Union\",\"Coffee Quality Union\",\"Coffee Quality Union\",\"Coffee Quality Union\",\"Coffee Quality Union\",\"Coffee Quality Union\",\"Coffee Quality Union\",\"Coffee Quality Union\",\"Coffee Quality Union\",\"Coffee Quality Union\",\"Coffee Quality Union\"],\"yaxis\":\"y\",\"type\":\"histogram\"},{\"alignmentgroup\":\"True\",\"bingroup\":\"y\",\"hovertemplate\":\"Owner=%{y}<br>count=%{x}<extra></extra>\",\"legendgroup\":\"Taiwan Coffee Laboratory \\u53f0\\u7063\\u5496\\u5561\\u7814\\u7a76\\u5ba4\",\"marker\":{\"color\":\"#EF553B\",\"pattern\":{\"shape\":\"\"}},\"name\":\"Taiwan Coffee Laboratory \\u53f0\\u7063\\u5496\\u5561\\u7814\\u7a76\\u5ba4\",\"offsetgroup\":\"Taiwan Coffee Laboratory \\u53f0\\u7063\\u5496\\u5561\\u7814\\u7a76\\u5ba4\",\"orientation\":\"h\",\"showlegend\":true,\"xaxis\":\"x\",\"y\":[\"Taiwan Coffee Laboratory \\u53f0\\u7063\\u5496\\u5561\\u7814\\u7a76\\u5ba4\",\"Taiwan Coffee Laboratory \\u53f0\\u7063\\u5496\\u5561\\u7814\\u7a76\\u5ba4\",\"Taiwan Coffee Laboratory \\u53f0\\u7063\\u5496\\u5561\\u7814\\u7a76\\u5ba4\",\"Taiwan Coffee Laboratory \\u53f0\\u7063\\u5496\\u5561\\u7814\\u7a76\\u5ba4\",\"Taiwan Coffee Laboratory \\u53f0\\u7063\\u5496\\u5561\\u7814\\u7a76\\u5ba4\",\"Taiwan Coffee Laboratory \\u53f0\\u7063\\u5496\\u5561\\u7814\\u7a76\\u5ba4\",\"Taiwan Coffee Laboratory \\u53f0\\u7063\\u5496\\u5561\\u7814\\u7a76\\u5ba4\",\"Taiwan Coffee Laboratory \\u53f0\\u7063\\u5496\\u5561\\u7814\\u7a76\\u5ba4\",\"Taiwan Coffee Laboratory \\u53f0\\u7063\\u5496\\u5561\\u7814\\u7a76\\u5ba4\",\"Taiwan Coffee Laboratory \\u53f0\\u7063\\u5496\\u5561\\u7814\\u7a76\\u5ba4\",\"Taiwan Coffee Laboratory \\u53f0\\u7063\\u5496\\u5561\\u7814\\u7a76\\u5ba4\",\"Taiwan Coffee Laboratory \\u53f0\\u7063\\u5496\\u5561\\u7814\\u7a76\\u5ba4\",\"Taiwan Coffee Laboratory \\u53f0\\u7063\\u5496\\u5561\\u7814\\u7a76\\u5ba4\",\"Taiwan Coffee Laboratory \\u53f0\\u7063\\u5496\\u5561\\u7814\\u7a76\\u5ba4\",\"Taiwan Coffee Laboratory \\u53f0\\u7063\\u5496\\u5561\\u7814\\u7a76\\u5ba4\",\"Taiwan Coffee Laboratory \\u53f0\\u7063\\u5496\\u5561\\u7814\\u7a76\\u5ba4\",\"Taiwan Coffee Laboratory \\u53f0\\u7063\\u5496\\u5561\\u7814\\u7a76\\u5ba4\",\"Taiwan Coffee Laboratory \\u53f0\\u7063\\u5496\\u5561\\u7814\\u7a76\\u5ba4\",\"Taiwan Coffee Laboratory \\u53f0\\u7063\\u5496\\u5561\\u7814\\u7a76\\u5ba4\",\"Taiwan Coffee Laboratory \\u53f0\\u7063\\u5496\\u5561\\u7814\\u7a76\\u5ba4\",\"Taiwan Coffee Laboratory \\u53f0\\u7063\\u5496\\u5561\\u7814\\u7a76\\u5ba4\",\"Taiwan Coffee Laboratory \\u53f0\\u7063\\u5496\\u5561\\u7814\\u7a76\\u5ba4\",\"Taiwan Coffee Laboratory \\u53f0\\u7063\\u5496\\u5561\\u7814\\u7a76\\u5ba4\",\"Taiwan Coffee Laboratory \\u53f0\\u7063\\u5496\\u5561\\u7814\\u7a76\\u5ba4\",\"Taiwan Coffee Laboratory \\u53f0\\u7063\\u5496\\u5561\\u7814\\u7a76\\u5ba4\",\"Taiwan Coffee Laboratory \\u53f0\\u7063\\u5496\\u5561\\u7814\\u7a76\\u5ba4\",\"Taiwan Coffee Laboratory \\u53f0\\u7063\\u5496\\u5561\\u7814\\u7a76\\u5ba4\",\"Taiwan Coffee Laboratory \\u53f0\\u7063\\u5496\\u5561\\u7814\\u7a76\\u5ba4\",\"Taiwan Coffee Laboratory \\u53f0\\u7063\\u5496\\u5561\\u7814\\u7a76\\u5ba4\",\"Taiwan Coffee Laboratory \\u53f0\\u7063\\u5496\\u5561\\u7814\\u7a76\\u5ba4\"],\"yaxis\":\"y\",\"type\":\"histogram\"},{\"alignmentgroup\":\"True\",\"bingroup\":\"y\",\"hovertemplate\":\"Owner=%{y}<br>count=%{x}<extra></extra>\",\"legendgroup\":\"Gilbert Maina\",\"marker\":{\"color\":\"#00cc96\",\"pattern\":{\"shape\":\"\"}},\"name\":\"Gilbert Maina\",\"offsetgroup\":\"Gilbert Maina\",\"orientation\":\"h\",\"showlegend\":true,\"xaxis\":\"x\",\"y\":[\"Gilbert Maina\",\"Gilbert Maina\",\"Gilbert Maina\",\"Gilbert Maina\",\"Gilbert Maina\"],\"yaxis\":\"y\",\"type\":\"histogram\"},{\"alignmentgroup\":\"True\",\"bingroup\":\"y\",\"hovertemplate\":\"Owner=%{y}<br>count=%{x}<extra></extra>\",\"legendgroup\":\"ERI ASAEDA\",\"marker\":{\"color\":\"#ab63fa\",\"pattern\":{\"shape\":\"\"}},\"name\":\"ERI ASAEDA\",\"offsetgroup\":\"ERI ASAEDA\",\"orientation\":\"h\",\"showlegend\":true,\"xaxis\":\"x\",\"y\":[\"ERI ASAEDA\"],\"yaxis\":\"y\",\"type\":\"histogram\"},{\"alignmentgroup\":\"True\",\"bingroup\":\"y\",\"hovertemplate\":\"Owner=%{y}<br>count=%{x}<extra></extra>\",\"legendgroup\":\"Full Sweet Coffee\",\"marker\":{\"color\":\"#FFA15A\",\"pattern\":{\"shape\":\"\"}},\"name\":\"Full Sweet Coffee\",\"offsetgroup\":\"Full Sweet Coffee\",\"orientation\":\"h\",\"showlegend\":true,\"xaxis\":\"x\",\"y\":[\"Full Sweet Coffee\",\"Full Sweet Coffee\",\"Full Sweet Coffee\"],\"yaxis\":\"y\",\"type\":\"histogram\"},{\"alignmentgroup\":\"True\",\"bingroup\":\"y\",\"hovertemplate\":\"Owner=%{y}<br>count=%{x}<extra></extra>\",\"legendgroup\":\"Goodfun\",\"marker\":{\"color\":\"#19d3f3\",\"pattern\":{\"shape\":\"\"}},\"name\":\"Goodfun\",\"offsetgroup\":\"Goodfun\",\"orientation\":\"h\",\"showlegend\":true,\"xaxis\":\"x\",\"y\":[\"Goodfun\"],\"yaxis\":\"y\",\"type\":\"histogram\"},{\"alignmentgroup\":\"True\",\"bingroup\":\"y\",\"hovertemplate\":\"Owner=%{y}<br>count=%{x}<extra></extra>\",\"legendgroup\":\"Isreal Degefa\",\"marker\":{\"color\":\"#FF6692\",\"pattern\":{\"shape\":\"\"}},\"name\":\"Isreal Degefa\",\"offsetgroup\":\"Isreal Degefa\",\"orientation\":\"h\",\"showlegend\":true,\"xaxis\":\"x\",\"y\":[\"Isreal Degefa\"],\"yaxis\":\"y\",\"type\":\"histogram\"},{\"alignmentgroup\":\"True\",\"bingroup\":\"y\",\"hovertemplate\":\"Owner=%{y}<br>count=%{x}<extra></extra>\",\"legendgroup\":\"PeiHsun Lin\",\"marker\":{\"color\":\"#B6E880\",\"pattern\":{\"shape\":\"\"}},\"name\":\"PeiHsun Lin\",\"offsetgroup\":\"PeiHsun Lin\",\"orientation\":\"h\",\"showlegend\":true,\"xaxis\":\"x\",\"y\":[\"PeiHsun Lin\",\"PeiHsun Lin\",\"PeiHsun Lin\"],\"yaxis\":\"y\",\"type\":\"histogram\"},{\"alignmentgroup\":\"True\",\"bingroup\":\"y\",\"hovertemplate\":\"Owner=%{y}<br>count=%{x}<extra></extra>\",\"legendgroup\":\"Dongbi\",\"marker\":{\"color\":\"#FF97FF\",\"pattern\":{\"shape\":\"\"}},\"name\":\"Dongbi\",\"offsetgroup\":\"Dongbi\",\"orientation\":\"h\",\"showlegend\":true,\"xaxis\":\"x\",\"y\":[\"Dongbi\"],\"yaxis\":\"y\",\"type\":\"histogram\"},{\"alignmentgroup\":\"True\",\"bingroup\":\"y\",\"hovertemplate\":\"Owner=%{y}<br>count=%{x}<extra></extra>\",\"legendgroup\":\"\\u738b\\u7005\\u60e0\",\"marker\":{\"color\":\"#FECB52\",\"pattern\":{\"shape\":\"\"}},\"name\":\"\\u738b\\u7005\\u60e0\",\"offsetgroup\":\"\\u738b\\u7005\\u60e0\",\"orientation\":\"h\",\"showlegend\":true,\"xaxis\":\"x\",\"y\":[\"\\u738b\\u7005\\u60e0\"],\"yaxis\":\"y\",\"type\":\"histogram\"},{\"alignmentgroup\":\"True\",\"bingroup\":\"y\",\"hovertemplate\":\"Owner=%{y}<br>count=%{x}<extra></extra>\",\"legendgroup\":\"Carlos Pascual - \\u6f58\\u4ed5\\u6770\",\"marker\":{\"color\":\"#636efa\",\"pattern\":{\"shape\":\"\"}},\"name\":\"Carlos Pascual - \\u6f58\\u4ed5\\u6770\",\"offsetgroup\":\"Carlos Pascual - \\u6f58\\u4ed5\\u6770\",\"orientation\":\"h\",\"showlegend\":true,\"xaxis\":\"x\",\"y\":[\"Carlos Pascual - \\u6f58\\u4ed5\\u6770\"],\"yaxis\":\"y\",\"type\":\"histogram\"},{\"alignmentgroup\":\"True\",\"bingroup\":\"y\",\"hovertemplate\":\"Owner=%{y}<br>count=%{x}<extra></extra>\",\"legendgroup\":\"Yu Ting Yu \\u6e38\\u5a77\\u6def\",\"marker\":{\"color\":\"#EF553B\",\"pattern\":{\"shape\":\"\"}},\"name\":\"Yu Ting Yu \\u6e38\\u5a77\\u6def\",\"offsetgroup\":\"Yu Ting Yu \\u6e38\\u5a77\\u6def\",\"orientation\":\"h\",\"showlegend\":true,\"xaxis\":\"x\",\"y\":[\"Yu Ting Yu \\u6e38\\u5a77\\u6def\"],\"yaxis\":\"y\",\"type\":\"histogram\"},{\"alignmentgroup\":\"True\",\"bingroup\":\"y\",\"hovertemplate\":\"Owner=%{y}<br>count=%{x}<extra></extra>\",\"legendgroup\":\"Christian Charmette\",\"marker\":{\"color\":\"#00cc96\",\"pattern\":{\"shape\":\"\"}},\"name\":\"Christian Charmette\",\"offsetgroup\":\"Christian Charmette\",\"orientation\":\"h\",\"showlegend\":true,\"xaxis\":\"x\",\"y\":[\"Christian Charmette\"],\"yaxis\":\"y\",\"type\":\"histogram\"},{\"alignmentgroup\":\"True\",\"bingroup\":\"y\",\"hovertemplate\":\"Owner=%{y}<br>count=%{x}<extra></extra>\",\"legendgroup\":\"Andre Clark\",\"marker\":{\"color\":\"#ab63fa\",\"pattern\":{\"shape\":\"\"}},\"name\":\"Andre Clark\",\"offsetgroup\":\"Andre Clark\",\"orientation\":\"h\",\"showlegend\":true,\"xaxis\":\"x\",\"y\":[\"Andre Clark\"],\"yaxis\":\"y\",\"type\":\"histogram\"},{\"alignmentgroup\":\"True\",\"bingroup\":\"y\",\"hovertemplate\":\"Owner=%{y}<br>count=%{x}<extra></extra>\",\"legendgroup\":\"Fang, Cheng Lun \\u65b9\\u653f\\u502b\",\"marker\":{\"color\":\"#FFA15A\",\"pattern\":{\"shape\":\"\"}},\"name\":\"Fang, Cheng Lun \\u65b9\\u653f\\u502b\",\"offsetgroup\":\"Fang, Cheng Lun \\u65b9\\u653f\\u502b\",\"orientation\":\"h\",\"showlegend\":true,\"xaxis\":\"x\",\"y\":[\"Fang, Cheng Lun \\u65b9\\u653f\\u502b\"],\"yaxis\":\"y\",\"type\":\"histogram\"},{\"alignmentgroup\":\"True\",\"bingroup\":\"y\",\"hovertemplate\":\"Owner=%{y}<br>count=%{x}<extra></extra>\",\"legendgroup\":\"Jhih Hao,GUO \\u90ed\\u5fd7\\u8c6a\",\"marker\":{\"color\":\"#19d3f3\",\"pattern\":{\"shape\":\"\"}},\"name\":\"Jhih Hao,GUO \\u90ed\\u5fd7\\u8c6a\",\"offsetgroup\":\"Jhih Hao,GUO \\u90ed\\u5fd7\\u8c6a\",\"orientation\":\"h\",\"showlegend\":true,\"xaxis\":\"x\",\"y\":[\"Jhih Hao,GUO \\u90ed\\u5fd7\\u8c6a\"],\"yaxis\":\"y\",\"type\":\"histogram\"},{\"alignmentgroup\":\"True\",\"bingroup\":\"y\",\"hovertemplate\":\"Owner=%{y}<br>count=%{x}<extra></extra>\",\"legendgroup\":\"Zhang Jin Yi \\u5f35\\u9032\\u7fa9\",\"marker\":{\"color\":\"#FF6692\",\"pattern\":{\"shape\":\"\"}},\"name\":\"Zhang Jin Yi \\u5f35\\u9032\\u7fa9\",\"offsetgroup\":\"Zhang Jin Yi \\u5f35\\u9032\\u7fa9\",\"orientation\":\"h\",\"showlegend\":true,\"xaxis\":\"x\",\"y\":[\"Zhang Jin Yi \\u5f35\\u9032\\u7fa9\",\"Zhang Jin Yi \\u5f35\\u9032\\u7fa9\"],\"yaxis\":\"y\",\"type\":\"histogram\"},{\"alignmentgroup\":\"True\",\"bingroup\":\"y\",\"hovertemplate\":\"Owner=%{y}<br>count=%{x}<extra></extra>\",\"legendgroup\":\"Tamiru Tadesse Tesema\",\"marker\":{\"color\":\"#B6E880\",\"pattern\":{\"shape\":\"\"}},\"name\":\"Tamiru Tadesse Tesema\",\"offsetgroup\":\"Tamiru Tadesse Tesema\",\"orientation\":\"h\",\"showlegend\":true,\"xaxis\":\"x\",\"y\":[\"Tamiru Tadesse Tesema\"],\"yaxis\":\"y\",\"type\":\"histogram\"},{\"alignmentgroup\":\"True\",\"bingroup\":\"y\",\"hovertemplate\":\"Owner=%{y}<br>count=%{x}<extra></extra>\",\"legendgroup\":\"Tadessa Desta Amene\",\"marker\":{\"color\":\"#FF97FF\",\"pattern\":{\"shape\":\"\"}},\"name\":\"Tadessa Desta Amene\",\"offsetgroup\":\"Tadessa Desta Amene\",\"orientation\":\"h\",\"showlegend\":true,\"xaxis\":\"x\",\"y\":[\"Tadessa Desta Amene\"],\"yaxis\":\"y\",\"type\":\"histogram\"},{\"alignmentgroup\":\"True\",\"bingroup\":\"y\",\"hovertemplate\":\"Owner=%{y}<br>count=%{x}<extra></extra>\",\"legendgroup\":\"YHAENU PLC\",\"marker\":{\"color\":\"#FECB52\",\"pattern\":{\"shape\":\"\"}},\"name\":\"YHAENU PLC\",\"offsetgroup\":\"YHAENU PLC\",\"orientation\":\"h\",\"showlegend\":true,\"xaxis\":\"x\",\"y\":[\"YHAENU PLC\",\"YHAENU PLC\"],\"yaxis\":\"y\",\"type\":\"histogram\"},{\"alignmentgroup\":\"True\",\"bingroup\":\"y\",\"hovertemplate\":\"Owner=%{y}<br>count=%{x}<extra></extra>\",\"legendgroup\":\"Hsu Ting Yey\\u8a31\\u5b9a\\u71c1\",\"marker\":{\"color\":\"#636efa\",\"pattern\":{\"shape\":\"\"}},\"name\":\"Hsu Ting Yey\\u8a31\\u5b9a\\u71c1\",\"offsetgroup\":\"Hsu Ting Yey\\u8a31\\u5b9a\\u71c1\",\"orientation\":\"h\",\"showlegend\":true,\"xaxis\":\"x\",\"y\":[\"Hsu Ting Yey\\u8a31\\u5b9a\\u71c1\"],\"yaxis\":\"y\",\"type\":\"histogram\"},{\"alignmentgroup\":\"True\",\"bingroup\":\"y\",\"hovertemplate\":\"Owner=%{y}<br>count=%{x}<extra></extra>\",\"legendgroup\":\"Judith Murimi\",\"marker\":{\"color\":\"#EF553B\",\"pattern\":{\"shape\":\"\"}},\"name\":\"Judith Murimi\",\"offsetgroup\":\"Judith Murimi\",\"orientation\":\"h\",\"showlegend\":true,\"xaxis\":\"x\",\"y\":[\"Judith Murimi\"],\"yaxis\":\"y\",\"type\":\"histogram\"},{\"alignmentgroup\":\"True\",\"bingroup\":\"y\",\"hovertemplate\":\"Owner=%{y}<br>count=%{x}<extra></extra>\",\"legendgroup\":\"CHEN RONG FENG\",\"marker\":{\"color\":\"#00cc96\",\"pattern\":{\"shape\":\"\"}},\"name\":\"CHEN RONG FENG\",\"offsetgroup\":\"CHEN RONG FENG\",\"orientation\":\"h\",\"showlegend\":true,\"xaxis\":\"x\",\"y\":[\"CHEN RONG FENG\"],\"yaxis\":\"y\",\"type\":\"histogram\"},{\"alignmentgroup\":\"True\",\"bingroup\":\"y\",\"hovertemplate\":\"Owner=%{y}<br>count=%{x}<extra></extra>\",\"legendgroup\":\"Ethan Lee \\u674e\\u5b97\\u5112\",\"marker\":{\"color\":\"#ab63fa\",\"pattern\":{\"shape\":\"\"}},\"name\":\"Ethan Lee \\u674e\\u5b97\\u5112\",\"offsetgroup\":\"Ethan Lee \\u674e\\u5b97\\u5112\",\"orientation\":\"h\",\"showlegend\":true,\"xaxis\":\"x\",\"y\":[\"Ethan Lee \\u674e\\u5b97\\u5112\",\"Ethan Lee \\u674e\\u5b97\\u5112\"],\"yaxis\":\"y\",\"type\":\"histogram\"},{\"alignmentgroup\":\"True\",\"bingroup\":\"y\",\"hovertemplate\":\"Owner=%{y}<br>count=%{x}<extra></extra>\",\"legendgroup\":\"Taiwu\",\"marker\":{\"color\":\"#FFA15A\",\"pattern\":{\"shape\":\"\"}},\"name\":\"Taiwu\",\"offsetgroup\":\"Taiwu\",\"orientation\":\"h\",\"showlegend\":true,\"xaxis\":\"x\",\"y\":[\"Taiwu\",\"Taiwu\",\"Taiwu\",\"Taiwu\",\"Taiwu\",\"Taiwu\",\"Taiwu\",\"Taiwu\",\"Taiwu\",\"Taiwu\",\"Taiwu\",\"Taiwu\",\"Taiwu\",\"Taiwu\",\"Taiwu\",\"Taiwu\",\"Taiwu\",\"Taiwu\",\"Taiwu\",\"Taiwu\",\"Taiwu\",\"Taiwu\",\"Taiwu\",\"Taiwu\",\"Taiwu\"],\"yaxis\":\"y\",\"type\":\"histogram\"},{\"alignmentgroup\":\"True\",\"bingroup\":\"y\",\"hovertemplate\":\"Owner=%{y}<br>count=%{x}<extra></extra>\",\"legendgroup\":\"KYAGALANYI COFFEE LIMITED\",\"marker\":{\"color\":\"#19d3f3\",\"pattern\":{\"shape\":\"\"}},\"name\":\"KYAGALANYI COFFEE LIMITED\",\"offsetgroup\":\"KYAGALANYI COFFEE LIMITED\",\"orientation\":\"h\",\"showlegend\":true,\"xaxis\":\"x\",\"y\":[\"KYAGALANYI COFFEE LIMITED\",\"KYAGALANYI COFFEE LIMITED\"],\"yaxis\":\"y\",\"type\":\"histogram\"},{\"alignmentgroup\":\"True\",\"bingroup\":\"y\",\"hovertemplate\":\"Owner=%{y}<br>count=%{x}<extra></extra>\",\"legendgroup\":\"Liu Meng Tsung\\u5289\\u5b5f\\u5b97\",\"marker\":{\"color\":\"#FF6692\",\"pattern\":{\"shape\":\"\"}},\"name\":\"Liu Meng Tsung\\u5289\\u5b5f\\u5b97\",\"offsetgroup\":\"Liu Meng Tsung\\u5289\\u5b5f\\u5b97\",\"orientation\":\"h\",\"showlegend\":true,\"xaxis\":\"x\",\"y\":[\"Liu Meng Tsung\\u5289\\u5b5f\\u5b97\"],\"yaxis\":\"y\",\"type\":\"histogram\"},{\"alignmentgroup\":\"True\",\"bingroup\":\"y\",\"hovertemplate\":\"Owner=%{y}<br>count=%{x}<extra></extra>\",\"legendgroup\":\"Yesica Alejandra Mart\\u00ecnez V\\u00e0squez\",\"marker\":{\"color\":\"#B6E880\",\"pattern\":{\"shape\":\"\"}},\"name\":\"Yesica Alejandra Mart\\u00ecnez V\\u00e0squez\",\"offsetgroup\":\"Yesica Alejandra Mart\\u00ecnez V\\u00e0squez\",\"orientation\":\"h\",\"showlegend\":true,\"xaxis\":\"x\",\"y\":[\"Yesica Alejandra Mart\\u00ecnez V\\u00e0squez\",\"Yesica Alejandra Mart\\u00ecnez V\\u00e0squez\",\"Yesica Alejandra Mart\\u00ecnez V\\u00e0squez\",\"Yesica Alejandra Mart\\u00ecnez V\\u00e0squez\",\"Yesica Alejandra Mart\\u00ecnez V\\u00e0squez\",\"Yesica Alejandra Mart\\u00ecnez V\\u00e0squez\",\"Yesica Alejandra Mart\\u00ecnez V\\u00e0squez\",\"Yesica Alejandra Mart\\u00ecnez V\\u00e0squez\"],\"yaxis\":\"y\",\"type\":\"histogram\"},{\"alignmentgroup\":\"True\",\"bingroup\":\"y\",\"hovertemplate\":\"Owner=%{y}<br>count=%{x}<extra></extra>\",\"legendgroup\":\"Angelica Paola Citan Lopez\",\"marker\":{\"color\":\"#FF97FF\",\"pattern\":{\"shape\":\"\"}},\"name\":\"Angelica Paola Citan Lopez\",\"offsetgroup\":\"Angelica Paola Citan Lopez\",\"orientation\":\"h\",\"showlegend\":true,\"xaxis\":\"x\",\"y\":[\"Angelica Paola Citan Lopez\",\"Angelica Paola Citan Lopez\",\"Angelica Paola Citan Lopez\",\"Angelica Paola Citan Lopez\",\"Angelica Paola Citan Lopez\",\"Angelica Paola Citan Lopez\"],\"yaxis\":\"y\",\"type\":\"histogram\"},{\"alignmentgroup\":\"True\",\"bingroup\":\"y\",\"hovertemplate\":\"Owner=%{y}<br>count=%{x}<extra></extra>\",\"legendgroup\":\"Charles Umeano\",\"marker\":{\"color\":\"#FECB52\",\"pattern\":{\"shape\":\"\"}},\"name\":\"Charles Umeano\",\"offsetgroup\":\"Charles Umeano\",\"orientation\":\"h\",\"showlegend\":true,\"xaxis\":\"x\",\"y\":[\"Charles Umeano\",\"Charles Umeano\",\"Charles Umeano\"],\"yaxis\":\"y\",\"type\":\"histogram\"},{\"alignmentgroup\":\"True\",\"bingroup\":\"y\",\"hovertemplate\":\"Owner=%{y}<br>count=%{x}<extra></extra>\",\"legendgroup\":\"Balam Hinyula\",\"marker\":{\"color\":\"#636efa\",\"pattern\":{\"shape\":\"\"}},\"name\":\"Balam Hinyula\",\"offsetgroup\":\"Balam Hinyula\",\"orientation\":\"h\",\"showlegend\":true,\"xaxis\":\"x\",\"y\":[\"Balam Hinyula\"],\"yaxis\":\"y\",\"type\":\"histogram\"},{\"alignmentgroup\":\"True\",\"bingroup\":\"y\",\"hovertemplate\":\"Owner=%{y}<br>count=%{x}<extra></extra>\",\"legendgroup\":\"Marcelo Itoh\",\"marker\":{\"color\":\"#EF553B\",\"pattern\":{\"shape\":\"\"}},\"name\":\"Marcelo Itoh\",\"offsetgroup\":\"Marcelo Itoh\",\"orientation\":\"h\",\"showlegend\":true,\"xaxis\":\"x\",\"y\":[\"Marcelo Itoh\"],\"yaxis\":\"y\",\"type\":\"histogram\"},{\"alignmentgroup\":\"True\",\"bingroup\":\"y\",\"hovertemplate\":\"Owner=%{y}<br>count=%{x}<extra></extra>\",\"legendgroup\":\"Rodrigo Soto\",\"marker\":{\"color\":\"#00cc96\",\"pattern\":{\"shape\":\"\"}},\"name\":\"Rodrigo Soto\",\"offsetgroup\":\"Rodrigo Soto\",\"orientation\":\"h\",\"showlegend\":true,\"xaxis\":\"x\",\"y\":[\"Rodrigo Soto\",\"Rodrigo Soto\"],\"yaxis\":\"y\",\"type\":\"histogram\"},{\"alignmentgroup\":\"True\",\"bingroup\":\"y\",\"hovertemplate\":\"Owner=%{y}<br>count=%{x}<extra></extra>\",\"legendgroup\":\"Joselyn Morales Quesada\",\"marker\":{\"color\":\"#ab63fa\",\"pattern\":{\"shape\":\"\"}},\"name\":\"Joselyn Morales Quesada\",\"offsetgroup\":\"Joselyn Morales Quesada\",\"orientation\":\"h\",\"showlegend\":true,\"xaxis\":\"x\",\"y\":[\"Joselyn Morales Quesada\",\"Joselyn Morales Quesada\",\"Joselyn Morales Quesada\"],\"yaxis\":\"y\",\"type\":\"histogram\"},{\"alignmentgroup\":\"True\",\"bingroup\":\"y\",\"hovertemplate\":\"Owner=%{y}<br>count=%{x}<extra></extra>\",\"legendgroup\":\"KUO, YA-TSUNG\",\"marker\":{\"color\":\"#FFA15A\",\"pattern\":{\"shape\":\"\"}},\"name\":\"KUO, YA-TSUNG\",\"offsetgroup\":\"KUO, YA-TSUNG\",\"orientation\":\"h\",\"showlegend\":true,\"xaxis\":\"x\",\"y\":[\"KUO, YA-TSUNG\"],\"yaxis\":\"y\",\"type\":\"histogram\"},{\"alignmentgroup\":\"True\",\"bingroup\":\"y\",\"hovertemplate\":\"Owner=%{y}<br>count=%{x}<extra></extra>\",\"legendgroup\":\"rene j alcebo\",\"marker\":{\"color\":\"#19d3f3\",\"pattern\":{\"shape\":\"\"}},\"name\":\"rene j alcebo\",\"offsetgroup\":\"rene j alcebo\",\"orientation\":\"h\",\"showlegend\":true,\"xaxis\":\"x\",\"y\":[\"rene j alcebo\",\"rene j alcebo\"],\"yaxis\":\"y\",\"type\":\"histogram\"},{\"alignmentgroup\":\"True\",\"bingroup\":\"y\",\"hovertemplate\":\"Owner=%{y}<br>count=%{x}<extra></extra>\",\"legendgroup\":\"Pu Han Wen\",\"marker\":{\"color\":\"#FF6692\",\"pattern\":{\"shape\":\"\"}},\"name\":\"Pu Han Wen\",\"offsetgroup\":\"Pu Han Wen\",\"orientation\":\"h\",\"showlegend\":true,\"xaxis\":\"x\",\"y\":[\"Pu Han Wen\"],\"yaxis\":\"y\",\"type\":\"histogram\"},{\"alignmentgroup\":\"True\",\"bingroup\":\"y\",\"hovertemplate\":\"Owner=%{y}<br>count=%{x}<extra></extra>\",\"legendgroup\":\"Comercial Internacional de Granos de Honduras SA de CV\",\"marker\":{\"color\":\"#B6E880\",\"pattern\":{\"shape\":\"\"}},\"name\":\"Comercial Internacional de Granos de Honduras SA de CV\",\"offsetgroup\":\"Comercial Internacional de Granos de Honduras SA de CV\",\"orientation\":\"h\",\"showlegend\":true,\"xaxis\":\"x\",\"y\":[\"Comercial Internacional de Granos de Honduras SA de CV\",\"Comercial Internacional de Granos de Honduras SA de CV\",\"Comercial Internacional de Granos de Honduras SA de CV\",\"Comercial Internacional de Granos de Honduras SA de CV\",\"Comercial Internacional de Granos de Honduras SA de CV\"],\"yaxis\":\"y\",\"type\":\"histogram\"},{\"alignmentgroup\":\"True\",\"bingroup\":\"y\",\"hovertemplate\":\"Owner=%{y}<br>count=%{x}<extra></extra>\",\"legendgroup\":\"\\u674e\\u6653\\u6590 LI XIAO FEI\",\"marker\":{\"color\":\"#FF97FF\",\"pattern\":{\"shape\":\"\"}},\"name\":\"\\u674e\\u6653\\u6590 LI XIAO FEI\",\"offsetgroup\":\"\\u674e\\u6653\\u6590 LI XIAO FEI\",\"orientation\":\"h\",\"showlegend\":true,\"xaxis\":\"x\",\"y\":[\"\\u674e\\u6653\\u6590 LI XIAO FEI\"],\"yaxis\":\"y\",\"type\":\"histogram\"},{\"alignmentgroup\":\"True\",\"bingroup\":\"y\",\"hovertemplate\":\"Owner=%{y}<br>count=%{x}<extra></extra>\",\"legendgroup\":\"\\u9ec3\\u6021\\u7444\",\"marker\":{\"color\":\"#FECB52\",\"pattern\":{\"shape\":\"\"}},\"name\":\"\\u9ec3\\u6021\\u7444\",\"offsetgroup\":\"\\u9ec3\\u6021\\u7444\",\"orientation\":\"h\",\"showlegend\":true,\"xaxis\":\"x\",\"y\":[\"\\u9ec3\\u6021\\u7444\"],\"yaxis\":\"y\",\"type\":\"histogram\"},{\"alignmentgroup\":\"True\",\"bingroup\":\"y\",\"hovertemplate\":\"Owner=%{y}<br>count=%{x}<extra></extra>\",\"legendgroup\":\"Tadesse Desta\",\"marker\":{\"color\":\"#636efa\",\"pattern\":{\"shape\":\"\"}},\"name\":\"Tadesse Desta\",\"offsetgroup\":\"Tadesse Desta\",\"orientation\":\"h\",\"showlegend\":true,\"xaxis\":\"x\",\"y\":[\"Tadesse Desta\"],\"yaxis\":\"y\",\"type\":\"histogram\"},{\"alignmentgroup\":\"True\",\"bingroup\":\"y\",\"hovertemplate\":\"Owner=%{y}<br>count=%{x}<extra></extra>\",\"legendgroup\":\"Sucafina Colombia SAS\",\"marker\":{\"color\":\"#EF553B\",\"pattern\":{\"shape\":\"\"}},\"name\":\"Sucafina Colombia SAS\",\"offsetgroup\":\"Sucafina Colombia SAS\",\"orientation\":\"h\",\"showlegend\":true,\"xaxis\":\"x\",\"y\":[\"Sucafina Colombia SAS\"],\"yaxis\":\"y\",\"type\":\"histogram\"},{\"alignmentgroup\":\"True\",\"bingroup\":\"y\",\"hovertemplate\":\"Owner=%{y}<br>count=%{x}<extra></extra>\",\"legendgroup\":\"Marc Dumont\",\"marker\":{\"color\":\"#00cc96\",\"pattern\":{\"shape\":\"\"}},\"name\":\"Marc Dumont\",\"offsetgroup\":\"Marc Dumont\",\"orientation\":\"h\",\"showlegend\":true,\"xaxis\":\"x\",\"y\":[\"Marc Dumont\"],\"yaxis\":\"y\",\"type\":\"histogram\"},{\"alignmentgroup\":\"True\",\"bingroup\":\"y\",\"hovertemplate\":\"Owner=%{y}<br>count=%{x}<extra></extra>\",\"legendgroup\":\"Kao,SIng-jay\",\"marker\":{\"color\":\"#ab63fa\",\"pattern\":{\"shape\":\"\"}},\"name\":\"Kao,SIng-jay\",\"offsetgroup\":\"Kao,SIng-jay\",\"orientation\":\"h\",\"showlegend\":true,\"xaxis\":\"x\",\"y\":[\"Kao,SIng-jay\"],\"yaxis\":\"y\",\"type\":\"histogram\"},{\"alignmentgroup\":\"True\",\"bingroup\":\"y\",\"hovertemplate\":\"Owner=%{y}<br>count=%{x}<extra></extra>\",\"legendgroup\":\"Descafeinadores Mexicanos S.A de C.V\",\"marker\":{\"color\":\"#FFA15A\",\"pattern\":{\"shape\":\"\"}},\"name\":\"Descafeinadores Mexicanos S.A de C.V\",\"offsetgroup\":\"Descafeinadores Mexicanos S.A de C.V\",\"orientation\":\"h\",\"showlegend\":true,\"xaxis\":\"x\",\"y\":[\"Descafeinadores Mexicanos S.A de C.V\",\"Descafeinadores Mexicanos S.A de C.V\"],\"yaxis\":\"y\",\"type\":\"histogram\"},{\"alignmentgroup\":\"True\",\"bingroup\":\"y\",\"hovertemplate\":\"Owner=%{y}<br>count=%{x}<extra></extra>\",\"legendgroup\":\"Ikuto Uehara\",\"marker\":{\"color\":\"#19d3f3\",\"pattern\":{\"shape\":\"\"}},\"name\":\"Ikuto Uehara\",\"offsetgroup\":\"Ikuto Uehara\",\"orientation\":\"h\",\"showlegend\":true,\"xaxis\":\"x\",\"y\":[\"Ikuto Uehara\",\"Ikuto Uehara\",\"Ikuto Uehara\",\"Ikuto Uehara\",\"Ikuto Uehara\"],\"yaxis\":\"y\",\"type\":\"histogram\"},{\"alignmentgroup\":\"True\",\"bingroup\":\"y\",\"hovertemplate\":\"Owner=%{y}<br>count=%{x}<extra></extra>\",\"legendgroup\":\"Taylor Winch (Coffee) Ltd.\",\"marker\":{\"color\":\"#FF6692\",\"pattern\":{\"shape\":\"\"}},\"name\":\"Taylor Winch (Coffee) Ltd.\",\"offsetgroup\":\"Taylor Winch (Coffee) Ltd.\",\"orientation\":\"h\",\"showlegend\":true,\"xaxis\":\"x\",\"y\":[\"Taylor Winch (Coffee) Ltd.\"],\"yaxis\":\"y\",\"type\":\"histogram\"},{\"alignmentgroup\":\"True\",\"bingroup\":\"y\",\"hovertemplate\":\"Owner=%{y}<br>count=%{x}<extra></extra>\",\"legendgroup\":\"Ra\\u00fal Vargas\",\"marker\":{\"color\":\"#B6E880\",\"pattern\":{\"shape\":\"\"}},\"name\":\"Ra\\u00fal Vargas\",\"offsetgroup\":\"Ra\\u00fal Vargas\",\"orientation\":\"h\",\"showlegend\":true,\"xaxis\":\"x\",\"y\":[\"Ra\\u00fal Vargas\"],\"yaxis\":\"y\",\"type\":\"histogram\"},{\"alignmentgroup\":\"True\",\"bingroup\":\"y\",\"hovertemplate\":\"Owner=%{y}<br>count=%{x}<extra></extra>\",\"legendgroup\":\"ANDREAS KUSSMAUL\",\"marker\":{\"color\":\"#FF97FF\",\"pattern\":{\"shape\":\"\"}},\"name\":\"ANDREAS KUSSMAUL\",\"offsetgroup\":\"ANDREAS KUSSMAUL\",\"orientation\":\"h\",\"showlegend\":true,\"xaxis\":\"x\",\"y\":[\"ANDREAS KUSSMAUL\"],\"yaxis\":\"y\",\"type\":\"histogram\"},{\"alignmentgroup\":\"True\",\"bingroup\":\"y\",\"hovertemplate\":\"Owner=%{y}<br>count=%{x}<extra></extra>\",\"legendgroup\":\"Coffee Quality Institute\",\"marker\":{\"color\":\"#FECB52\",\"pattern\":{\"shape\":\"\"}},\"name\":\"Coffee Quality Institute\",\"offsetgroup\":\"Coffee Quality Institute\",\"orientation\":\"h\",\"showlegend\":true,\"xaxis\":\"x\",\"y\":[\"Coffee Quality Institute\"],\"yaxis\":\"y\",\"type\":\"histogram\"},{\"alignmentgroup\":\"True\",\"bingroup\":\"y\",\"hovertemplate\":\"Owner=%{y}<br>count=%{x}<extra></extra>\",\"legendgroup\":\"Yongshun\",\"marker\":{\"color\":\"#636efa\",\"pattern\":{\"shape\":\"\"}},\"name\":\"Yongshun\",\"offsetgroup\":\"Yongshun\",\"orientation\":\"h\",\"showlegend\":true,\"xaxis\":\"x\",\"y\":[\"Yongshun\"],\"yaxis\":\"y\",\"type\":\"histogram\"},{\"alignmentgroup\":\"True\",\"bingroup\":\"y\",\"hovertemplate\":\"Owner=%{y}<br>count=%{x}<extra></extra>\",\"legendgroup\":\"Eliud Hernandez Gonzales\",\"marker\":{\"color\":\"#EF553B\",\"pattern\":{\"shape\":\"\"}},\"name\":\"Eliud Hernandez Gonzales\",\"offsetgroup\":\"Eliud Hernandez Gonzales\",\"orientation\":\"h\",\"showlegend\":true,\"xaxis\":\"x\",\"y\":[\"Eliud Hernandez Gonzales\",\"Eliud Hernandez Gonzales\",\"Eliud Hernandez Gonzales\"],\"yaxis\":\"y\",\"type\":\"histogram\"},{\"alignmentgroup\":\"True\",\"bingroup\":\"y\",\"hovertemplate\":\"Owner=%{y}<br>count=%{x}<extra></extra>\",\"legendgroup\":\"pablo velosa\",\"marker\":{\"color\":\"#00cc96\",\"pattern\":{\"shape\":\"\"}},\"name\":\"pablo velosa\",\"offsetgroup\":\"pablo velosa\",\"orientation\":\"h\",\"showlegend\":true,\"xaxis\":\"x\",\"y\":[\"pablo velosa\"],\"yaxis\":\"y\",\"type\":\"histogram\"},{\"alignmentgroup\":\"True\",\"bingroup\":\"y\",\"hovertemplate\":\"Owner=%{y}<br>count=%{x}<extra></extra>\",\"legendgroup\":\"Doi Tung Development Project\",\"marker\":{\"color\":\"#ab63fa\",\"pattern\":{\"shape\":\"\"}},\"name\":\"Doi Tung Development Project\",\"offsetgroup\":\"Doi Tung Development Project\",\"orientation\":\"h\",\"showlegend\":true,\"xaxis\":\"x\",\"y\":[\"Doi Tung Development Project\",\"Doi Tung Development Project\",\"Doi Tung Development Project\",\"Doi Tung Development Project\",\"Doi Tung Development Project\",\"Doi Tung Development Project\",\"Doi Tung Development Project\"],\"yaxis\":\"y\",\"type\":\"histogram\"},{\"alignmentgroup\":\"True\",\"bingroup\":\"y\",\"hovertemplate\":\"Owner=%{y}<br>count=%{x}<extra></extra>\",\"legendgroup\":\"Kawacom Uganda LTD\",\"marker\":{\"color\":\"#FFA15A\",\"pattern\":{\"shape\":\"\"}},\"name\":\"Kawacom Uganda LTD\",\"offsetgroup\":\"Kawacom Uganda LTD\",\"orientation\":\"h\",\"showlegend\":true,\"xaxis\":\"x\",\"y\":[\"Kawacom Uganda LTD\"],\"yaxis\":\"y\",\"type\":\"histogram\"},{\"alignmentgroup\":\"True\",\"bingroup\":\"y\",\"hovertemplate\":\"Owner=%{y}<br>count=%{x}<extra></extra>\",\"legendgroup\":\"Wu Jhao Yun\",\"marker\":{\"color\":\"#19d3f3\",\"pattern\":{\"shape\":\"\"}},\"name\":\"Wu Jhao Yun\",\"offsetgroup\":\"Wu Jhao Yun\",\"orientation\":\"h\",\"showlegend\":true,\"xaxis\":\"x\",\"y\":[\"Wu Jhao Yun\"],\"yaxis\":\"y\",\"type\":\"histogram\"},{\"alignmentgroup\":\"True\",\"bingroup\":\"y\",\"hovertemplate\":\"Owner=%{y}<br>count=%{x}<extra></extra>\",\"legendgroup\":\"MR.BROWN CAFE\",\"marker\":{\"color\":\"#FF6692\",\"pattern\":{\"shape\":\"\"}},\"name\":\"MR.BROWN CAFE\",\"offsetgroup\":\"MR.BROWN CAFE\",\"orientation\":\"h\",\"showlegend\":true,\"xaxis\":\"x\",\"y\":[\"MR.BROWN CAFE\",\"MR.BROWN CAFE\",\"MR.BROWN CAFE\",\"MR.BROWN CAFE\"],\"yaxis\":\"y\",\"type\":\"histogram\"},{\"alignmentgroup\":\"True\",\"bingroup\":\"y\",\"hovertemplate\":\"Owner=%{y}<br>count=%{x}<extra></extra>\",\"legendgroup\":\"piradaPKPL\",\"marker\":{\"color\":\"#B6E880\",\"pattern\":{\"shape\":\"\"}},\"name\":\"piradaPKPL\",\"offsetgroup\":\"piradaPKPL\",\"orientation\":\"h\",\"showlegend\":true,\"xaxis\":\"x\",\"y\":[\"piradaPKPL\"],\"yaxis\":\"y\",\"type\":\"histogram\"},{\"alignmentgroup\":\"True\",\"bingroup\":\"y\",\"hovertemplate\":\"Owner=%{y}<br>count=%{x}<extra></extra>\",\"legendgroup\":\"CHEN SHAN DONG \\u9673\\u5584\\u6771\",\"marker\":{\"color\":\"#FF97FF\",\"pattern\":{\"shape\":\"\"}},\"name\":\"CHEN SHAN DONG \\u9673\\u5584\\u6771\",\"offsetgroup\":\"CHEN SHAN DONG \\u9673\\u5584\\u6771\",\"orientation\":\"h\",\"showlegend\":true,\"xaxis\":\"x\",\"y\":[\"CHEN SHAN DONG \\u9673\\u5584\\u6771\"],\"yaxis\":\"y\",\"type\":\"histogram\"},{\"alignmentgroup\":\"True\",\"bingroup\":\"y\",\"hovertemplate\":\"Owner=%{y}<br>count=%{x}<extra></extra>\",\"legendgroup\":\"Ipanema Coffees\",\"marker\":{\"color\":\"#FECB52\",\"pattern\":{\"shape\":\"\"}},\"name\":\"Ipanema Coffees\",\"offsetgroup\":\"Ipanema Coffees\",\"orientation\":\"h\",\"showlegend\":true,\"xaxis\":\"x\",\"y\":[\"Ipanema Coffees\",\"Ipanema Coffees\"],\"yaxis\":\"y\",\"type\":\"histogram\"},{\"alignmentgroup\":\"True\",\"bingroup\":\"y\",\"hovertemplate\":\"Owner=%{y}<br>count=%{x}<extra></extra>\",\"legendgroup\":\"Dao Heuang Group\",\"marker\":{\"color\":\"#636efa\",\"pattern\":{\"shape\":\"\"}},\"name\":\"Dao Heuang Group\",\"offsetgroup\":\"Dao Heuang Group\",\"orientation\":\"h\",\"showlegend\":true,\"xaxis\":\"x\",\"y\":[\"Dao Heuang Group\"],\"yaxis\":\"y\",\"type\":\"histogram\"},{\"alignmentgroup\":\"True\",\"bingroup\":\"y\",\"hovertemplate\":\"Owner=%{y}<br>count=%{x}<extra></extra>\",\"legendgroup\":\"CADEXSA\",\"marker\":{\"color\":\"#EF553B\",\"pattern\":{\"shape\":\"\"}},\"name\":\"CADEXSA\",\"offsetgroup\":\"CADEXSA\",\"orientation\":\"h\",\"showlegend\":true,\"xaxis\":\"x\",\"y\":[\"CADEXSA\",\"CADEXSA\"],\"yaxis\":\"y\",\"type\":\"histogram\"},{\"alignmentgroup\":\"True\",\"bingroup\":\"y\",\"hovertemplate\":\"Owner=%{y}<br>count=%{x}<extra></extra>\",\"legendgroup\":\"rodrigo amaya\",\"marker\":{\"color\":\"#00cc96\",\"pattern\":{\"shape\":\"\"}},\"name\":\"rodrigo amaya\",\"offsetgroup\":\"rodrigo amaya\",\"orientation\":\"h\",\"showlegend\":true,\"xaxis\":\"x\",\"y\":[\"rodrigo amaya\"],\"yaxis\":\"y\",\"type\":\"histogram\"},{\"alignmentgroup\":\"True\",\"bingroup\":\"y\",\"hovertemplate\":\"Owner=%{y}<br>count=%{x}<extra></extra>\",\"legendgroup\":\"Alvin La Vaughn Landry\",\"marker\":{\"color\":\"#ab63fa\",\"pattern\":{\"shape\":\"\"}},\"name\":\"Alvin La Vaughn Landry\",\"offsetgroup\":\"Alvin La Vaughn Landry\",\"orientation\":\"h\",\"showlegend\":true,\"xaxis\":\"x\",\"y\":[\"Alvin La Vaughn Landry\",\"Alvin La Vaughn Landry\"],\"yaxis\":\"y\",\"type\":\"histogram\"},{\"alignmentgroup\":\"True\",\"bingroup\":\"y\",\"hovertemplate\":\"Owner=%{y}<br>count=%{x}<extra></extra>\",\"legendgroup\":\"\\u90ed\\u4eae\\u5fd7 GuoLiangZhi\",\"marker\":{\"color\":\"#FFA15A\",\"pattern\":{\"shape\":\"\"}},\"name\":\"\\u90ed\\u4eae\\u5fd7 GuoLiangZhi\",\"offsetgroup\":\"\\u90ed\\u4eae\\u5fd7 GuoLiangZhi\",\"orientation\":\"h\",\"showlegend\":true,\"xaxis\":\"x\",\"y\":[\"\\u90ed\\u4eae\\u5fd7 GuoLiangZhi\"],\"yaxis\":\"y\",\"type\":\"histogram\"},{\"alignmentgroup\":\"True\",\"bingroup\":\"y\",\"hovertemplate\":\"Owner=%{y}<br>count=%{x}<extra></extra>\",\"legendgroup\":\"Simexco DakLak\",\"marker\":{\"color\":\"#19d3f3\",\"pattern\":{\"shape\":\"\"}},\"name\":\"Simexco DakLak\",\"offsetgroup\":\"Simexco DakLak\",\"orientation\":\"h\",\"showlegend\":true,\"xaxis\":\"x\",\"y\":[\"Simexco DakLak\"],\"yaxis\":\"y\",\"type\":\"histogram\"},{\"alignmentgroup\":\"True\",\"bingroup\":\"y\",\"hovertemplate\":\"Owner=%{y}<br>count=%{x}<extra></extra>\",\"legendgroup\":\"Exportadora Atlantic, S.A.\",\"marker\":{\"color\":\"#FF6692\",\"pattern\":{\"shape\":\"\"}},\"name\":\"Exportadora Atlantic, S.A.\",\"offsetgroup\":\"Exportadora Atlantic, S.A.\",\"orientation\":\"h\",\"showlegend\":true,\"xaxis\":\"x\",\"y\":[\"Exportadora Atlantic, S.A.\",\"Exportadora Atlantic, S.A.\"],\"yaxis\":\"y\",\"type\":\"histogram\"},{\"alignmentgroup\":\"True\",\"bingroup\":\"y\",\"hovertemplate\":\"Owner=%{y}<br>count=%{x}<extra></extra>\",\"legendgroup\":\"Yukinobu Ueda\",\"marker\":{\"color\":\"#B6E880\",\"pattern\":{\"shape\":\"\"}},\"name\":\"Yukinobu Ueda\",\"offsetgroup\":\"Yukinobu Ueda\",\"orientation\":\"h\",\"showlegend\":true,\"xaxis\":\"x\",\"y\":[\"Yukinobu Ueda\"],\"yaxis\":\"y\",\"type\":\"histogram\"},{\"alignmentgroup\":\"True\",\"bingroup\":\"y\",\"hovertemplate\":\"Owner=%{y}<br>count=%{x}<extra></extra>\",\"legendgroup\":\"Sajcha tawaytibhong\",\"marker\":{\"color\":\"#FF97FF\",\"pattern\":{\"shape\":\"\"}},\"name\":\"Sajcha tawaytibhong\",\"offsetgroup\":\"Sajcha tawaytibhong\",\"orientation\":\"h\",\"showlegend\":true,\"xaxis\":\"x\",\"y\":[\"Sajcha tawaytibhong\"],\"yaxis\":\"y\",\"type\":\"histogram\"},{\"alignmentgroup\":\"True\",\"bingroup\":\"y\",\"hovertemplate\":\"Owner=%{y}<br>count=%{x}<extra></extra>\",\"legendgroup\":\"Consejo Salvadore\\u00f1o del Caf\\u00e9\",\"marker\":{\"color\":\"#FECB52\",\"pattern\":{\"shape\":\"\"}},\"name\":\"Consejo Salvadore\\u00f1o del Caf\\u00e9\",\"offsetgroup\":\"Consejo Salvadore\\u00f1o del Caf\\u00e9\",\"orientation\":\"h\",\"showlegend\":true,\"xaxis\":\"x\",\"y\":[\"Consejo Salvadore\\u00f1o del Caf\\u00e9\",\"Consejo Salvadore\\u00f1o del Caf\\u00e9\",\"Consejo Salvadore\\u00f1o del Caf\\u00e9\"],\"yaxis\":\"y\",\"type\":\"histogram\"},{\"alignmentgroup\":\"True\",\"bingroup\":\"y\",\"hovertemplate\":\"Owner=%{y}<br>count=%{x}<extra></extra>\",\"legendgroup\":\"ED&F Man Volcafe Brasil Ltda.\",\"marker\":{\"color\":\"#636efa\",\"pattern\":{\"shape\":\"\"}},\"name\":\"ED&F Man Volcafe Brasil Ltda.\",\"offsetgroup\":\"ED&F Man Volcafe Brasil Ltda.\",\"orientation\":\"h\",\"showlegend\":true,\"xaxis\":\"x\",\"y\":[\"ED&F Man Volcafe Brasil Ltda.\"],\"yaxis\":\"y\",\"type\":\"histogram\"},{\"alignmentgroup\":\"True\",\"bingroup\":\"y\",\"hovertemplate\":\"Owner=%{y}<br>count=%{x}<extra></extra>\",\"legendgroup\":\"Sunvirtue Co., Ltd.\",\"marker\":{\"color\":\"#EF553B\",\"pattern\":{\"shape\":\"\"}},\"name\":\"Sunvirtue Co., Ltd.\",\"offsetgroup\":\"Sunvirtue Co., Ltd.\",\"orientation\":\"h\",\"showlegend\":true,\"xaxis\":\"x\",\"y\":[\"Sunvirtue Co., Ltd.\"],\"yaxis\":\"y\",\"type\":\"histogram\"},{\"alignmentgroup\":\"True\",\"bingroup\":\"y\",\"hovertemplate\":\"Owner=%{y}<br>count=%{x}<extra></extra>\",\"legendgroup\":\"Kiichiro Iwata\",\"marker\":{\"color\":\"#00cc96\",\"pattern\":{\"shape\":\"\"}},\"name\":\"Kiichiro Iwata\",\"offsetgroup\":\"Kiichiro Iwata\",\"orientation\":\"h\",\"showlegend\":true,\"xaxis\":\"x\",\"y\":[\"Kiichiro Iwata\",\"Kiichiro Iwata\",\"Kiichiro Iwata\"],\"yaxis\":\"y\",\"type\":\"histogram\"},{\"alignmentgroup\":\"True\",\"bingroup\":\"y\",\"hovertemplate\":\"Owner=%{y}<br>count=%{x}<extra></extra>\",\"legendgroup\":\"Volcafe Japan\",\"marker\":{\"color\":\"#ab63fa\",\"pattern\":{\"shape\":\"\"}},\"name\":\"Volcafe Japan\",\"offsetgroup\":\"Volcafe Japan\",\"orientation\":\"h\",\"showlegend\":true,\"xaxis\":\"x\",\"y\":[\"Volcafe Japan\"],\"yaxis\":\"y\",\"type\":\"histogram\"},{\"alignmentgroup\":\"True\",\"bingroup\":\"y\",\"hovertemplate\":\"Owner=%{y}<br>count=%{x}<extra></extra>\",\"legendgroup\":\"Anderson Wong\",\"marker\":{\"color\":\"#FFA15A\",\"pattern\":{\"shape\":\"\"}},\"name\":\"Anderson Wong\",\"offsetgroup\":\"Anderson Wong\",\"orientation\":\"h\",\"showlegend\":true,\"xaxis\":\"x\",\"y\":[\"Anderson Wong\"],\"yaxis\":\"y\",\"type\":\"histogram\"},{\"alignmentgroup\":\"True\",\"bingroup\":\"y\",\"hovertemplate\":\"Owner=%{y}<br>count=%{x}<extra></extra>\",\"legendgroup\":\"Rodney Murray\",\"marker\":{\"color\":\"#19d3f3\",\"pattern\":{\"shape\":\"\"}},\"name\":\"Rodney Murray\",\"offsetgroup\":\"Rodney Murray\",\"orientation\":\"h\",\"showlegend\":true,\"xaxis\":\"x\",\"y\":[\"Rodney Murray\"],\"yaxis\":\"y\",\"type\":\"histogram\"},{\"alignmentgroup\":\"True\",\"bingroup\":\"y\",\"hovertemplate\":\"Owner=%{y}<br>count=%{x}<extra></extra>\",\"legendgroup\":\"Ruddy Azofeifa\",\"marker\":{\"color\":\"#FF6692\",\"pattern\":{\"shape\":\"\"}},\"name\":\"Ruddy Azofeifa\",\"offsetgroup\":\"Ruddy Azofeifa\",\"orientation\":\"h\",\"showlegend\":true,\"xaxis\":\"x\",\"y\":[\"Ruddy Azofeifa\"],\"yaxis\":\"y\",\"type\":\"histogram\"},{\"alignmentgroup\":\"True\",\"bingroup\":\"y\",\"hovertemplate\":\"Owner=%{y}<br>count=%{x}<extra></extra>\",\"legendgroup\":\"Roselia Yglesias\",\"marker\":{\"color\":\"#B6E880\",\"pattern\":{\"shape\":\"\"}},\"name\":\"Roselia Yglesias\",\"offsetgroup\":\"Roselia Yglesias\",\"orientation\":\"h\",\"showlegend\":true,\"xaxis\":\"x\",\"y\":[\"Roselia Yglesias\",\"Roselia Yglesias\",\"Roselia Yglesias\"],\"yaxis\":\"y\",\"type\":\"histogram\"},{\"alignmentgroup\":\"True\",\"bingroup\":\"y\",\"hovertemplate\":\"Owner=%{y}<br>count=%{x}<extra></extra>\",\"legendgroup\":\"\\u4e38\\u5c71\\u82b1\\u7e54\",\"marker\":{\"color\":\"#FF97FF\",\"pattern\":{\"shape\":\"\"}},\"name\":\"\\u4e38\\u5c71\\u82b1\\u7e54\",\"offsetgroup\":\"\\u4e38\\u5c71\\u82b1\\u7e54\",\"orientation\":\"h\",\"showlegend\":true,\"xaxis\":\"x\",\"y\":[\"\\u4e38\\u5c71\\u82b1\\u7e54\"],\"yaxis\":\"y\",\"type\":\"histogram\"},{\"alignmentgroup\":\"True\",\"bingroup\":\"y\",\"hovertemplate\":\"Owner=%{y}<br>count=%{x}<extra></extra>\",\"legendgroup\":\"SAJONIA ESTATE COFFEE S.A.\",\"marker\":{\"color\":\"#FECB52\",\"pattern\":{\"shape\":\"\"}},\"name\":\"SAJONIA ESTATE COFFEE S.A.\",\"offsetgroup\":\"SAJONIA ESTATE COFFEE S.A.\",\"orientation\":\"h\",\"showlegend\":true,\"xaxis\":\"x\",\"y\":[\"SAJONIA ESTATE COFFEE S.A.\"],\"yaxis\":\"y\",\"type\":\"histogram\"}],                        {\"template\":{\"data\":{\"histogram2dcontour\":[{\"type\":\"histogram2dcontour\",\"colorbar\":{\"outlinewidth\":0,\"ticks\":\"\"},\"colorscale\":[[0.0,\"#0d0887\"],[0.1111111111111111,\"#46039f\"],[0.2222222222222222,\"#7201a8\"],[0.3333333333333333,\"#9c179e\"],[0.4444444444444444,\"#bd3786\"],[0.5555555555555556,\"#d8576b\"],[0.6666666666666666,\"#ed7953\"],[0.7777777777777778,\"#fb9f3a\"],[0.8888888888888888,\"#fdca26\"],[1.0,\"#f0f921\"]]}],\"choropleth\":[{\"type\":\"choropleth\",\"colorbar\":{\"outlinewidth\":0,\"ticks\":\"\"}}],\"histogram2d\":[{\"type\":\"histogram2d\",\"colorbar\":{\"outlinewidth\":0,\"ticks\":\"\"},\"colorscale\":[[0.0,\"#0d0887\"],[0.1111111111111111,\"#46039f\"],[0.2222222222222222,\"#7201a8\"],[0.3333333333333333,\"#9c179e\"],[0.4444444444444444,\"#bd3786\"],[0.5555555555555556,\"#d8576b\"],[0.6666666666666666,\"#ed7953\"],[0.7777777777777778,\"#fb9f3a\"],[0.8888888888888888,\"#fdca26\"],[1.0,\"#f0f921\"]]}],\"heatmap\":[{\"type\":\"heatmap\",\"colorbar\":{\"outlinewidth\":0,\"ticks\":\"\"},\"colorscale\":[[0.0,\"#0d0887\"],[0.1111111111111111,\"#46039f\"],[0.2222222222222222,\"#7201a8\"],[0.3333333333333333,\"#9c179e\"],[0.4444444444444444,\"#bd3786\"],[0.5555555555555556,\"#d8576b\"],[0.6666666666666666,\"#ed7953\"],[0.7777777777777778,\"#fb9f3a\"],[0.8888888888888888,\"#fdca26\"],[1.0,\"#f0f921\"]]}],\"heatmapgl\":[{\"type\":\"heatmapgl\",\"colorbar\":{\"outlinewidth\":0,\"ticks\":\"\"},\"colorscale\":[[0.0,\"#0d0887\"],[0.1111111111111111,\"#46039f\"],[0.2222222222222222,\"#7201a8\"],[0.3333333333333333,\"#9c179e\"],[0.4444444444444444,\"#bd3786\"],[0.5555555555555556,\"#d8576b\"],[0.6666666666666666,\"#ed7953\"],[0.7777777777777778,\"#fb9f3a\"],[0.8888888888888888,\"#fdca26\"],[1.0,\"#f0f921\"]]}],\"contourcarpet\":[{\"type\":\"contourcarpet\",\"colorbar\":{\"outlinewidth\":0,\"ticks\":\"\"}}],\"contour\":[{\"type\":\"contour\",\"colorbar\":{\"outlinewidth\":0,\"ticks\":\"\"},\"colorscale\":[[0.0,\"#0d0887\"],[0.1111111111111111,\"#46039f\"],[0.2222222222222222,\"#7201a8\"],[0.3333333333333333,\"#9c179e\"],[0.4444444444444444,\"#bd3786\"],[0.5555555555555556,\"#d8576b\"],[0.6666666666666666,\"#ed7953\"],[0.7777777777777778,\"#fb9f3a\"],[0.8888888888888888,\"#fdca26\"],[1.0,\"#f0f921\"]]}],\"surface\":[{\"type\":\"surface\",\"colorbar\":{\"outlinewidth\":0,\"ticks\":\"\"},\"colorscale\":[[0.0,\"#0d0887\"],[0.1111111111111111,\"#46039f\"],[0.2222222222222222,\"#7201a8\"],[0.3333333333333333,\"#9c179e\"],[0.4444444444444444,\"#bd3786\"],[0.5555555555555556,\"#d8576b\"],[0.6666666666666666,\"#ed7953\"],[0.7777777777777778,\"#fb9f3a\"],[0.8888888888888888,\"#fdca26\"],[1.0,\"#f0f921\"]]}],\"mesh3d\":[{\"type\":\"mesh3d\",\"colorbar\":{\"outlinewidth\":0,\"ticks\":\"\"}}],\"scatter\":[{\"fillpattern\":{\"fillmode\":\"overlay\",\"size\":10,\"solidity\":0.2},\"type\":\"scatter\"}],\"parcoords\":[{\"type\":\"parcoords\",\"line\":{\"colorbar\":{\"outlinewidth\":0,\"ticks\":\"\"}}}],\"scatterpolargl\":[{\"type\":\"scatterpolargl\",\"marker\":{\"colorbar\":{\"outlinewidth\":0,\"ticks\":\"\"}}}],\"bar\":[{\"error_x\":{\"color\":\"#2a3f5f\"},\"error_y\":{\"color\":\"#2a3f5f\"},\"marker\":{\"line\":{\"color\":\"#E5ECF6\",\"width\":0.5},\"pattern\":{\"fillmode\":\"overlay\",\"size\":10,\"solidity\":0.2}},\"type\":\"bar\"}],\"scattergeo\":[{\"type\":\"scattergeo\",\"marker\":{\"colorbar\":{\"outlinewidth\":0,\"ticks\":\"\"}}}],\"scatterpolar\":[{\"type\":\"scatterpolar\",\"marker\":{\"colorbar\":{\"outlinewidth\":0,\"ticks\":\"\"}}}],\"histogram\":[{\"marker\":{\"pattern\":{\"fillmode\":\"overlay\",\"size\":10,\"solidity\":0.2}},\"type\":\"histogram\"}],\"scattergl\":[{\"type\":\"scattergl\",\"marker\":{\"colorbar\":{\"outlinewidth\":0,\"ticks\":\"\"}}}],\"scatter3d\":[{\"type\":\"scatter3d\",\"line\":{\"colorbar\":{\"outlinewidth\":0,\"ticks\":\"\"}},\"marker\":{\"colorbar\":{\"outlinewidth\":0,\"ticks\":\"\"}}}],\"scattermapbox\":[{\"type\":\"scattermapbox\",\"marker\":{\"colorbar\":{\"outlinewidth\":0,\"ticks\":\"\"}}}],\"scatterternary\":[{\"type\":\"scatterternary\",\"marker\":{\"colorbar\":{\"outlinewidth\":0,\"ticks\":\"\"}}}],\"scattercarpet\":[{\"type\":\"scattercarpet\",\"marker\":{\"colorbar\":{\"outlinewidth\":0,\"ticks\":\"\"}}}],\"carpet\":[{\"aaxis\":{\"endlinecolor\":\"#2a3f5f\",\"gridcolor\":\"white\",\"linecolor\":\"white\",\"minorgridcolor\":\"white\",\"startlinecolor\":\"#2a3f5f\"},\"baxis\":{\"endlinecolor\":\"#2a3f5f\",\"gridcolor\":\"white\",\"linecolor\":\"white\",\"minorgridcolor\":\"white\",\"startlinecolor\":\"#2a3f5f\"},\"type\":\"carpet\"}],\"table\":[{\"cells\":{\"fill\":{\"color\":\"#EBF0F8\"},\"line\":{\"color\":\"white\"}},\"header\":{\"fill\":{\"color\":\"#C8D4E3\"},\"line\":{\"color\":\"white\"}},\"type\":\"table\"}],\"barpolar\":[{\"marker\":{\"line\":{\"color\":\"#E5ECF6\",\"width\":0.5},\"pattern\":{\"fillmode\":\"overlay\",\"size\":10,\"solidity\":0.2}},\"type\":\"barpolar\"}],\"pie\":[{\"automargin\":true,\"type\":\"pie\"}]},\"layout\":{\"autotypenumbers\":\"strict\",\"colorway\":[\"#636efa\",\"#EF553B\",\"#00cc96\",\"#ab63fa\",\"#FFA15A\",\"#19d3f3\",\"#FF6692\",\"#B6E880\",\"#FF97FF\",\"#FECB52\"],\"font\":{\"color\":\"#2a3f5f\"},\"hovermode\":\"closest\",\"hoverlabel\":{\"align\":\"left\"},\"paper_bgcolor\":\"white\",\"plot_bgcolor\":\"#E5ECF6\",\"polar\":{\"bgcolor\":\"#E5ECF6\",\"angularaxis\":{\"gridcolor\":\"white\",\"linecolor\":\"white\",\"ticks\":\"\"},\"radialaxis\":{\"gridcolor\":\"white\",\"linecolor\":\"white\",\"ticks\":\"\"}},\"ternary\":{\"bgcolor\":\"#E5ECF6\",\"aaxis\":{\"gridcolor\":\"white\",\"linecolor\":\"white\",\"ticks\":\"\"},\"baxis\":{\"gridcolor\":\"white\",\"linecolor\":\"white\",\"ticks\":\"\"},\"caxis\":{\"gridcolor\":\"white\",\"linecolor\":\"white\",\"ticks\":\"\"}},\"coloraxis\":{\"colorbar\":{\"outlinewidth\":0,\"ticks\":\"\"}},\"colorscale\":{\"sequential\":[[0.0,\"#0d0887\"],[0.1111111111111111,\"#46039f\"],[0.2222222222222222,\"#7201a8\"],[0.3333333333333333,\"#9c179e\"],[0.4444444444444444,\"#bd3786\"],[0.5555555555555556,\"#d8576b\"],[0.6666666666666666,\"#ed7953\"],[0.7777777777777778,\"#fb9f3a\"],[0.8888888888888888,\"#fdca26\"],[1.0,\"#f0f921\"]],\"sequentialminus\":[[0.0,\"#0d0887\"],[0.1111111111111111,\"#46039f\"],[0.2222222222222222,\"#7201a8\"],[0.3333333333333333,\"#9c179e\"],[0.4444444444444444,\"#bd3786\"],[0.5555555555555556,\"#d8576b\"],[0.6666666666666666,\"#ed7953\"],[0.7777777777777778,\"#fb9f3a\"],[0.8888888888888888,\"#fdca26\"],[1.0,\"#f0f921\"]],\"diverging\":[[0,\"#8e0152\"],[0.1,\"#c51b7d\"],[0.2,\"#de77ae\"],[0.3,\"#f1b6da\"],[0.4,\"#fde0ef\"],[0.5,\"#f7f7f7\"],[0.6,\"#e6f5d0\"],[0.7,\"#b8e186\"],[0.8,\"#7fbc41\"],[0.9,\"#4d9221\"],[1,\"#276419\"]]},\"xaxis\":{\"gridcolor\":\"white\",\"linecolor\":\"white\",\"ticks\":\"\",\"title\":{\"standoff\":15},\"zerolinecolor\":\"white\",\"automargin\":true,\"zerolinewidth\":2},\"yaxis\":{\"gridcolor\":\"white\",\"linecolor\":\"white\",\"ticks\":\"\",\"title\":{\"standoff\":15},\"zerolinecolor\":\"white\",\"automargin\":true,\"zerolinewidth\":2},\"scene\":{\"xaxis\":{\"backgroundcolor\":\"#E5ECF6\",\"gridcolor\":\"white\",\"linecolor\":\"white\",\"showbackground\":true,\"ticks\":\"\",\"zerolinecolor\":\"white\",\"gridwidth\":2},\"yaxis\":{\"backgroundcolor\":\"#E5ECF6\",\"gridcolor\":\"white\",\"linecolor\":\"white\",\"showbackground\":true,\"ticks\":\"\",\"zerolinecolor\":\"white\",\"gridwidth\":2},\"zaxis\":{\"backgroundcolor\":\"#E5ECF6\",\"gridcolor\":\"white\",\"linecolor\":\"white\",\"showbackground\":true,\"ticks\":\"\",\"zerolinecolor\":\"white\",\"gridwidth\":2}},\"shapedefaults\":{\"line\":{\"color\":\"#2a3f5f\"}},\"annotationdefaults\":{\"arrowcolor\":\"#2a3f5f\",\"arrowhead\":0,\"arrowwidth\":1},\"geo\":{\"bgcolor\":\"white\",\"landcolor\":\"#E5ECF6\",\"subunitcolor\":\"white\",\"showland\":true,\"showlakes\":true,\"lakecolor\":\"white\"},\"title\":{\"x\":0.05},\"mapbox\":{\"style\":\"light\"}}},\"xaxis\":{\"anchor\":\"y\",\"domain\":[0.0,1.0],\"title\":{\"text\":\"count\"}},\"yaxis\":{\"anchor\":\"x\",\"domain\":[0.0,1.0],\"title\":{\"text\":\"Owner\"},\"categoryorder\":\"array\",\"categoryarray\":[\"SAJONIA ESTATE COFFEE S.A.\",\"\\u4e38\\u5c71\\u82b1\\u7e54\",\"Roselia Yglesias\",\"Ruddy Azofeifa\",\"Rodney Murray\",\"Anderson Wong\",\"Volcafe Japan\",\"Kiichiro Iwata\",\"Sunvirtue Co., Ltd.\",\"ED&F Man Volcafe Brasil Ltda.\",\"Consejo Salvadore\\u00f1o del Caf\\u00e9\",\"Sajcha tawaytibhong\",\"Yukinobu Ueda\",\"Exportadora Atlantic, S.A.\",\"Simexco DakLak\",\"\\u90ed\\u4eae\\u5fd7 GuoLiangZhi\",\"Alvin La Vaughn Landry\",\"rodrigo amaya\",\"CADEXSA\",\"Dao Heuang Group\",\"Ipanema Coffees\",\"CHEN SHAN DONG \\u9673\\u5584\\u6771\",\"piradaPKPL\",\"MR.BROWN CAFE\",\"Wu Jhao Yun\",\"Kawacom Uganda LTD\",\"Doi Tung Development Project\",\"pablo velosa\",\"Eliud Hernandez Gonzales\",\"Yongshun\",\"Coffee Quality Institute\",\"ANDREAS KUSSMAUL\",\"Ra\\u00fal Vargas\",\"Taylor Winch (Coffee) Ltd.\",\"Ikuto Uehara\",\"Descafeinadores Mexicanos S.A de C.V\",\"Kao,SIng-jay\",\"Marc Dumont\",\"Sucafina Colombia SAS\",\"Tadesse Desta\",\"\\u9ec3\\u6021\\u7444\",\"\\u674e\\u6653\\u6590 LI XIAO FEI\",\"Comercial Internacional de Granos de Honduras SA de CV\",\"Pu Han Wen\",\"rene j alcebo\",\"KUO, YA-TSUNG\",\"Joselyn Morales Quesada\",\"Rodrigo Soto\",\"Marcelo Itoh\",\"Balam Hinyula\",\"Charles Umeano\",\"Angelica Paola Citan Lopez\",\"Yesica Alejandra Mart\\u00ecnez V\\u00e0squez\",\"Liu Meng Tsung\\u5289\\u5b5f\\u5b97\",\"KYAGALANYI COFFEE LIMITED\",\"Taiwu\",\"Ethan Lee \\u674e\\u5b97\\u5112\",\"CHEN RONG FENG\",\"Judith Murimi\",\"Hsu Ting Yey\\u8a31\\u5b9a\\u71c1\",\"YHAENU PLC\",\"Tadessa Desta Amene\",\"Tamiru Tadesse Tesema\",\"Zhang Jin Yi \\u5f35\\u9032\\u7fa9\",\"Jhih Hao,GUO \\u90ed\\u5fd7\\u8c6a\",\"Fang, Cheng Lun \\u65b9\\u653f\\u502b\",\"Andre Clark\",\"Christian Charmette\",\"Yu Ting Yu \\u6e38\\u5a77\\u6def\",\"Carlos Pascual - \\u6f58\\u4ed5\\u6770\",\"\\u738b\\u7005\\u60e0\",\"Dongbi\",\"PeiHsun Lin\",\"Isreal Degefa\",\"Goodfun\",\"Full Sweet Coffee\",\"ERI ASAEDA\",\"Gilbert Maina\",\"Taiwan Coffee Laboratory \\u53f0\\u7063\\u5496\\u5561\\u7814\\u7a76\\u5ba4\",\"Coffee Quality Union\"]},\"legend\":{\"title\":{\"text\":\"Owner\"},\"tracegroupgap\":0},\"margin\":{\"t\":60},\"barmode\":\"relative\"},                        {\"responsive\": true}                    ).then(function(){\n",
       "                            \n",
       "var gd = document.getElementById('a208b165-ee6e-4f5c-a75e-5d60cf4670ce');\n",
       "var x = new MutationObserver(function (mutations, observer) {{\n",
       "        var display = window.getComputedStyle(gd).display;\n",
       "        if (!display || display === 'none') {{\n",
       "            console.log([gd, 'removed!']);\n",
       "            Plotly.purge(gd);\n",
       "            observer.disconnect();\n",
       "        }}\n",
       "}});\n",
       "\n",
       "// Listen for the removal of the full notebook cells\n",
       "var notebookContainer = gd.closest('#notebook-container');\n",
       "if (notebookContainer) {{\n",
       "    x.observe(notebookContainer, {childList: true});\n",
       "}}\n",
       "\n",
       "// Listen for the clearing of the current output cell\n",
       "var outputEl = gd.closest('.output');\n",
       "if (outputEl) {{\n",
       "    x.observe(outputEl, {childList: true});\n",
       "}}\n",
       "\n",
       "                        })                };                });            </script>        </div>"
      ]
     },
     "metadata": {},
     "output_type": "display_data"
    }
   ],
   "source": [
    "\n",
    "fig = px.histogram(coffee_data, y=\"Owner\", color=\"Owner\")\n",
    "fig.show()"
   ]
  },
  {
   "cell_type": "code",
   "execution_count": 224,
   "id": "6b30eb21",
   "metadata": {},
   "outputs": [
    {
     "data": {
      "image/png": "[encoded data removed]",
      "text/plain": [
       "<Figure size 500x500 with 1 Axes>"
      ]
     },
     "metadata": {},
     "output_type": "display_data"
    }
   ],
   "source": [
    "# lets the relation between \"Balance\" and \"Total_Cup_Points\"\n",
    "sns.catplot(data=coffee_data, kind=\"bar\", x=\"Balance\", y=\"Total_Cup_Points\",palette= \"rocket\")\n",
    "plt.xticks(rotation=90)\n",
    "plt.show()"
   ]
  },
  {
   "cell_type": "code",
   "execution_count": 225,
   "id": "0129f5c3",
   "metadata": {},
   "outputs": [
    {
     "data": {
      "image/png": "[encoded data removed]",
      "text/plain": [
       "<Figure size 500x500 with 1 Axes>"
      ]
     },
     "metadata": {},
     "output_type": "display_data"
    }
   ],
   "source": [
    "sns.catplot(data=coffee_data, kind=\"bar\", x=\"Flavor\", y=\"Total_Cup_Points\",palette=\"cubehelix\")\n",
    "plt.xticks(rotation=90)\n",
    "plt.show()"
   ]
  },
  {
   "cell_type": "code",
   "execution_count": 226,
   "id": "f0efabcf",
   "metadata": {},
   "outputs": [
    {
     "data": {
      "image/png": "[encoded data removed]",
      "text/plain": [
       "<Figure size 500x500 with 1 Axes>"
      ]
     },
     "metadata": {},
     "output_type": "display_data"
    }
   ],
   "source": [
    "# lets the relation between \"Aftertaste\" and \"Total_Cup_Points\"\n",
    "sns.catplot(data=coffee_data, kind=\"bar\", x=\"Aftertaste\", y=\"Total_Cup_Points\",palette=\"viridis\")\n",
    "plt.xticks(rotation=90)\n",
    "plt.show()"
   ]
  },
  {
   "cell_type": "code",
   "execution_count": 227,
   "id": "196c1cae",
   "metadata": {},
   "outputs": [
    {
     "data": {
      "text/plain": [
       "<Figure size 1000x2000 with 0 Axes>"
      ]
     },
     "metadata": {},
     "output_type": "display_data"
    },
    {
     "data": {
      "image/png": "[encoded data removed]",
      "text/plain": [
       "<Figure size 500x500 with 1 Axes>"
      ]
     },
     "metadata": {},
     "output_type": "display_data"
    }
   ],
   "source": [
    "# lets the relation between \"Acidity\" and \"Total_Cup_Points\"\n",
    "plt.figure(figsize=(10,20))\n",
    "sns.catplot(data=coffee_data, kind=\"bar\", x=\"Acidity\", y=\"Total_Cup_Points\",palette=\"flare\")\n",
    "plt.xticks(rotation=90)\n",
    "plt.show()"
   ]
  },
  {
   "cell_type": "markdown",
   "id": "e25f0ec6",
   "metadata": {},
   "source": [
    "## Analysing coffee quality."
   ]
  },
  {
   "cell_type": "code",
   "execution_count": 228,
   "id": "a4955e85",
   "metadata": {},
   "outputs": [
    {
     "data": {
      "image/png": "[encoded data removed]",
      "text/plain": [
       "<Figure size 640x480 with 1 Axes>"
      ]
     },
     "metadata": {},
     "output_type": "display_data"
    }
   ],
   "source": [
    "# Plot a histogram of coffee quality scores\n",
    "\n",
    "plt.hist(coffee_data[\"Total_Cup_Points\"], bins=12)\n",
    "plt.xlabel('Total Cup Points')\n",
    "plt.ylabel('Frequency')\n",
    "plt.title('Distribution of Coffee Quality Scores')\n",
    "plt.show()"
   ]
  },
  {
   "cell_type": "code",
   "execution_count": 229,
   "id": "90289d7f",
   "metadata": {},
   "outputs": [
    {
     "data": {
      "image/png": "[encoded data removed]",
      "text/plain": [
       "<Figure size 1000x600 with 1 Axes>"
      ]
     },
     "metadata": {},
     "output_type": "display_data"
    }
   ],
   "source": [
    "# Plot a bar chart of coffee quality scores by country\n",
    "plt.figure(figsize=(10, 6))\n",
    "sns.barplot(x='Country', y='Total_Cup_Points', data= coffee_data)\n",
    "plt.xlabel('Country of Origin')\n",
    "plt.ylabel('Total Cup Points')\n",
    "plt.title('Coffee Quality Scores by Country')\n",
    "plt.xticks(rotation=90)\n",
    "plt.show()"
   ]
  },
  {
   "cell_type": "code",
   "execution_count": 239,
   "id": "45facc4d",
   "metadata": {},
   "outputs": [
    {
     "data": {
      "image/png": "[encoded data removed]",
      "text/plain": [
       "<Figure size 2200x800 with 1 Axes>"
      ]
     },
     "metadata": {},
     "output_type": "display_data"
    }
   ],
   "source": [
    "# Generate a scatter plot of altitude vs. coffee quality scores\n",
    "plt.figure(figsize=(22, 8))\n",
    "sns.scatterplot(x='Altitude', y='Total_Cup_Points', data=coffee_data)\n",
    "plt.xlabel('Altitude')\n",
    "plt.ylabel('Total Cup Points')\n",
    "plt.title('Altitude vs. Coffee Quality Scores')\n",
    "plt.xticks(rotation=90)\n",
    "plt.show()"
   ]
  },
  {
   "cell_type": "code",
   "execution_count": 232,
   "id": "c8eb9084",
   "metadata": {},
   "outputs": [
    {
     "data": {
      "image/png": "[encoded data removed]",
      "text/plain": [
       "<Figure size 1000x600 with 1 Axes>"
      ]
     },
     "metadata": {},
     "output_type": "display_data"
    }
   ],
   "source": [
    "# Bar plot of \"Country of Origin\" frequencies\n",
    "plt.figure(figsize=(10, 6))\n",
    "sns.countplot(x=\"Country\", data= coffee_data)\n",
    "plt.xlabel(\"Country of Origin\")\n",
    "plt.ylabel(\"Frequency\")\n",
    "plt.title(\"Distribution of Coffee by Country\")\n",
    "plt.xticks(rotation=90)\n",
    "plt.show()"
   ]
  },
  {
   "cell_type": "code",
   "execution_count": 247,
   "id": "5ba99203",
   "metadata": {},
   "outputs": [
    {
     "name": "stdout",
     "output_type": "stream",
     "text": [
      "count     156.000000\n",
      "mean     1321.076923\n",
      "std       689.748066\n",
      "min       139.000000\n",
      "25%      1100.000000\n",
      "50%      1300.000000\n",
      "75%      1600.000000\n",
      "max      5400.000000\n",
      "Name: Altitude, dtype: float64\n",
      "Mean Altitude: 1321.076923076923\n",
      "Median Altitude: 1300.0\n",
      "Standard Deviation of Altitude: 689.7480656331445\n"
     ]
    },
    {
     "data": {
      "image/png": "[encoded data removed]",
      "text/plain": [
       "<Figure size 800x600 with 1 Axes>"
      ]
     },
     "metadata": {},
     "output_type": "display_data"
    },
    {
     "data": {
      "image/png": "[encoded data removed]",
      "text/plain": [
       "<Figure size 800x600 with 1 Axes>"
      ]
     },
     "metadata": {},
     "output_type": "display_data"
    }
   ],
   "source": [
    "# Convert the 'Altitude' column to numeric (if necessary)\n",
    "coffee_data['Altitude'] = pd.to_numeric(coffee_data['Altitude'], errors='coerce')\n",
    "\n",
    "# Summary statistics of 'Altitude'\n",
    "altitude_stats = coffee_data['Altitude'].describe()\n",
    "print(altitude_stats)\n",
    "\n",
    "# Calculate mean\n",
    "mean_altitude = coffee_data['Altitude'].mean()\n",
    "print(\"Mean Altitude:\", mean_altitude)\n",
    "\n",
    "# Calculate median\n",
    "median_altitude = coffee_data['Altitude'].median()\n",
    "print(\"Median Altitude:\", median_altitude)\n",
    "\n",
    "# Calculate standard deviation\n",
    "std_altitude = coffee_data['Altitude'].std()\n",
    "print(\"Standard Deviation of Altitude:\", std_altitude)\n",
    "\n",
    "# Visualize the distribution using a histogram\n",
    "plt.figure(figsize=(8, 6))\n",
    "coffee_data['Altitude'].dropna().plot.hist(bins=10)\n",
    "plt.xlabel('Altitude')\n",
    "plt.ylabel('Frequency')\n",
    "plt.title('Distribution of Altitude')\n",
    "plt.show()\n",
    "\n",
    "# Visualize the distribution using a box plot\n",
    "plt.figure(figsize=(8, 6))\n",
    "sns.boxplot(x= coffee_data['Altitude'].dropna())\n",
    "plt.xlabel('Altitude')\n",
    "plt.title('Box Plot of Altitude')\n",
    "plt.show()"
   ]
  }
 ],
 "metadata": {
  "kernelspec": {
   "display_name": "Python 3 (ipykernel)",
   "language": "python",
   "name": "python3"
  },
  "language_info": {
   "codemirror_mode": {
    "name": "ipython",
    "version": 3
   },
   "file_extension": ".py",
   "mimetype": "text/x-python",
   "name": "python",
   "nbconvert_exporter": "python",
   "pygments_lexer": "ipython3",
   "version": "3.10.9"
  }
 },
 "nbformat": 4,
 "nbformat_minor": 5
}
